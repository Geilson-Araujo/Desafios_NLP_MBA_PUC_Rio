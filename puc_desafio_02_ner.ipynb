{
  "nbformat": 4,
  "nbformat_minor": 0,
  "metadata": {
    "colab": {
      "name": "puc_desafio_02_ner.ipynb",
      "provenance": [],
      "collapsed_sections": [],
      "authorship_tag": "ABX9TyMorPNJsokxbmMzfvXMT+hh",
      "include_colab_link": true
    },
    "kernelspec": {
      "name": "python3",
      "display_name": "Python 3"
    },
    "language_info": {
      "name": "python"
    },
    "accelerator": "GPU"
  },
  "cells": [
    {
      "cell_type": "markdown",
      "metadata": {
        "id": "view-in-github",
        "colab_type": "text"
      },
      "source": [
        "<a href=\"https://colab.research.google.com/github/Geilson-Araujo/Desafios_NLP_MBA_PUC_Rio/blob/main/puc_desafio_02_ner.ipynb\" target=\"_parent\"><img src=\"https://colab.research.google.com/assets/colab-badge.svg\" alt=\"Open In Colab\"/></a>"
      ]
    },
    {
      "cell_type": "code",
      "metadata": {
        "colab": {
          "base_uri": "https://localhost:8080/"
        },
        "id": "xt6QYjAb3ZS-",
        "outputId": "395f0e86-0c5a-4f5f-aa2b-ef74cb486171"
      },
      "source": [
        "!pip install -U --quiet spacy\n",
        "!python -m spacy validate"
      ],
      "execution_count": 1,
      "outputs": [
        {
          "output_type": "stream",
          "text": [
            "2021-04-07 06:56:39.993953: I tensorflow/stream_executor/platform/default/dso_loader.cc:49] Successfully opened dynamic library libcudart.so.11.0\n",
            "\u001b[2K\u001b[38;5;2m✔ Loaded compatibility table\u001b[0m\n",
            "\u001b[1m\n",
            "================= Installed pipeline packages (spaCy v3.0.5) =================\u001b[0m\n",
            "\u001b[38;5;4mℹ spaCy installation: /usr/local/lib/python3.7/dist-packages/spacy\u001b[0m\n",
            "\n",
            "No pipeline packages found in your current environment.\n",
            "\n"
          ],
          "name": "stdout"
        }
      ]
    },
    {
      "cell_type": "code",
      "metadata": {
        "colab": {
          "base_uri": "https://localhost:8080/"
        },
        "id": "zU0WEVOh23c8",
        "outputId": "579cf916-1ce6-412e-8afe-e9c1d2868509"
      },
      "source": [
        "import pandas as pd\n",
        "import spacy\n",
        "\n",
        "print(spacy.__version__)"
      ],
      "execution_count": 2,
      "outputs": [
        {
          "output_type": "stream",
          "text": [
            "3.0.5\n"
          ],
          "name": "stdout"
        }
      ]
    },
    {
      "cell_type": "code",
      "metadata": {
        "colab": {
          "base_uri": "https://localhost:8080/"
        },
        "id": "4AHR_BP93VAw",
        "outputId": "64d2da9d-3f39-4271-93ea-f9b94afca9bd"
      },
      "source": [
        "!python -m spacy debug data config.cfg"
      ],
      "execution_count": 3,
      "outputs": [
        {
          "output_type": "stream",
          "text": [
            "2021-04-07 06:56:45.681292: I tensorflow/stream_executor/platform/default/dso_loader.cc:49] Successfully opened dynamic library libcudart.so.11.0\n",
            "\u001b[1m\n",
            "============================ Data file validation ============================\u001b[0m\n",
            "\u001b[38;5;2m✔ Corpus is loadable\u001b[0m\n",
            "\u001b[38;5;2m✔ Pipeline can be initialized with data\u001b[0m\n",
            "\u001b[1m\n",
            "=============================== Training stats ===============================\u001b[0m\n",
            "Language: en\n",
            "Training pipeline: tok2vec, ner\n",
            "5823 training docs\n",
            "4650 evaluation docs\n",
            "\u001b[38;5;2m✔ No overlap between training and evaluation data\u001b[0m\n",
            "\u001b[1m\n",
            "============================== Vocab & Vectors ==============================\u001b[0m\n",
            "\u001b[38;5;4mℹ 1367193 total word(s) in the data (57662 unique)\u001b[0m\n",
            "\u001b[38;5;4mℹ No word vectors present in the package\u001b[0m\n",
            "\u001b[1m\n",
            "========================== Named Entity Recognition ==========================\u001b[0m\n",
            "\u001b[38;5;4mℹ 0 new label(s), 3 existing label(s)\u001b[0m\n",
            "0 missing value(s) (tokens with '-' label)\n",
            "\u001b[38;5;3m⚠ 231 entity span(s) with punctuation\u001b[0m\n",
            "\u001b[38;5;2m✔ Good amount of examples for all labels\u001b[0m\n",
            "\u001b[38;5;2m✔ Examples without occurrences available for all labels\u001b[0m\n",
            "\u001b[38;5;2m✔ No entities consisting of or starting/ending with whitespace\u001b[0m\n",
            "Entity spans consisting of or starting/ending with punctuation can not be\n",
            "trained with a noise level > 0.\n",
            "\u001b[1m\n",
            "================================== Summary ==================================\u001b[0m\n",
            "\u001b[38;5;2m✔ 6 checks passed\u001b[0m\n",
            "\u001b[38;5;3m⚠ 1 warning\u001b[0m\n"
          ],
          "name": "stdout"
        }
      ]
    },
    {
      "cell_type": "code",
      "metadata": {
        "colab": {
          "base_uri": "https://localhost:8080/"
        },
        "id": "LUUsjlm1317U",
        "outputId": "90a30ba0-e978-4d67-c364-7e633a1347e9"
      },
      "source": [
        "%%time\n",
        "!python -m spacy train config.cfg --gpu-id 0 --output ./"
      ],
      "execution_count": 4,
      "outputs": [
        {
          "output_type": "stream",
          "text": [
            "2021-04-07 06:58:20.613776: I tensorflow/stream_executor/platform/default/dso_loader.cc:49] Successfully opened dynamic library libcudart.so.11.0\n",
            "\u001b[38;5;4mℹ Using GPU: 0\u001b[0m\n",
            "\u001b[1m\n",
            "=========================== Initializing pipeline ===========================\u001b[0m\n",
            "[2021-04-07 06:58:22,533] [INFO] Set up nlp object from config\n",
            "[2021-04-07 06:58:22,542] [INFO] Pipeline: ['tok2vec', 'ner']\n",
            "[2021-04-07 06:58:22,546] [INFO] Created vocabulary\n",
            "[2021-04-07 06:58:22,546] [INFO] Finished initializing nlp object\n",
            "[2021-04-07 06:58:39,255] [INFO] Initialized pipeline components: ['tok2vec', 'ner']\n",
            "\u001b[38;5;2m✔ Initialized pipeline\u001b[0m\n",
            "\u001b[1m\n",
            "============================= Training pipeline =============================\u001b[0m\n",
            "\u001b[38;5;4mℹ Pipeline: ['tok2vec', 'ner']\u001b[0m\n",
            "\u001b[38;5;4mℹ Initial learn rate: 0.001\u001b[0m\n",
            "E    #       LOSS TOK2VEC  LOSS NER  ENTS_F  ENTS_P  ENTS_R  SCORE \n",
            "---  ------  ------------  --------  ------  ------  ------  ------\n",
            "  0       0          0.00    101.36    0.00    0.00    0.00    0.00\n",
            "  0     200       1554.23   4982.49    0.00    0.00    0.00    0.00\n",
            "  0     400       1142.77   3450.52    0.10    1.17    0.05    0.00\n",
            "  0     600        171.04   3030.02   16.69   65.35    9.56    0.17\n",
            "  0     800        149.63   2792.75   18.36   60.56   10.82    0.18\n",
            "  0    1000        178.96   2807.29   28.38   40.73   21.78    0.28\n",
            "  0    1200        203.39   2746.83   22.45   71.60   13.31    0.22\n",
            "  0    1400       1519.02   2708.09   19.35   53.46   11.82    0.19\n",
            "  0    1600        242.96   2752.01   25.88   69.55   15.90    0.26\n",
            "  0    1800       1535.16   2693.31   24.93   34.55   19.51    0.25\n",
            "  0    2000        384.52   2882.27   33.51   49.16   25.41    0.34\n",
            "  0    2200        476.35   2637.73   35.57   62.12   24.92    0.36\n",
            "  0    2400        639.40   2646.99   32.23   59.30   22.13    0.32\n",
            "  0    2600        288.66   2280.50   36.96   59.65   26.77    0.37\n",
            "  0    2800        592.01   2388.91   36.47   69.92   24.67    0.36\n",
            "  0    3000        342.66   2248.82   41.02   52.13   33.82    0.41\n",
            "  0    3200        404.67   2621.50   32.52   68.15   21.35    0.33\n",
            "  0    3400        790.60   2590.14   33.48   66.78   22.34    0.33\n",
            "  0    3600        627.81   2608.92   43.08   61.26   33.22    0.43\n",
            "  0    3800        493.63   2505.24   36.33   57.00   26.66    0.36\n",
            "  0    4000        937.86   2521.98   41.14   72.81   28.67    0.41\n",
            "  0    4200        468.01   2470.33   33.81   68.80   22.41    0.34\n",
            "  0    4400        650.84   2352.76   29.32   52.85   20.29    0.29\n",
            "  0    4600       4376.74   2517.88   43.66   66.27   32.56    0.44\n",
            "  0    4800        589.05   2527.01   45.99   64.79   35.64    0.46\n",
            "  0    5000        655.97   2847.92   44.09   56.60   36.10    0.44\n",
            "  0    5200        894.82   3132.97   43.89   53.60   37.16    0.44\n",
            "  0    5400        928.53   3907.83   39.60   55.82   30.68    0.40\n",
            "  1    5600       1523.64   4602.95   49.99   62.18   41.79    0.50\n",
            "  1    5800       1830.41   5834.63   47.57   56.93   40.85    0.48\n",
            "  1    6000       1638.01   6445.75   51.64   66.93   42.03    0.52\n",
            "  1    6200       5674.03   7262.38   48.98   53.88   44.89    0.49\n",
            "  1    6400       2591.95   7154.73   53.85   67.01   45.01    0.54\n",
            "  1    6600       1776.11   6661.51   50.69   66.73   40.87    0.51\n",
            "  1    6800       1791.44   7081.99   52.93   60.42   47.09    0.53\n",
            "  1    7000       2700.81   6802.51   54.98   64.77   47.76    0.55\n",
            "  2    7200      13540.72   7006.76   54.36   62.22   48.26    0.54\n",
            "  2    7400      14802.74   6044.75   54.47   60.86   49.29    0.54\n",
            "  2    7600       2255.05   6005.49   55.10   62.05   49.54    0.55\n",
            "  2    7800       1931.96   5982.81   56.66   63.59   51.09    0.57\n",
            "  2    8000      12040.57   6197.10   54.74   61.92   49.06    0.55\n",
            "  2    8200       2049.26   6040.53   55.15   64.84   47.97    0.55\n",
            "  2    8400       2023.00   6087.13   53.79   62.66   47.13    0.54\n",
            "  2    8600       1751.89   5767.26   54.43   66.26   46.19    0.54\n",
            "  3    8800       2773.15   5635.06   55.71   62.26   50.41    0.56\n",
            "  3    9000       1977.72   5100.97   56.64   63.92   50.85    0.57\n",
            "  3    9200       2857.13   5177.00   55.51   62.16   50.14    0.56\n",
            "  3    9400       2425.73   5349.87   55.57   63.80   49.23    0.56\n",
            "Epoch 4:   0% 0/200 [00:00<?, ?it/s]\u001b[38;5;2m✔ Saved pipeline to output directory\u001b[0m\n",
            "model-last\n",
            "CPU times: user 16.4 s, sys: 2.25 s, total: 18.7 s\n",
            "Wall time: 34min 3s\n"
          ],
          "name": "stdout"
        }
      ]
    },
    {
      "cell_type": "code",
      "metadata": {
        "colab": {
          "base_uri": "https://localhost:8080/",
          "height": 204
        },
        "id": "iXloWBqj6AoB",
        "outputId": "d43605a0-5980-4f3b-8499-b0e2fa2fdf05"
      },
      "source": [
        "# Carrega base de dados\n",
        "corona_dataset = pd.read_csv('./corona_dataset.csv')\n",
        "\n",
        "# Remove colunas sem desnecessárias\n",
        "corona_dataset.drop(['Unnamed: 0', 'Unnamed: 0.1'], axis='columns',\n",
        "                    inplace=True)\n",
        "\n",
        "# Remove dados faltantes\n",
        "corona_dataset.dropna(inplace=True)\n",
        "\n",
        "# Exibe as linhas inicias da base de dados\n",
        "corona_dataset.head()"
      ],
      "execution_count": 5,
      "outputs": [
        {
          "output_type": "execute_result",
          "data": {
            "text/html": [
              "<div>\n",
              "<style scoped>\n",
              "    .dataframe tbody tr th:only-of-type {\n",
              "        vertical-align: middle;\n",
              "    }\n",
              "\n",
              "    .dataframe tbody tr th {\n",
              "        vertical-align: top;\n",
              "    }\n",
              "\n",
              "    .dataframe thead th {\n",
              "        text-align: right;\n",
              "    }\n",
              "</style>\n",
              "<table border=\"1\" class=\"dataframe\">\n",
              "  <thead>\n",
              "    <tr style=\"text-align: right;\">\n",
              "      <th></th>\n",
              "      <th>date</th>\n",
              "      <th>title</th>\n",
              "      <th>category</th>\n",
              "      <th>body</th>\n",
              "      <th>source</th>\n",
              "    </tr>\n",
              "  </thead>\n",
              "  <tbody>\n",
              "    <tr>\n",
              "      <th>0</th>\n",
              "      <td>2020-03-19</td>\n",
              "      <td>Nets' Access to COVID-19 Tests Questioned</td>\n",
              "      <td>Pro Basketball</td>\n",
              "      <td>New York Mayor Bill de Blasio is among those q...</td>\n",
              "      <td>By Reuters</td>\n",
              "    </tr>\n",
              "    <tr>\n",
              "      <th>1</th>\n",
              "      <td>March 14</td>\n",
              "      <td>Ireland Announces Second Death From COVID-19</td>\n",
              "      <td>Europe</td>\n",
              "      <td>A second patient has died of the COVID-19 viru...</td>\n",
              "      <td>By Reuters</td>\n",
              "    </tr>\n",
              "    <tr>\n",
              "      <th>2</th>\n",
              "      <td>March 6</td>\n",
              "      <td>England to Register COVID-19 as 'Notifiable Di...</td>\n",
              "      <td>Europe</td>\n",
              "      <td>England will formally register COVID-19, a dis...</td>\n",
              "      <td>By Reuters</td>\n",
              "    </tr>\n",
              "    <tr>\n",
              "      <th>3</th>\n",
              "      <td>March 18</td>\n",
              "      <td>Lakers Reportedly Under Quarantine, Will Test ...</td>\n",
              "      <td>Pro Basketball</td>\n",
              "      <td>Members of the Los Angeles Lakers are under qu...</td>\n",
              "      <td>By Reuters</td>\n",
              "    </tr>\n",
              "    <tr>\n",
              "      <th>4</th>\n",
              "      <td>March 17</td>\n",
              "      <td>Factbox: COVID-19 and the New Coronavirus-Fact...</td>\n",
              "      <td>Europe</td>\n",
              "      <td>Social media is awash with myths about how peo...</td>\n",
              "      <td>By Reuters</td>\n",
              "    </tr>\n",
              "  </tbody>\n",
              "</table>\n",
              "</div>"
            ],
            "text/plain": [
              "         date  ...      source\n",
              "0  2020-03-19  ...  By Reuters\n",
              "1    March 14  ...  By Reuters\n",
              "2     March 6  ...  By Reuters\n",
              "3    March 18  ...  By Reuters\n",
              "4    March 17  ...  By Reuters\n",
              "\n",
              "[5 rows x 5 columns]"
            ]
          },
          "metadata": {
            "tags": []
          },
          "execution_count": 5
        }
      ]
    },
    {
      "cell_type": "code",
      "metadata": {
        "id": "iAHDDftk6G-C"
      },
      "source": [
        "corpus = ' '.join(corona_dataset['body'])\n",
        "\n",
        "# Carrega o modelo customizado e cria um objeto nlp\n",
        "spacy.prefer_gpu()\n",
        "nlp = spacy.load('./model-best')\n",
        "\n",
        "# Processa o texto\n",
        "doc = nlp(corpus)"
      ],
      "execution_count": 10,
      "outputs": []
    },
    {
      "cell_type": "code",
      "metadata": {
        "colab": {
          "base_uri": "https://localhost:8080/"
        },
        "id": "PTDcKzkE7Uaz",
        "outputId": "b4dc9cd1-5e1a-43fa-a4ca-fcb1dd1b3d58"
      },
      "source": [
        "for token in doc.ents:\n",
        "    print(f'{token.text:<20} {token.label_:>10}')"
      ],
      "execution_count": 11,
      "outputs": [
        {
          "output_type": "stream",
          "text": [
            "President             CHEMICALS\n",
            "Saturday              CHEMICALS\n",
            "staring               CHEMICALS\n",
            "ibuprofen             CHEMICALS\n",
            "ATP                   CHEMICALS\n",
            "WTA                   CHEMICALS\n",
            "President             CHEMICALS\n",
            "Co                    CHEMICALS\n",
            "Commission            CHEMICALS\n",
            "FTC                   CHEMICALS\n",
            "ibuprofen             CHEMICALS\n",
            "President             CHEMICALS\n",
            "President             CHEMICALS\n",
            "COVID-19              CHEMICALS\n",
            "Saturday              CHEMICALS\n",
            "Co                    CHEMICALS\n",
            "nitrogen              CHEMICALS\n",
            "President             CHEMICALS\n",
            "headquarters          CHEMICALS\n",
            "President             CHEMICALS\n",
            "Saturday              CHEMICALS\n",
            "Eli                   CHEMICALS\n",
            "Co                    CHEMICALS\n",
            "President             CHEMICALS\n",
            "President             CHEMICALS\n",
            "President             CHEMICALS\n",
            "Golden                CHEMICALS\n",
            "Saturday              CHEMICALS\n",
            "Oscar                 CHEMICALS\n",
            "Dubai                 CHEMICALS\n",
            "Saturday              CHEMICALS\n",
            "President             CHEMICALS\n",
            "passengers            CHEMICALS\n",
            "Saturday              CHEMICALS\n",
            "President             CHEMICALS\n",
            "Novacyt               CHEMICALS\n",
            "alcohol               CHEMICALS\n",
            "Bowery                CHEMICALS\n",
            "President             CHEMICALS\n",
            "President             CHEMICALS\n",
            "Windsor               CHEMICALS\n",
            "President             CHEMICALS\n",
            "Saturday              CHEMICALS\n",
            "FISI                  CHEMICALS\n",
            "Saturday              CHEMICALS\n",
            "Oscar                 CHEMICALS\n",
            "President             CHEMICALS\n",
            "President             CHEMICALS\n",
            "pain                    DISEASE\n",
            "Jones                 CHEMICALS\n",
            "Qiagen NV             CHEMICALS\n",
            "Sudan                 CHEMICALS\n",
            "President             CHEMICALS\n",
            "Saturday              CHEMICALS\n",
            "President             CHEMICALS\n",
            "ATP                   CHEMICALS\n",
            "WTA                   CHEMICALS\n",
            "rolls                 CHEMICALS\n",
            "Co                    CHEMICALS\n",
            "Islamic               CHEMICALS\n",
            "S.Paulo               CHEMICALS\n",
            "President             CHEMICALS\n",
            "President             CHEMICALS\n",
            "Co                    CHEMICALS\n",
            "Saturday              CHEMICALS\n",
            "screenings            CHEMICALS\n",
            "essentials            CHEMICALS\n",
            "Co                    CHEMICALS\n",
            "President             CHEMICALS\n",
            "Hollywood             CHEMICALS\n",
            "Golden                CHEMICALS\n",
            "Co                    CHEMICALS\n",
            "President             CHEMICALS\n",
            "President             CHEMICALS\n",
            "His                   CHEMICALS\n",
            "President             CHEMICALS\n",
            "President             CHEMICALS\n",
            "President             CHEMICALS\n",
            "Saturday              CHEMICALS\n",
            "COVID-19              CHEMICALS\n",
            "COVID-19              CHEMICALS\n",
            "flood                 CHEMICALS\n",
            "Golden                CHEMICALS\n",
            "Saturday              CHEMICALS\n",
            "Co                    CHEMICALS\n",
            "Silver                CHEMICALS\n",
            "U.S.-Mexico-Canada trade  CHEMICALS\n",
            "President             CHEMICALS\n",
            "resume                CHEMICALS\n",
            "President             CHEMICALS\n",
            "marshal               CHEMICALS\n",
            "President             CHEMICALS\n",
            "UConn                 CHEMICALS\n",
            "President             CHEMICALS\n",
            "President             CHEMICALS\n",
            "headquarters          CHEMICALS\n",
            "President             CHEMICALS\n",
            "President             CHEMICALS\n",
            "marshal               CHEMICALS\n",
            "President             CHEMICALS\n",
            "President             CHEMICALS\n",
            "plunged               CHEMICALS\n",
            "Islamic               CHEMICALS\n",
            "Islamic               CHEMICALS\n",
            "clerics               CHEMICALS\n",
            "respirator            CHEMICALS\n",
            "President             CHEMICALS\n",
            "headquarters          CHEMICALS\n",
            "Saturday              CHEMICALS\n",
            "Saturday              CHEMICALS\n",
            "President             CHEMICALS\n",
            "Saturday              CHEMICALS\n",
            "President             CHEMICALS\n",
            "Lloyds                CHEMICALS\n",
            "struck                CHEMICALS\n",
            "Co                    CHEMICALS\n",
            "Showtime              CHEMICALS\n",
            "Instagram             CHEMICALS\n",
            "President             CHEMICALS\n",
            "confusion               DISEASE\n",
            "stave                 CHEMICALS\n",
            "Saturday              CHEMICALS\n",
            "COVID-19              CHEMICALS\n",
            "IndyCar               CHEMICALS\n",
            "President             CHEMICALS\n",
            "headquarters          CHEMICALS\n",
            "stops                 CHEMICALS\n",
            "UConn                DRUG-PROTEIN\n",
            "tenure                CHEMICALS\n",
            "Beira                 CHEMICALS\n",
            "President             CHEMICALS\n",
            "President             CHEMICALS\n",
            "Co                    CHEMICALS\n",
            "Co                    CHEMICALS\n",
            "Co                    CHEMICALS\n",
            "gloves                CHEMICALS\n",
            "President             CHEMICALS\n",
            "Golden                CHEMICALS\n",
            "Saturday              CHEMICALS\n",
            "President Rodrigo     CHEMICALS\n",
            "President             CHEMICALS\n",
            "Shoppers              CHEMICALS\n",
            "plunged               CHEMICALS\n",
            "President             CHEMICALS\n",
            "essentials            CHEMICALS\n",
            "President             CHEMICALS\n",
            "President             CHEMICALS\n",
            "Mitchell              CHEMICALS\n",
            "Saturday              CHEMICALS\n",
            "174,000               CHEMICALS\n",
            "stave                 CHEMICALS\n",
            "plunged               CHEMICALS\n",
            "President             CHEMICALS\n",
            "President             CHEMICALS\n",
            "Nevada issued         CHEMICALS\n",
            "declared              CHEMICALS\n",
            "trumpeted             CHEMICALS\n",
            "billion-pound         CHEMICALS\n",
            "President             CHEMICALS\n"
          ],
          "name": "stdout"
        }
      ]
    },
    {
      "cell_type": "code",
      "metadata": {
        "colab": {
          "base_uri": "https://localhost:8080/",
          "height": 367
        },
        "id": "23m6sLxH7UE6",
        "outputId": "615e05eb-3410-4cd9-c2e0-f353eb97ce11"
      },
      "source": [
        "# entities_cat_1 = {\"GGP\":\"#F9E79F\", \"SO\":\"#F7DC6F\", \"TAXON\":\"#F4D03F\", \"CHEBI\":\"#FAD7A0\", \"GO\":\"#F8C471\", \"CL\":\"#F5B041\"}\n",
        "# entities_cat_2 = {\"DNA\":\"#82E0AA\", \"CELL_TYPE\":\"#AED6F1\", \"CELL_LINE\":\"#E8DAEF\", \"RNA\":\"#82E0AA\", \"PROTEIN\":\"#82E0AA\"}\n",
        "# entities_cat_3 = {\"DISEASE\":\"#D7BDE2\", \"CHEMICAL\":\"#D2B4DE\"}\n",
        "# entities_cat_4 = {\"CANCER\":\"#ABEBC6\", \"ORGAN\":\"#82E0AA\", \"TISSUE\":\"#A9DFBF\", \"ORGANISM\":\"#A2D9CE\", \"CELL\":\"#76D7C4\", \\\n",
        "#                   \"AMINO_ACID\":\"#85C1E9\", \"GENE_OR_GENE_PRODUCT\":\"#AED6F1\", \"SIMPLE_CHEMICAL\":\"#76D7C4\", \"ANATOMICAL_SYSTEM\":\"#82E0AA\", \\\n",
        "#                   \"IMMATERIAL_ANATOMICAL_ENTITY\":\"#A2D9CE\", \"MULTI-TISSUE_STRUCTURE\":\"#85C1E9\", \"DEVELOPING_ANATOMICAL_STRUCTURE\":\"#A9DFBF\", \\\n",
        "#                   \"ORGANISM_SUBDIVISION\":\"#58D68D\", \"CELLULAR_COMPONENT\":\"#7FB3D5\"}\n",
        "\n",
        "options = {'ents':[\"CHEMICALS\", 'DRUG-PROTEIN', \"DISEASE\"],\n",
        "           'colors':{\"CHEMICALS\": \"#D2B4DE\", 'DRUG-PROTEIN': \"#82E0AA\", 'DISEASE':\"#D7BDE2\"}}\n",
        "\n",
        "\n",
        "spacy.displacy.render(doc[:500], style=\"ent\", jupyter=True, options=options)"
      ],
      "execution_count": 12,
      "outputs": [
        {
          "output_type": "display_data",
          "data": {
            "text/html": [
              "<span class=\"tex2jax_ignore\"><div class=\"entities\" style=\"line-height: 2.5; direction: ltr\">New York Mayor Bill de Blasio is among those questioning how the Brooklyn Nets were able to test the team for coronavirus when others in his hard-hit city haven't had access to tests. A second patient has died of the COVID-19 virus in Ireland and the total number of confirmed cases in the country has increased to 129 from 90, the country's Chief Medical Officer Tony Holohan told journalists on Saturday.  England will formally register COVID-19, a disease caused by the new coronavirus, as &quot;notifiable&quot;, BBC reported on Wednesday. Members of the Los Angeles Lakers are under quarantine for 14 days and will be tested for COVID-19, multiple media outlets reported Tuesday. Social media is awash with myths about how people might stop the new coronavirus or treat infection with COVID-19, the disease it causes. The World Health Organization said it had chosen a name for the disease that makes no reference to places, animals or people to avoid stigma. Italy and South Korea, two countries outside China that have been hard hit by the new coronavirus, have reported dramatically different numbers of deaths as a proportion of cases. Why are these not comparable? Indonesian President Joko Widodo said on Monday the authorities were not now considering imposing a lockdown to tackle the coronavirus outbreak, as the leader, his wife and a number of ministers awaited the results of tests for the virus. U.S. \n",
              "<mark class=\"entity\" style=\"background: #D2B4DE; padding: 0.45em 0.6em; margin: 0 0.25em; line-height: 1; border-radius: 0.35em;\">\n",
              "    President\n",
              "    <span style=\"font-size: 0.8em; font-weight: bold; line-height: 1; border-radius: 0.35em; vertical-align: middle; margin-left: 0.5rem\">CHEMICALS</span>\n",
              "</mark>\n",
              " Donald Trump said that he is attending White House meetings on \n",
              "<mark class=\"entity\" style=\"background: #D2B4DE; padding: 0.45em 0.6em; margin: 0 0.25em; line-height: 1; border-radius: 0.35em;\">\n",
              "    Saturday\n",
              "    <span style=\"font-size: 0.8em; font-weight: bold; line-height: 1; border-radius: 0.35em; vertical-align: middle; margin-left: 0.5rem\">CHEMICALS</span>\n",
              "</mark>\n",
              " on the COVID-19 outbreak caused by the coronavirus and would issue a &quot;full report later.&quot; The World Health Organization’s chief launched a global fund on Friday to raise money to help the world’s nations respond to the COVID-19 pandemic, saying “every dollar donated is a dollar towards saving lives.” The World Health Organization’s chief launched a global fund on Friday to raise money to help the world’s nations respond to the COVID-19 pandemic, saying “every dollar donated is a dollar towards saving lives.” American Airlines Group Inc said on Thursday a pilot based out of Dallas-Fort Worth tested positive for Covid-19. Patients with existing illnesses that cause breathlessness, wheezing or lung problems run a higher risk of developing severe cases of COVID-19 infection due to the new coronavirus, according to a pooled analysis study published on Wednesday.  A British cruise ship rejected by Caribbean port officials for weeks docked in Cuba on Wednesday to unload more than 1,000 people on board, including five with confirmed cases of the novel coronavirus.  The NHL has its first known case of the new coronavirus after an Ottawa Senators player tested positive. Countries across the world must take a comprehensive approach to fighting the </div></span>"
            ],
            "text/plain": [
              "<IPython.core.display.HTML object>"
            ]
          },
          "metadata": {
            "tags": []
          }
        }
      ]
    },
    {
      "cell_type": "code",
      "metadata": {
        "id": "YuLE9EO-7Tvi"
      },
      "source": [
        ""
      ],
      "execution_count": 12,
      "outputs": []
    }
  ]
}