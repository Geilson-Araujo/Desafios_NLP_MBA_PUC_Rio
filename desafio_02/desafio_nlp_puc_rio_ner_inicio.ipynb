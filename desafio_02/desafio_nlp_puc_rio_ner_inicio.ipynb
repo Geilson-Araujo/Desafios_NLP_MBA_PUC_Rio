{
 "cells": [
  {
   "cell_type": "markdown",
   "metadata": {},
   "source": [
    "## 1. Bibliotecas e módulos úteis"
   ]
  },
  {
   "cell_type": "code",
   "execution_count": 1,
   "metadata": {},
   "outputs": [],
   "source": [
    "import re\n",
    "import pandas as pd\n",
    "\n",
    "from sklearn.utils import shuffle\n",
    "\n",
    "import spacy"
   ]
  },
  {
   "cell_type": "code",
   "execution_count": 2,
   "metadata": {},
   "outputs": [
    {
     "output_type": "execute_result",
     "data": {
      "text/plain": [
       "'3.0.5'"
      ]
     },
     "metadata": {},
     "execution_count": 2
    }
   ],
   "source": [
    "spacy.__version__"
   ]
  },
  {
   "cell_type": "markdown",
   "metadata": {},
   "source": [
    "## 2. Carregando as bases de dados relacionadas ao BC2GM(BioCreative II Gene Mention) _Corpus_:\n",
    "\n",
    "> [Gene Mention Tagging task](https://genomebiology.biomedcentral.com/articles/10.1186/gb-2008-9-s2-s2) as part of the BioCreative II challenge is concerned with the named entity extraction of gene and gene product mentions in text. The BC2GM corpus contains a total of 24,583 gene entity mentions.\n",
    "\n",
    "--- \n",
    "\n",
    "* Os aquivos estão no formato `.tsv` (_tab-separated values_). Podemos utilizar tanto o método `pd.read_table()` quanto o `pd.read_csv()` para carregá-los;\n",
    "  Nesse caso, é necessário especificar o separador `sep='\\t'`, indicando se tratar de tabulacão; ou o _alias_ para esse parâmetro, `delimiter='\\t'`;\n",
    "* Os arquivos não possuem cabeçalho. Assim, apenas para melhor compreensão dos dados, nomeamos as colunas por \"word\" e \"tag\" por meio do parâmetro `names=['word', 'tag']`;\n",
    "* Ao tentarmos carregar o arquivo de treino, ocorreu o seguinte erro - acreditamos que devido ao seu tamanho:\n",
    "\n",
    "    ```python\n",
    "    Error tokenizing data. C error: EOF inside string starting at row 131598\n",
    "    ```\n",
    "* A solução encontrada foi utilizar o parâmetro `quoting=3`."
   ]
  },
  {
   "cell_type": "code",
   "execution_count": 3,
   "metadata": {},
   "outputs": [],
   "source": [
    "# Carrega a base de treino e validação(dev) juntas\n",
    "bc2gm_train = pd.read_csv('./datasets/BC2GM/train.tsv', sep='\\t', names=['word', 'tag'], quoting=3)\n",
    "\n",
    "# Carrega a base de teste\n",
    "bc2gm_valid = pd.read_csv('./datasets/BC2GM/devel.tsv', sep='\\t', names=['word', 'tag'])"
   ]
  },
  {
   "cell_type": "markdown",
   "metadata": {},
   "source": [
    "## 2.1 Análise Exploratória de Dados"
   ]
  },
  {
   "cell_type": "code",
   "execution_count": 4,
   "metadata": {},
   "outputs": [
    {
     "output_type": "execute_result",
     "data": {
      "text/plain": [
       "                  word tag\n",
       "0  Immunohistochemical   O\n",
       "1             staining   O\n",
       "2                  was   O\n",
       "3             positive   O\n",
       "4                  for   O"
      ],
      "text/html": "<div>\n<style scoped>\n    .dataframe tbody tr th:only-of-type {\n        vertical-align: middle;\n    }\n\n    .dataframe tbody tr th {\n        vertical-align: top;\n    }\n\n    .dataframe thead th {\n        text-align: right;\n    }\n</style>\n<table border=\"1\" class=\"dataframe\">\n  <thead>\n    <tr style=\"text-align: right;\">\n      <th></th>\n      <th>word</th>\n      <th>tag</th>\n    </tr>\n  </thead>\n  <tbody>\n    <tr>\n      <th>0</th>\n      <td>Immunohistochemical</td>\n      <td>O</td>\n    </tr>\n    <tr>\n      <th>1</th>\n      <td>staining</td>\n      <td>O</td>\n    </tr>\n    <tr>\n      <th>2</th>\n      <td>was</td>\n      <td>O</td>\n    </tr>\n    <tr>\n      <th>3</th>\n      <td>positive</td>\n      <td>O</td>\n    </tr>\n    <tr>\n      <th>4</th>\n      <td>for</td>\n      <td>O</td>\n    </tr>\n  </tbody>\n</table>\n</div>"
     },
     "metadata": {},
     "execution_count": 4
    }
   ],
   "source": [
    "# Exibe as primeiras linhas da base de treino\n",
    "bc2gm_train.head()"
   ]
  },
  {
   "cell_type": "code",
   "execution_count": 5,
   "metadata": {},
   "outputs": [
    {
     "output_type": "execute_result",
     "data": {
      "text/plain": [
       "   word tag\n",
       "0  Joys   O\n",
       "1   and   O\n",
       "2     F   O\n",
       "3     .   O\n",
       "4     2   O"
      ],
      "text/html": "<div>\n<style scoped>\n    .dataframe tbody tr th:only-of-type {\n        vertical-align: middle;\n    }\n\n    .dataframe tbody tr th {\n        vertical-align: top;\n    }\n\n    .dataframe thead th {\n        text-align: right;\n    }\n</style>\n<table border=\"1\" class=\"dataframe\">\n  <thead>\n    <tr style=\"text-align: right;\">\n      <th></th>\n      <th>word</th>\n      <th>tag</th>\n    </tr>\n  </thead>\n  <tbody>\n    <tr>\n      <th>0</th>\n      <td>Joys</td>\n      <td>O</td>\n    </tr>\n    <tr>\n      <th>1</th>\n      <td>and</td>\n      <td>O</td>\n    </tr>\n    <tr>\n      <th>2</th>\n      <td>F</td>\n      <td>O</td>\n    </tr>\n    <tr>\n      <th>3</th>\n      <td>.</td>\n      <td>O</td>\n    </tr>\n    <tr>\n      <th>4</th>\n      <td>2</td>\n      <td>O</td>\n    </tr>\n  </tbody>\n</table>\n</div>"
     },
     "metadata": {},
     "execution_count": 5
    }
   ],
   "source": [
    "# Exibe as linhas iniciais da base de teste\n",
    "bc2gm_valid.head()"
   ]
  },
  {
   "cell_type": "code",
   "execution_count": 6,
   "metadata": {},
   "outputs": [
    {
     "output_type": "execute_result",
     "data": {
      "text/plain": [
       "O    318104\n",
       "I     22104\n",
       "B     15197\n",
       "Name: tag, dtype: int64"
      ]
     },
     "metadata": {},
     "execution_count": 6
    }
   ],
   "source": [
    "# Exibe a distibuição de valores para a coluna \"tag\" na base de treino\n",
    "bc2gm_train['tag'].value_counts(dropna=False)"
   ]
  },
  {
   "cell_type": "code",
   "execution_count": 7,
   "metadata": {},
   "outputs": [
    {
     "output_type": "execute_result",
     "data": {
      "text/plain": [
       "O    63440\n",
       "I     4437\n",
       "B     3060\n",
       "Name: tag, dtype: int64"
      ]
     },
     "metadata": {},
     "execution_count": 7
    }
   ],
   "source": [
    "# Exibe a distibuição de valores para a coluna \"tag\" na base de treino\n",
    "bc2gm_valid['tag'].value_counts(dropna=False)"
   ]
  },
  {
   "cell_type": "markdown",
   "metadata": {},
   "source": [
    "De acordo com a coluna `tag`, temos uma típica represetação para tarefas de linguística computacional: O formato __IOB__ - um acrônimo para _Inside_, _Outside_, _Beginning_.\n",
    "\n",
    "[Inside–outside–beginning (tagging)](https://en.wikipedia.org/wiki/Inside%E2%80%93outside%E2%80%93beginning_(tagging))"
   ]
  },
  {
   "cell_type": "code",
   "execution_count": 8,
   "metadata": {},
   "outputs": [
    {
     "output_type": "stream",
     "name": "stdout",
     "text": [
      "A base de treino possui 355.405 linhas e 2 colunas\nA base de validação possui 70.937 linhas e 2 colunas\n"
     ]
    }
   ],
   "source": [
    "print(f'A base de treino possui {bc2gm_train.shape[0]:,} linhas e {bc2gm_train.shape[1]:,} colunas'.replace(',', '.'))\n",
    "print(f'A base de validação possui {bc2gm_valid.shape[0]:,} linhas e {bc2gm_valid.shape[1]:,} colunas'.replace(',', '.'))"
   ]
  },
  {
   "cell_type": "markdown",
   "metadata": {},
   "source": [
    "## 2.2. Procurando por Dados Faltantes"
   ]
  },
  {
   "cell_type": "code",
   "execution_count": 9,
   "metadata": {},
   "outputs": [
    {
     "output_type": "stream",
     "name": "stdout",
     "text": [
      "Valores faltantes na base de treino:\n-------------------------------------\nword    21\ntag      0\ndtype: int64\n\nValores faltantes na base de validação:\n----------------------------------------\nword    5\ntag     0\ndtype: int64\n"
     ]
    }
   ],
   "source": [
    "# Verifica se há missing values na base de treino\n",
    "print('Valores faltantes na base de treino:' , '-' * 37, bc2gm_train.isna().sum(), sep='\\n', end='\\n\\n')\n",
    "\n",
    "# Verifica se há missing values na base de test\n",
    "print('Valores faltantes na base de validação:', '-' * 40, bc2gm_valid.isna().sum(), sep='\\n')"
   ]
  },
  {
   "cell_type": "code",
   "execution_count": 10,
   "metadata": {},
   "outputs": [
    {
     "output_type": "stream",
     "name": "stdout",
     "text": [
      "A base de treino possui 355.384 linas e 2 colunas\nA base de teste possui 70.932 linnas e 2 colunas\n"
     ]
    }
   ],
   "source": [
    "# Remove dados faltantes da base de treino e teste\n",
    "bc2gm_train.dropna(inplace=True)\n",
    "bc2gm_valid.dropna(inplace=True)\n",
    "\n",
    "# Sanity check\n",
    "print(f'A base de treino possui {bc2gm_train.shape[0]:,} linas e {bc2gm_train.shape[1]:,} colunas'.replace(',', '.'))\n",
    "print(f'A base de teste possui {bc2gm_valid.shape[0]:,} linnas e {bc2gm_valid.shape[1]:,} colunas'.replace(',', '.'))"
   ]
  },
  {
   "cell_type": "markdown",
   "metadata": {},
   "source": [
    "## 3 Carregando as bases de dados relacionadas ao BC4CHEMD Corpus:"
   ]
  },
  {
   "cell_type": "code",
   "execution_count": 11,
   "metadata": {},
   "outputs": [],
   "source": [
    "# Carrega a base de treino\n",
    "bc4chemd_train = pd.read_csv('./datasets/BC4CHEMD/train.tsv', sep='\\t', names=['word', 'tag'], quoting=3)\n",
    "\n",
    "# Carrega a base de validação\n",
    "bc4chemd_valid = pd.read_csv('./datasets/BC4CHEMD/devel.tsv', sep='\\t', names=['word', 'tag'], quoting=3)"
   ]
  },
  {
   "cell_type": "markdown",
   "metadata": {},
   "source": [
    "\n"
   ]
  },
  {
   "cell_type": "code",
   "execution_count": 12,
   "metadata": {},
   "outputs": [
    {
     "output_type": "execute_result",
     "data": {
      "text/plain": [
       "        word tag\n",
       "0       DPP6   O\n",
       "1         as   O\n",
       "2          a   O\n",
       "3  candidate   O\n",
       "4       gene   O"
      ],
      "text/html": "<div>\n<style scoped>\n    .dataframe tbody tr th:only-of-type {\n        vertical-align: middle;\n    }\n\n    .dataframe tbody tr th {\n        vertical-align: top;\n    }\n\n    .dataframe thead th {\n        text-align: right;\n    }\n</style>\n<table border=\"1\" class=\"dataframe\">\n  <thead>\n    <tr style=\"text-align: right;\">\n      <th></th>\n      <th>word</th>\n      <th>tag</th>\n    </tr>\n  </thead>\n  <tbody>\n    <tr>\n      <th>0</th>\n      <td>DPP6</td>\n      <td>O</td>\n    </tr>\n    <tr>\n      <th>1</th>\n      <td>as</td>\n      <td>O</td>\n    </tr>\n    <tr>\n      <th>2</th>\n      <td>a</td>\n      <td>O</td>\n    </tr>\n    <tr>\n      <th>3</th>\n      <td>candidate</td>\n      <td>O</td>\n    </tr>\n    <tr>\n      <th>4</th>\n      <td>gene</td>\n      <td>O</td>\n    </tr>\n  </tbody>\n</table>\n</div>"
     },
     "metadata": {},
     "execution_count": 12
    }
   ],
   "source": [
    "# Exibe as primeiras linhas da base de treino\n",
    "bc4chemd_train.head()"
   ]
  },
  {
   "cell_type": "code",
   "execution_count": 13,
   "metadata": {},
   "outputs": [
    {
     "output_type": "execute_result",
     "data": {
      "text/plain": [
       "         word tag\n",
       "0      Models   O\n",
       "1          to   O\n",
       "2     predict   O\n",
       "3  intestinal   O\n",
       "4  absorption   O"
      ],
      "text/html": "<div>\n<style scoped>\n    .dataframe tbody tr th:only-of-type {\n        vertical-align: middle;\n    }\n\n    .dataframe tbody tr th {\n        vertical-align: top;\n    }\n\n    .dataframe thead th {\n        text-align: right;\n    }\n</style>\n<table border=\"1\" class=\"dataframe\">\n  <thead>\n    <tr style=\"text-align: right;\">\n      <th></th>\n      <th>word</th>\n      <th>tag</th>\n    </tr>\n  </thead>\n  <tbody>\n    <tr>\n      <th>0</th>\n      <td>Models</td>\n      <td>O</td>\n    </tr>\n    <tr>\n      <th>1</th>\n      <td>to</td>\n      <td>O</td>\n    </tr>\n    <tr>\n      <th>2</th>\n      <td>predict</td>\n      <td>O</td>\n    </tr>\n    <tr>\n      <th>3</th>\n      <td>intestinal</td>\n      <td>O</td>\n    </tr>\n    <tr>\n      <th>4</th>\n      <td>absorption</td>\n      <td>O</td>\n    </tr>\n  </tbody>\n</table>\n</div>"
     },
     "metadata": {},
     "execution_count": 13
    }
   ],
   "source": [
    "# Exibe as linhas iniciais da base de teste\n",
    "bc4chemd_valid.head()"
   ]
  },
  {
   "cell_type": "markdown",
   "metadata": {},
   "source": [
    "## 3.2. Procurando por Dados Faltantes"
   ]
  },
  {
   "cell_type": "code",
   "execution_count": 14,
   "metadata": {},
   "outputs": [
    {
     "output_type": "stream",
     "name": "stdout",
     "text": [
      "Valores faltantes na base de treino:\n-------------------------------------\nword    45\ntag      0\ndtype: int64\n\nValores faltantes na base de validação:\n----------------------------------------\nword    50\ntag      0\ndtype: int64\n"
     ]
    }
   ],
   "source": [
    "# Verifica se há missing values na base de treino\n",
    "print('Valores faltantes na base de treino:' , '-' * 37, bc4chemd_train.isna().sum(), sep='\\n', end='\\n\\n')\n",
    "\n",
    "# Verifica se há missing values na base de test\n",
    "print('Valores faltantes na base de validação:', '-' * 40, bc4chemd_valid.isna().sum(), sep='\\n')"
   ]
  },
  {
   "cell_type": "code",
   "execution_count": 15,
   "metadata": {},
   "outputs": [
    {
     "output_type": "stream",
     "name": "stdout",
     "text": [
      "A base de treino possui 893.640 linhas e 2 colunas\nA base de validação possui 887.755 linhas e 2 colunas\n"
     ]
    }
   ],
   "source": [
    "# Remove dados faltantes da base de treino e validação\n",
    "bc4chemd_train.dropna(inplace=True)\n",
    "bc4chemd_valid.dropna(inplace=True)\n",
    "\n",
    "# Sanity check\n",
    "print(f'A base de treino possui {bc4chemd_train.shape[0]:,} linhas e {bc4chemd_train.shape[1]:,} colunas'.replace(',', '.'))\n",
    "print(f'A base de validação possui {bc4chemd_valid.shape[0]:,} linhas e {bc4chemd_valid.shape[1]:,} colunas'.replace(',', '.'))"
   ]
  },
  {
   "source": [
    "## 4. Carregando as bases de dados relacionadas ao BC5CDR-disease _Corpus_:"
   ],
   "cell_type": "markdown",
   "metadata": {}
  },
  {
   "cell_type": "code",
   "execution_count": 16,
   "metadata": {},
   "outputs": [],
   "source": [
    "# Carrega a base de treino\n",
    "bc5cdr_disease_train = pd.read_csv('./datasets/BC5CDR-disease/train.tsv', sep='\\t', names=['word', 'tag'], quoting=3)\n",
    "\n",
    "# Carrega a base de validação\n",
    "bc5cdr_disease_valid = pd.read_csv('./datasets/BC5CDR-disease/devel.tsv', sep='\\t', names=['word', 'tag'])"
   ]
  },
  {
   "source": [
    "## 4.1 Análise Exploratória de Dados"
   ],
   "cell_type": "markdown",
   "metadata": {}
  },
  {
   "cell_type": "code",
   "execution_count": 17,
   "metadata": {},
   "outputs": [
    {
     "output_type": "execute_result",
     "data": {
      "text/plain": [
       "          word tag\n",
       "0   Selegiline   O\n",
       "1            -   O\n",
       "2      induced   O\n",
       "3     postural   B\n",
       "4  hypotension   I"
      ],
      "text/html": "<div>\n<style scoped>\n    .dataframe tbody tr th:only-of-type {\n        vertical-align: middle;\n    }\n\n    .dataframe tbody tr th {\n        vertical-align: top;\n    }\n\n    .dataframe thead th {\n        text-align: right;\n    }\n</style>\n<table border=\"1\" class=\"dataframe\">\n  <thead>\n    <tr style=\"text-align: right;\">\n      <th></th>\n      <th>word</th>\n      <th>tag</th>\n    </tr>\n  </thead>\n  <tbody>\n    <tr>\n      <th>0</th>\n      <td>Selegiline</td>\n      <td>O</td>\n    </tr>\n    <tr>\n      <th>1</th>\n      <td>-</td>\n      <td>O</td>\n    </tr>\n    <tr>\n      <th>2</th>\n      <td>induced</td>\n      <td>O</td>\n    </tr>\n    <tr>\n      <th>3</th>\n      <td>postural</td>\n      <td>B</td>\n    </tr>\n    <tr>\n      <th>4</th>\n      <td>hypotension</td>\n      <td>I</td>\n    </tr>\n  </tbody>\n</table>\n</div>"
     },
     "metadata": {},
     "execution_count": 17
    }
   ],
   "source": [
    "bc5cdr_disease_train.head()"
   ]
  },
  {
   "cell_type": "code",
   "execution_count": 18,
   "metadata": {},
   "outputs": [
    {
     "output_type": "execute_result",
     "data": {
      "text/plain": [
       "            word tag\n",
       "0             22   O\n",
       "1              -   O\n",
       "2  oxacalcitriol   O\n",
       "3     suppresses   O\n",
       "4      secondary   B"
      ],
      "text/html": "<div>\n<style scoped>\n    .dataframe tbody tr th:only-of-type {\n        vertical-align: middle;\n    }\n\n    .dataframe tbody tr th {\n        vertical-align: top;\n    }\n\n    .dataframe thead th {\n        text-align: right;\n    }\n</style>\n<table border=\"1\" class=\"dataframe\">\n  <thead>\n    <tr style=\"text-align: right;\">\n      <th></th>\n      <th>word</th>\n      <th>tag</th>\n    </tr>\n  </thead>\n  <tbody>\n    <tr>\n      <th>0</th>\n      <td>22</td>\n      <td>O</td>\n    </tr>\n    <tr>\n      <th>1</th>\n      <td>-</td>\n      <td>O</td>\n    </tr>\n    <tr>\n      <th>2</th>\n      <td>oxacalcitriol</td>\n      <td>O</td>\n    </tr>\n    <tr>\n      <th>3</th>\n      <td>suppresses</td>\n      <td>O</td>\n    </tr>\n    <tr>\n      <th>4</th>\n      <td>secondary</td>\n      <td>B</td>\n    </tr>\n  </tbody>\n</table>\n</div>"
     },
     "metadata": {},
     "execution_count": 18
    }
   ],
   "source": [
    "bc5cdr_disease_valid.head()"
   ]
  },
  {
   "source": [
    "## 4.2. Procurando por Dados Faltantes"
   ],
   "cell_type": "markdown",
   "metadata": {}
  },
  {
   "cell_type": "code",
   "execution_count": 19,
   "metadata": {},
   "outputs": [
    {
     "output_type": "stream",
     "name": "stdout",
     "text": [
      "Valores faltantes na base de treino:\n-------------------------------------\nword    1\ntag     0\ndtype: int64\n\nValores faltantes na base de validação:\n----------------------------------------\nword    0\ntag     0\ndtype: int64\n"
     ]
    }
   ],
   "source": [
    "# Verifica se há missing values na base de treino\n",
    "print('Valores faltantes na base de treino:' , '-' * 37, bc5cdr_disease_train.isna().sum(), sep='\\n', end='\\n\\n')\n",
    "\n",
    "# Verifica se há missing values na base de validação\n",
    "print('Valores faltantes na base de validação:', '-' * 40, bc5cdr_disease_valid.isna().sum(), sep='\\n')"
   ]
  },
  {
   "cell_type": "code",
   "execution_count": 20,
   "metadata": {},
   "outputs": [
    {
     "output_type": "stream",
     "name": "stdout",
     "text": [
      "A base de treino possui 118.169 linhas e 2 colunas\nA base de validação possui 117.391 linhas e 2 colunas\n"
     ]
    }
   ],
   "source": [
    "# Remove dados faltantes da base de treino e validação\n",
    "bc5cdr_disease_train.dropna(inplace=True)\n",
    "bc5cdr_disease_valid.dropna(inplace=True)\n",
    "\n",
    "# Sanity check\n",
    "print(f'A base de treino possui {bc5cdr_disease_train.shape[0]:,} linhas e {bc5cdr_disease_train.shape[1]:,} colunas'.replace(',', '.'))\n",
    "print(f'A base de validação possui {bc5cdr_disease_valid.shape[0]:,} linhas e {bc5cdr_disease_valid.shape[1]:,} colunas'.replace(',', '.'))"
   ]
  },
  {
   "cell_type": "markdown",
   "metadata": {},
   "source": [
    "## 5. Criação dos arquivos para treinamento do modelo por meio do spaCy\n",
    "---\n",
    "Na versão mais recente do spaCy, a transformação de arquivos para o formato `.spacy` é feita via linha de comando.   \n",
    "É necessario um arquivo `config.cfg` para se utilizar a linha de comando do spaCy.    \n",
    "Esse arquivo pode ser criado [aqui](https://spacy.io/usage/training#quickstart).    \n",
    "Daí, basta clicar no ícone de download, salvar o arquivo na pasta do projeto e executar a seguinte linha de comando:\n",
    "```bash\n",
    "$ python -m spacy init fill-config base_config.cfg config.cfg\n",
    "```\n",
    "\n",
    "#### 4.1. Exibição no _prompt_ após execução da linha de comando acima:\n",
    "<img src=\"assets/config.PNG\" width=60%>\n",
    "\n",
    "#### 4.2. As configurações por mim escolhidas: \n",
    "\n",
    "\n",
    "<img src=\"assets/quickstart.png\" width=70%>\n"
   ]
  },
  {
   "cell_type": "markdown",
   "metadata": {},
   "source": [
    "Se tentarmos gerar os arquivos `.spacy` utilizando somente as _tags_ IOB, será gerado um erro.   \n",
    "É preciso completar a _tag_ para o __I__ e o __B__.   \n",
    "Utilizaremos a _tag_ disponível na tabela encaminhada pelo professor Cristian."
   ]
  },
  {
   "cell_type": "code",
   "execution_count": 21,
   "metadata": {},
   "outputs": [],
   "source": [
    "bc2gm_train['tag'].replace({'I': 'I-DRUG-PROTEIN', 'B': 'B-DRUG-PROTEIN'}, inplace=True)\n",
    "bc2gm_valid['tag'].replace({'I': 'I-DRUG-PROTEIN', 'B': 'B-DRUG-PROTEIN'}, inplace=True)\n",
    "\n",
    "bc4chemd_train['tag'].replace({'I': 'I-CHEMICALS', 'B': 'B-CHEMICALS'}, inplace=True)\n",
    "bc4chemd_valid['tag'].replace({'I': 'I-CHEMICALS', 'B': 'B-CHEMICALS'}, inplace=True)\n",
    "\n",
    "bc5cdr_disease_train['tag'].replace({'I': 'I-DISEASE', 'B': 'B-DISEASE'}, inplace=True)\n",
    "bc5cdr_disease_valid['tag'].replace({'I': 'I-DISEASE', 'B': 'B-DISEASE'}, inplace=True)"
   ]
  },
  {
   "cell_type": "code",
   "execution_count": 22,
   "metadata": {},
   "outputs": [
    {
     "output_type": "stream",
     "name": "stdout",
     "text": [
      "['O' 'B-DRUG-PROTEIN' 'I-DRUG-PROTEIN']\n['O' 'B-DRUG-PROTEIN' 'I-DRUG-PROTEIN']\n['O' 'B-CHEMICALS' 'I-CHEMICALS']\n['O' 'B-CHEMICALS' 'I-CHEMICALS']\n['O' 'B-DISEASE' 'I-DISEASE']\n['O' 'B-DISEASE' 'I-DISEASE']\n"
     ]
    }
   ],
   "source": [
    "print(bc2gm_train['tag'].unique(), bc2gm_valid['tag'].unique(),\n",
    "      bc4chemd_train['tag'].unique(), bc4chemd_valid['tag'].unique(),\n",
    "      bc5cdr_disease_train['tag'].unique(), bc5cdr_disease_valid['tag'].unique(), sep='\\n')"
   ]
  },
  {
   "cell_type": "code",
   "execution_count": 23,
   "metadata": {},
   "outputs": [
    {
     "output_type": "execute_result",
     "data": {
      "text/plain": [
       "((355384, 2), (70932, 2), (893640, 2), (887755, 2), (118169, 2), (117391, 2))"
      ]
     },
     "metadata": {},
     "execution_count": 23
    }
   ],
   "source": [
    "bc2gm_train.shape, bc2gm_valid.shape, bc4chemd_train.shape, bc4chemd_valid.shape, bc5cdr_disease_train.shape, bc5cdr_disease_valid.shape"
   ]
  },
  {
   "cell_type": "code",
   "execution_count": 24,
   "metadata": {},
   "outputs": [
    {
     "output_type": "stream",
     "name": "stdout",
     "text": [
      "A base de dados gerada para treino posssui 1.367.193 linhas e 2 colunas\nA base de dados gerada para validação possui 1.076.078 linhas e 2 colunas\n"
     ]
    }
   ],
   "source": [
    "# Base de dados reduzida, somente para exemplificação\n",
    "train = pd.concat([bc2gm_train, bc4chemd_train, bc5cdr_disease_train])\n",
    "# test = pd.concat([bc2gm_test, bc4chemd_test])\n",
    "valid = pd.concat([bc2gm_valid, bc4chemd_valid, bc5cdr_disease_valid])\n",
    "\n",
    "\n",
    "print(f'A base de dados gerada para treino posssui {train.shape[0]:,} linhas e {train.shape[1]:,} colunas'.replace(',', '.'))\n",
    "print(f'A base de dados gerada para validação possui {valid.shape[0]:,} linhas e {valid.shape[1]:,} colunas'.replace(',', '.'))"
   ]
  },
  {
   "cell_type": "code",
   "execution_count": 25,
   "metadata": {},
   "outputs": [
    {
     "output_type": "stream",
     "name": "stdout",
     "text": [
      "Quantidade de linhas que devem ser removidas na base de treino: 0\n"
     ]
    },
    {
     "output_type": "execute_result",
     "data": {
      "text/plain": [
       "Empty DataFrame\n",
       "Columns: [word, tag]\n",
       "Index: []"
      ],
      "text/html": "<div>\n<style scoped>\n    .dataframe tbody tr th:only-of-type {\n        vertical-align: middle;\n    }\n\n    .dataframe tbody tr th {\n        vertical-align: top;\n    }\n\n    .dataframe thead th {\n        text-align: right;\n    }\n</style>\n<table border=\"1\" class=\"dataframe\">\n  <thead>\n    <tr style=\"text-align: right;\">\n      <th></th>\n      <th>word</th>\n      <th>tag</th>\n    </tr>\n  </thead>\n  <tbody>\n  </tbody>\n</table>\n</div>"
     },
     "metadata": {},
     "execution_count": 25
    }
   ],
   "source": [
    "# Remove dados que impedem a conversão dos arquivos\n",
    "pattern = r'\\b\\t\\w*'\n",
    "mask = train['word'].str.contains(pattern, regex=True)\n",
    "print('Quantidade de linhas que devem ser removidas na base de treino:', train[mask].shape[0])\n",
    "train[mask].head()"
   ]
  },
  {
   "cell_type": "code",
   "execution_count": 26,
   "metadata": {},
   "outputs": [
    {
     "output_type": "stream",
     "name": "stdout",
     "text": [
      "Quantidade de linhas que devem ser removidas na base de validação: 51\n"
     ]
    },
    {
     "output_type": "execute_result",
     "data": {
      "text/plain": [
       "                                             word tag\n",
       "1490            \\tO\\nsmall\\tO\\ndark\\tO\\ndots\\tO\\n   O\n",
       "3888            \\tO\\ncracked\\tO\\n-\\tO\\ntooth\\tO\\n   O\n",
       "7121                     \\tO\\nsperm\\tO\\nfall\\tO\\n   O\n",
       "10466  \\tO\\nportable\\tO\\nenhancer\\tO\\ndomain\\tO\\n   O\n",
       "13925                  \\tO\\nhistone\\tB\\ncode\\tO\\n   O"
      ],
      "text/html": "<div>\n<style scoped>\n    .dataframe tbody tr th:only-of-type {\n        vertical-align: middle;\n    }\n\n    .dataframe tbody tr th {\n        vertical-align: top;\n    }\n\n    .dataframe thead th {\n        text-align: right;\n    }\n</style>\n<table border=\"1\" class=\"dataframe\">\n  <thead>\n    <tr style=\"text-align: right;\">\n      <th></th>\n      <th>word</th>\n      <th>tag</th>\n    </tr>\n  </thead>\n  <tbody>\n    <tr>\n      <th>1490</th>\n      <td>\\tO\\nsmall\\tO\\ndark\\tO\\ndots\\tO\\n</td>\n      <td>O</td>\n    </tr>\n    <tr>\n      <th>3888</th>\n      <td>\\tO\\ncracked\\tO\\n-\\tO\\ntooth\\tO\\n</td>\n      <td>O</td>\n    </tr>\n    <tr>\n      <th>7121</th>\n      <td>\\tO\\nsperm\\tO\\nfall\\tO\\n</td>\n      <td>O</td>\n    </tr>\n    <tr>\n      <th>10466</th>\n      <td>\\tO\\nportable\\tO\\nenhancer\\tO\\ndomain\\tO\\n</td>\n      <td>O</td>\n    </tr>\n    <tr>\n      <th>13925</th>\n      <td>\\tO\\nhistone\\tB\\ncode\\tO\\n</td>\n      <td>O</td>\n    </tr>\n  </tbody>\n</table>\n</div>"
     },
     "metadata": {},
     "execution_count": 26
    }
   ],
   "source": [
    "# Remove dados que impedem a conversão dos arquivos\n",
    "pattern = r'\\b\\t\\w*'\n",
    "mask = valid['word'].str.contains(pattern, regex=True)\n",
    "print('Quantidade de linhas que devem ser removidas na base de validação:', valid[mask].shape[0])\n",
    "valid[mask].head()"
   ]
  },
  {
   "cell_type": "code",
   "execution_count": 27,
   "metadata": {},
   "outputs": [
    {
     "output_type": "stream",
     "name": "stdout",
     "text": [
      "A base de dados gerada para treino posssui 1.367.193 linhas e 2 colunas\nA base de dados gerada para validação possui 1.076.027 linhas e 2 colunas\n"
     ]
    }
   ],
   "source": [
    "valid = valid[mask == False].copy()\n",
    "\n",
    "print(f'A base de dados gerada para treino posssui {train.shape[0]:,} linhas e {train.shape[1]:,} colunas'.replace(',', '.'))\n",
    "print(f'A base de dados gerada para validação possui {valid.shape[0]:,} linhas e {valid.shape[1]:,} colunas'.replace(',', '.'))"
   ]
  },
  {
   "cell_type": "code",
   "execution_count": 28,
   "metadata": {},
   "outputs": [
    {
     "output_type": "stream",
     "name": "stdout",
     "text": [
      "['O' 'B-DRUG-PROTEIN' 'I-DRUG-PROTEIN' 'B-CHEMICALS' 'I-CHEMICALS'\n 'B-DISEASE' 'I-DISEASE']\n['O' 'B-DRUG-PROTEIN' 'I-DRUG-PROTEIN' 'B-CHEMICALS' 'I-CHEMICALS'\n 'B-DISEASE' 'I-DISEASE']\n"
     ]
    }
   ],
   "source": [
    "print(train['tag'].unique(), valid['tag'].unique(), sep='\\n')"
   ]
  },
  {
   "cell_type": "markdown",
   "metadata": {},
   "source": [
    "## 5. Salvando os arquivos pré-processados"
   ]
  },
  {
   "cell_type": "code",
   "execution_count": 29,
   "metadata": {},
   "outputs": [],
   "source": [
    "# Shuffle data\n",
    "# train = shuffle(train, random_state=0)\n",
    "\n",
    "# Salva os arquivos pré-processados em formato \"iob\"\n",
    "train.to_csv('./datasets/spacy/train.iob', sep='\\t', header=0, index=0)\n",
    "valid.to_csv('./datasets/spacy/valid.iob', sep='\\t', header=0, index=0)"
   ]
  },
  {
   "cell_type": "code",
   "execution_count": 30,
   "metadata": {},
   "outputs": [
    {
     "output_type": "execute_result",
     "data": {
      "text/plain": [
       "O                 1257395\n",
       "I-CHEMICALS         35923\n",
       "B-CHEMICALS         29478\n",
       "I-DRUG-PROTEIN      22100\n",
       "B-DRUG-PROTEIN      15197\n",
       "B-DISEASE            4182\n",
       "I-DISEASE            2918\n",
       "Name: tag, dtype: int64"
      ]
     },
     "metadata": {},
     "execution_count": 30
    }
   ],
   "source": [
    "pd.read_csv('./datasets/spacy/train.iob', sep='\\t', names=['word', 'tag'])['tag'].value_counts(dropna=False)"
   ]
  },
  {
   "cell_type": "code",
   "execution_count": 31,
   "metadata": {},
   "outputs": [
    {
     "output_type": "execute_result",
     "data": {
      "text/plain": [
       "O                 997216\n",
       "I-CHEMICALS        34863\n",
       "B-CHEMICALS        29486\n",
       "I-DRUG-PROTEIN      4437\n",
       "B-DISEASE           4243\n",
       "B-DRUG-PROTEIN      3060\n",
       "I-DISEASE           2722\n",
       "Name: tag, dtype: int64"
      ]
     },
     "metadata": {},
     "execution_count": 31
    }
   ],
   "source": [
    "pd.read_csv('./datasets/spacy/valid.iob', sep='\\t', names=['word', 'tag'])['tag'].value_counts(dropna=False)"
   ]
  },
  {
   "cell_type": "markdown",
   "metadata": {},
   "source": [
    "## 6. Convertendo os arquivos `.iob` para o formato `.spacy`\n",
    "---\n",
    "Utilizaremos o exemplo disponível no [GitHub do spaCy](https://github.com/explosion/spaCy/tree/master/extra/example_data/ner_example_data)\n",
    "\n",
    "```bash\n",
    "$ python -m spacy convert -c iob -s -n 10 -b en_core_web_sm file.iob .\n",
    "```\n",
    "\n",
    "**Obs.:** Removemos a opção `-b en_core_web_sm` pois o modelo não estava convergindo com essa opção\n",
    "\n",
    "Salvaremos os arquivos convertidos em um diretório chamado _datasets/spacy_:\n",
    "```python\n",
    "# Converte o arquivo contendo a base de treino\n",
    "$ python -m spacy convert -c iob -s -n 10 ./datasets/spacy/train.iob ./datasets/spacy\n",
    "\n",
    "# Converte o arquivo contendo a base de test\n",
    "$ python -m spacy convert -c iob -s -n 10 ./datasets/spacy/valid.iob ./datasets/spacy\n",
    "\n",
    "# Em um único comando\n",
    "python -m spacy convert -c iob -s -n 10 ./datasets/spacy/train.iob ./datasets/spacy && python -m spacy convert -c iob -s -n 10 ./datasets/spacy/valid.iob ./datasets/spacy\n",
    "```\n",
    "#### Saída no _prompt_ de comando:\n",
    "\n",
    "<img src=\"./assets/iob_para_spacy.png\" width=60%>\n",
    "\n",
    "```python\n",
    "# Verifica a consistência dos arquivos gerados para treinamento e validação do modelo\n",
    "$ python -m spacy debug data config.cfg\n",
    "```\n",
    "#### Saída no _prompt_ de comando :\n",
    "\n",
    "<img src=\"./assets/consistencia_arquivos.png\" width=50%>"
   ]
  },
  {
   "cell_type": "markdown",
   "metadata": {},
   "source": [
    "## 7. Treinamento e Validação do modelo\n",
    "---\n",
    "Utilizando o template disponível em [Quickstart](https://spacy.io/usage/training#quickstart)\n",
    "\n",
    "```bash\n",
    "$ python -m spacy train config.cfg --output ./output --paths.train ./train.spacy --paths.dev ./dev.spacy\n",
    "```\n",
    "\n",
    "Para selecionar a GPU usamos a opção `--gpu-id`:\n",
    "```bash\n",
    "$ python -m spacy train config.cfg --gpu-id 0\n",
    "```\n",
    "\n",
    "Nossa linha de comando para treinamento e validação do modelo:\n",
    "\n",
    "```bash\n",
    "$ python -m spacy train config.cfg --gpu-id 0 --output ./datasets/spacy --paths.train ./datasets/spacy/train.spacy --paths.dev ./datasets/spacy/test.spacy\n",
    "```\n",
    "\n",
    "#### Saída no _prompt_ de comando:\n",
    "\n",
    "<img src=\"./assets/treinamento.png\" width=60%>\n",
    "\n"
   ]
  },
  {
   "cell_type": "markdown",
   "metadata": {},
   "source": [
    "## 8. Inferência"
   ]
  },
  {
   "cell_type": "code",
   "execution_count": 32,
   "metadata": {},
   "outputs": [
    {
     "output_type": "execute_result",
     "data": {
      "text/plain": [
       "         date                                              title  \\\n",
       "0  2020-03-19          Nets' Access to COVID-19 Tests Questioned   \n",
       "1    March 14       Ireland Announces Second Death From COVID-19   \n",
       "2     March 6  England to Register COVID-19 as 'Notifiable Di...   \n",
       "3    March 18  Lakers Reportedly Under Quarantine, Will Test ...   \n",
       "4    March 17  Factbox: COVID-19 and the New Coronavirus-Fact...   \n",
       "\n",
       "         category                                               body  \\\n",
       "0  Pro Basketball  New York Mayor Bill de Blasio is among those q...   \n",
       "1          Europe  A second patient has died of the COVID-19 viru...   \n",
       "2          Europe  England will formally register COVID-19, a dis...   \n",
       "3  Pro Basketball  Members of the Los Angeles Lakers are under qu...   \n",
       "4          Europe  Social media is awash with myths about how peo...   \n",
       "\n",
       "       source  \n",
       "0  By Reuters  \n",
       "1  By Reuters  \n",
       "2  By Reuters  \n",
       "3  By Reuters  \n",
       "4  By Reuters  "
      ],
      "text/html": "<div>\n<style scoped>\n    .dataframe tbody tr th:only-of-type {\n        vertical-align: middle;\n    }\n\n    .dataframe tbody tr th {\n        vertical-align: top;\n    }\n\n    .dataframe thead th {\n        text-align: right;\n    }\n</style>\n<table border=\"1\" class=\"dataframe\">\n  <thead>\n    <tr style=\"text-align: right;\">\n      <th></th>\n      <th>date</th>\n      <th>title</th>\n      <th>category</th>\n      <th>body</th>\n      <th>source</th>\n    </tr>\n  </thead>\n  <tbody>\n    <tr>\n      <th>0</th>\n      <td>2020-03-19</td>\n      <td>Nets' Access to COVID-19 Tests Questioned</td>\n      <td>Pro Basketball</td>\n      <td>New York Mayor Bill de Blasio is among those q...</td>\n      <td>By Reuters</td>\n    </tr>\n    <tr>\n      <th>1</th>\n      <td>March 14</td>\n      <td>Ireland Announces Second Death From COVID-19</td>\n      <td>Europe</td>\n      <td>A second patient has died of the COVID-19 viru...</td>\n      <td>By Reuters</td>\n    </tr>\n    <tr>\n      <th>2</th>\n      <td>March 6</td>\n      <td>England to Register COVID-19 as 'Notifiable Di...</td>\n      <td>Europe</td>\n      <td>England will formally register COVID-19, a dis...</td>\n      <td>By Reuters</td>\n    </tr>\n    <tr>\n      <th>3</th>\n      <td>March 18</td>\n      <td>Lakers Reportedly Under Quarantine, Will Test ...</td>\n      <td>Pro Basketball</td>\n      <td>Members of the Los Angeles Lakers are under qu...</td>\n      <td>By Reuters</td>\n    </tr>\n    <tr>\n      <th>4</th>\n      <td>March 17</td>\n      <td>Factbox: COVID-19 and the New Coronavirus-Fact...</td>\n      <td>Europe</td>\n      <td>Social media is awash with myths about how peo...</td>\n      <td>By Reuters</td>\n    </tr>\n  </tbody>\n</table>\n</div>"
     },
     "metadata": {},
     "execution_count": 32
    }
   ],
   "source": [
    "# Carrega base de dados\n",
    "corona_dataset = pd.read_csv('./datasets/corona_dataset.csv')\n",
    "\n",
    "# Remove colunas sem desnecessárias\n",
    "corona_dataset.drop(['Unnamed: 0', 'Unnamed: 0.1'], axis='columns', inplace=True)\n",
    "\n",
    "# Remove dados faltantes\n",
    "corona_dataset.dropna(inplace=True)\n",
    "\n",
    "# Exibe as linhas inicias da base de dados\n",
    "corona_dataset.head()"
   ]
  },
  {
   "cell_type": "code",
   "execution_count": 33,
   "metadata": {},
   "outputs": [
    {
     "output_type": "error",
     "ename": "OSError",
     "evalue": "[E050] Can't find model './datasets/spacy/model-best'. It doesn't seem to be a Python package or a valid path to a data directory.",
     "traceback": [
      "\u001b[1;31m---------------------------------------------------------------------------\u001b[0m",
      "\u001b[1;31mOSError\u001b[0m                                   Traceback (most recent call last)",
      "\u001b[1;32m<ipython-input-33-46a34820eb86>\u001b[0m in \u001b[0;36m<module>\u001b[1;34m\u001b[0m\n\u001b[0;32m      3\u001b[0m \u001b[1;31m# Carrega o modelo customizado e cria um objeto nlp\u001b[0m\u001b[1;33m\u001b[0m\u001b[1;33m\u001b[0m\u001b[1;33m\u001b[0m\u001b[0m\n\u001b[0;32m      4\u001b[0m \u001b[0mspacy\u001b[0m\u001b[1;33m.\u001b[0m\u001b[0mprefer_gpu\u001b[0m\u001b[1;33m(\u001b[0m\u001b[1;33m)\u001b[0m\u001b[1;33m\u001b[0m\u001b[1;33m\u001b[0m\u001b[0m\n\u001b[1;32m----> 5\u001b[1;33m \u001b[0mnlp\u001b[0m \u001b[1;33m=\u001b[0m \u001b[0mspacy\u001b[0m\u001b[1;33m.\u001b[0m\u001b[0mload\u001b[0m\u001b[1;33m(\u001b[0m\u001b[1;34m'./datasets/spacy/model-best'\u001b[0m\u001b[1;33m)\u001b[0m\u001b[1;33m\u001b[0m\u001b[1;33m\u001b[0m\u001b[0m\n\u001b[0m\u001b[0;32m      6\u001b[0m \u001b[1;33m\u001b[0m\u001b[0m\n\u001b[0;32m      7\u001b[0m \u001b[1;31m# Processa o texto\u001b[0m\u001b[1;33m\u001b[0m\u001b[1;33m\u001b[0m\u001b[1;33m\u001b[0m\u001b[0m\n",
      "\u001b[1;32m~\\miniconda3\\envs\\pytorch\\lib\\site-packages\\spacy\\__init__.py\u001b[0m in \u001b[0;36mload\u001b[1;34m(name, disable, exclude, config)\u001b[0m\n\u001b[0;32m     45\u001b[0m     \u001b[0mRETURNS\u001b[0m \u001b[1;33m(\u001b[0m\u001b[0mLanguage\u001b[0m\u001b[1;33m)\u001b[0m\u001b[1;33m:\u001b[0m \u001b[0mThe\u001b[0m \u001b[0mloaded\u001b[0m \u001b[0mnlp\u001b[0m \u001b[0mobject\u001b[0m\u001b[1;33m.\u001b[0m\u001b[1;33m\u001b[0m\u001b[1;33m\u001b[0m\u001b[0m\n\u001b[0;32m     46\u001b[0m     \"\"\"\n\u001b[1;32m---> 47\u001b[1;33m     \u001b[1;32mreturn\u001b[0m \u001b[0mutil\u001b[0m\u001b[1;33m.\u001b[0m\u001b[0mload_model\u001b[0m\u001b[1;33m(\u001b[0m\u001b[0mname\u001b[0m\u001b[1;33m,\u001b[0m \u001b[0mdisable\u001b[0m\u001b[1;33m=\u001b[0m\u001b[0mdisable\u001b[0m\u001b[1;33m,\u001b[0m \u001b[0mexclude\u001b[0m\u001b[1;33m=\u001b[0m\u001b[0mexclude\u001b[0m\u001b[1;33m,\u001b[0m \u001b[0mconfig\u001b[0m\u001b[1;33m=\u001b[0m\u001b[0mconfig\u001b[0m\u001b[1;33m)\u001b[0m\u001b[1;33m\u001b[0m\u001b[1;33m\u001b[0m\u001b[0m\n\u001b[0m\u001b[0;32m     48\u001b[0m \u001b[1;33m\u001b[0m\u001b[0m\n\u001b[0;32m     49\u001b[0m \u001b[1;33m\u001b[0m\u001b[0m\n",
      "\u001b[1;32m~\\miniconda3\\envs\\pytorch\\lib\\site-packages\\spacy\\util.py\u001b[0m in \u001b[0;36mload_model\u001b[1;34m(name, vocab, disable, exclude, config)\u001b[0m\n\u001b[0;32m    327\u001b[0m     \u001b[1;32mif\u001b[0m \u001b[0mname\u001b[0m \u001b[1;32min\u001b[0m \u001b[0mOLD_MODEL_SHORTCUTS\u001b[0m\u001b[1;33m:\u001b[0m\u001b[1;33m\u001b[0m\u001b[1;33m\u001b[0m\u001b[0m\n\u001b[0;32m    328\u001b[0m         \u001b[1;32mraise\u001b[0m \u001b[0mIOError\u001b[0m\u001b[1;33m(\u001b[0m\u001b[0mErrors\u001b[0m\u001b[1;33m.\u001b[0m\u001b[0mE941\u001b[0m\u001b[1;33m.\u001b[0m\u001b[0mformat\u001b[0m\u001b[1;33m(\u001b[0m\u001b[0mname\u001b[0m\u001b[1;33m=\u001b[0m\u001b[0mname\u001b[0m\u001b[1;33m,\u001b[0m \u001b[0mfull\u001b[0m\u001b[1;33m=\u001b[0m\u001b[0mOLD_MODEL_SHORTCUTS\u001b[0m\u001b[1;33m[\u001b[0m\u001b[0mname\u001b[0m\u001b[1;33m]\u001b[0m\u001b[1;33m)\u001b[0m\u001b[1;33m)\u001b[0m\u001b[1;33m\u001b[0m\u001b[1;33m\u001b[0m\u001b[0m\n\u001b[1;32m--> 329\u001b[1;33m     \u001b[1;32mraise\u001b[0m \u001b[0mIOError\u001b[0m\u001b[1;33m(\u001b[0m\u001b[0mErrors\u001b[0m\u001b[1;33m.\u001b[0m\u001b[0mE050\u001b[0m\u001b[1;33m.\u001b[0m\u001b[0mformat\u001b[0m\u001b[1;33m(\u001b[0m\u001b[0mname\u001b[0m\u001b[1;33m=\u001b[0m\u001b[0mname\u001b[0m\u001b[1;33m)\u001b[0m\u001b[1;33m)\u001b[0m\u001b[1;33m\u001b[0m\u001b[1;33m\u001b[0m\u001b[0m\n\u001b[0m\u001b[0;32m    330\u001b[0m \u001b[1;33m\u001b[0m\u001b[0m\n\u001b[0;32m    331\u001b[0m \u001b[1;33m\u001b[0m\u001b[0m\n",
      "\u001b[1;31mOSError\u001b[0m: [E050] Can't find model './datasets/spacy/model-best'. It doesn't seem to be a Python package or a valid path to a data directory."
     ]
    }
   ],
   "source": [
    "corpus = ' '.join(corona_dataset['body'])\n",
    "\n",
    "# Carrega o modelo customizado e cria um objeto nlp\n",
    "spacy.prefer_gpu()\n",
    "nlp = spacy.load('./datasets/spacy/model-best')\n",
    "\n",
    "# Processa o texto\n",
    "doc = nlp(corpus)"
   ]
  },
  {
   "cell_type": "code",
   "execution_count": 28,
   "metadata": {},
   "outputs": [
    {
     "output_type": "stream",
     "name": "stdout",
     "text": [
      "COVID-19 virus          PROTEIN\nSaturday              CHEMICALS\ncoronavirus           CHEMICALS\nBBC                   CHEMICALS\nCOVID-19                PROTEIN\nCOVID-19                PROTEIN\ncoronavirus           CHEMICALS\nPresident             CHEMICALS\nPresident             CHEMICALS\nSaturday              CHEMICALS\n’s                    CHEMICALS\n”                     CHEMICALS\n’s                    CHEMICALS\n”                     CHEMICALS\nCovid-19                PROTEIN\ndisaster              CHEMICALS\nSunday                CHEMICALS\n”                       PROTEIN\nGraduation            CHEMICALS\ncame                  CHEMICALS\nCOVID-19                PROTEIN\nibuprofen             CHEMICALS\nCOVID-19                PROTEIN\nlockdown              CHEMICALS\nCOVID-19                PROTEIN\nAlliance              CHEMICALS\ncoronavirus           CHEMICALS\nCOVID-19                PROTEIN\nATP                   CHEMICALS\nU. A                  CHEMICALS\nCOVID-19                PROTEIN\nU.S.                  CHEMICALS\n’s                    CHEMICALS\nschools               CHEMICALS\nATP                   CHEMICALS\nPresident             CHEMICALS\nCOVID-19                PROTEIN\nSaturday              CHEMICALS\n’s                    CHEMICALS\nCOVID-19                PROTEIN\nNBA                   CHEMICALS\nCOVID-19-related        PROTEIN\nNBA                   CHEMICALS\nSaturday              CHEMICALS\nNissan                CHEMICALS\nsuspend               CHEMICALS\nFTC                   CHEMICALS\nprofessor             CHEMICALS\ncoronavirus           CHEMICALS\nSaturday              CHEMICALS\nibuprofen             CHEMICALS\nPresident             CHEMICALS\n’s                    CHEMICALS\nU.S.                  CHEMICALS\nPresident             CHEMICALS\n”                       PROTEIN\nSaturday              CHEMICALS\nShutdowns             CHEMICALS\n’s                    CHEMICALS\nsick                  CHEMICALS\nSaturday              CHEMICALS\ncoronavirus           CHEMICALS\n’s                    CHEMICALS\nCovid-19                PROTEIN\nSaturday              CHEMICALS\n’s                    CHEMICALS\nhalt                  CHEMICALS\nterritory             CHEMICALS\nciting a              CHEMICALS\n’s                    CHEMICALS\n’s                    CHEMICALS\nSaturday              CHEMICALS\nCOVID-19                PROTEIN\nnitrogen dioxide      CHEMICALS\nCOVID-19                PROTEIN\nSunday                CHEMICALS\nSunday                CHEMICALS\n1,809                 CHEMICALS\nWashington headquarters  CHEMICALS\nCOVID-19                PROTEIN\n’s                    CHEMICALS\nU.S.                  CHEMICALS\nCOVID-19 virus\"         PROTEIN\nCOVID-19                PROTEIN\n’s                    CHEMICALS\nCovid-19                PROTEIN\nCOVID-19                PROTEIN\nCOVID-19                PROTEIN\nSaturday              CHEMICALS\nprivately             CHEMICALS\nCOVID-19                PROTEIN\nPresident             CHEMICALS\nPresident             CHEMICALS\nSaturday              CHEMICALS\ncoronavirus           CHEMICALS\nCOVID-19                PROTEIN\nUnion                 CHEMICALS\n’s                    CHEMICALS\nstatistics            CHEMICALS\nU.S.-China            CHEMICALS\n’s                    CHEMICALS\nGolden                CHEMICALS\nCOVID-19 virus          PROTEIN\nCOVID-19                PROTEIN\nEmissions             CHEMICALS\nsenior                CHEMICALS\nZealand               CHEMICALS\nSaturday              CHEMICALS\nCOVID-19                PROTEIN\nToyota                CHEMICALS\nToyota                CHEMICALS\nvoter participation   CHEMICALS\nSaturday              CHEMICALS\nCelebrities           CHEMICALS\nMercedes              CHEMICALS\nSaturday              CHEMICALS\ndozens                CHEMICALS\nOscar                 CHEMICALS\ncoronavirus           CHEMICALS\ncoronavirus           CHEMICALS\ncoronavirus           CHEMICALS\nDubai                 CHEMICALS\nSaturday              CHEMICALS\nsuccumbing            CHEMICALS\nvisiting              CHEMICALS\ndeclines              CHEMICALS\nsnap                  CHEMICALS\nsuccumbing            CHEMICALS\npassengers            CHEMICALS\nCOVID-19                PROTEIN\nSaturday              CHEMICALS\nCOVID-19                PROTEIN\nPresident             CHEMICALS\n”                       PROTEIN\nautomakers            CHEMICALS\n” A                   CHEMICALS\nalcohol               CHEMICALS\nBowery                CHEMICALS\nstruggled             CHEMICALS\nhomelessness          CHEMICALS\nconcoctions           CHEMICALS\nNBA                   CHEMICALS\nSaturday              CHEMICALS\ncoronavirus           CHEMICALS\nMonday                CHEMICALS\ncoronavirus           CHEMICALS\nPresident             CHEMICALS\nCOVID-19                PROTEIN\nautomakers            CHEMICALS\nsnap                  CHEMICALS\n’s                    CHEMICALS\ncoronavirus           CHEMICALS\nestimates             CHEMICALS\nclimbs                CHEMICALS\nJamaican              CHEMICALS\nciting                CHEMICALS\nPresident             CHEMICALS\nSaturday              CHEMICALS\nFeb. 15, 2020         CHEMICALS\ngoggles               CHEMICALS\nNissan                CHEMICALS\nFISI                  CHEMICALS\n’s                    CHEMICALS\nRwanda                CHEMICALS\ncoronavirus           CHEMICALS\nSaturday              CHEMICALS\ncoronavirus           CHEMICALS\nNCAA                    PROTEIN\nOscar                 CHEMICALS\nwaning                CHEMICALS\nCOVID-19                PROTEIN\nU.S.                  CHEMICALS\nU.S.                  CHEMICALS\ncoronavirus           CHEMICALS\nU.S.                  CHEMICALS\nPresident             CHEMICALS\nU.S.                  CHEMICALS\nPresident             CHEMICALS\ngrapples              CHEMICALS\nsituation             CHEMICALS\ncoronavirus           CHEMICALS\nchampion              CHEMICALS\nramp                  CHEMICALS\npassengers            CHEMICALS\n’s                    CHEMICALS\nSudan                 CHEMICALS\n’s                    CHEMICALS\nmonger                CHEMICALS\n’s                    CHEMICALS\nmonger                CHEMICALS\nramp                  CHEMICALS\nSaturday              CHEMICALS\nPresident             CHEMICALS\nMonday                CHEMICALS\n’s                    CHEMICALS\nATP                   CHEMICALS\nrolls                 CHEMICALS\nsupplies              CHEMICALS\nIslamic               CHEMICALS\nautomakers            CHEMICALS\nequipment             CHEMICALS\ncoronavirus           CHEMICALS\nIslamic               CHEMICALS\nathletics             CHEMICALS\nPresident             CHEMICALS\nPresident             CHEMICALS\nDuterte               CHEMICALS\nU.S. internet           PROTEIN\ncoronavirus           CHEMICALS\nenjoying              CHEMICALS\nenjoying              CHEMICALS\nProperty              CHEMICALS\nU.S.                  CHEMICALS\nSaturday              CHEMICALS\nskyrocketing          CHEMICALS\n’s                    CHEMICALS\nstepping              CHEMICALS\nscreenings            CHEMICALS\nsanitizing            CHEMICALS\nessentials            CHEMICALS\nramp                  CHEMICALS\nC.D.C.                  PROTEIN\nCovid-19                PROTEIN\nHonda                 CHEMICALS\nCo                    CHEMICALS\nPresident             CHEMICALS\nCOVID-19                PROTEIN\n’s                    CHEMICALS\nOct. 4                CHEMICALS\nCOVID-19                PROTEIN\nU.K.                  CHEMICALS\nGolden                CHEMICALS\nNBA                   CHEMICALS\n’s                    CHEMICALS\nU.S.                  CHEMICALS\nPresident             CHEMICALS\nramp                  CHEMICALS\n’s                    CHEMICALS\n111,000               CHEMICALS\nPresident             CHEMICALS\nHis                   CHEMICALS\nposts                 CHEMICALS\ntopics                CHEMICALS\nSaturday              CHEMICALS\nU.K.                  CHEMICALS\nCOVID-19                PROTEIN\nPresident             CHEMICALS\nDuterte               CHEMICALS\nSaturday              CHEMICALS\nPresident             CHEMICALS\nDuterte               CHEMICALS\nSaturday              CHEMICALS\nCOVID-19                PROTEIN\nCOVID-19                PROTEIN\nbills                 CHEMICALS\n’s                    CHEMICALS\nflood                 CHEMICALS\n’s                    CHEMICALS\nGolden                CHEMICALS\nSaturday              CHEMICALS\nUnless                CHEMICALS\ngouged                CHEMICALS\nCo                    CHEMICALS\nchimpanzees           CHEMICALS\nagree                 CHEMICALS\nNBA                   CHEMICALS\nSilver                CHEMICALS\n’s hiatus             CHEMICALS\nroughly               CHEMICALS\n’s                    CHEMICALS\nCOVID-19                PROTEIN\nSaturday              CHEMICALS\nSAS                   CHEMICALS\n’s                    CHEMICALS\ncoronavirus           CHEMICALS\n’s                    CHEMICALS\nU.S.-Mexico-Canada trade agreement    PROTEIN\nXinhua                CHEMICALS\nSunday                CHEMICALS\nPresident             CHEMICALS\nU.S.                  CHEMICALS\nresume                CHEMICALS\ncoronavirus           CHEMICALS\nhunters               CHEMICALS\nNBA                   CHEMICALS\n”                     CHEMICALS\nmovie                 CHEMICALS\nCovid-19                PROTEIN\n111,000               CHEMICALS\n’s                    CHEMICALS\n’s                    CHEMICALS\n”                       PROTEIN\nmarshal               CHEMICALS\nepidemiologists       CHEMICALS\n’s                    CHEMICALS\nU.S.                  CHEMICALS\ndozens                CHEMICALS\nPresident             CHEMICALS\nFrench                CHEMICALS\n’s                    CHEMICALS\n”                       PROTEIN\n’s                    CHEMICALS\n”                     CHEMICALS\nPresident             CHEMICALS\nPresident             CHEMICALS\nDuterte               CHEMICALS\nland                  CHEMICALS\n”                       PROTEIN\nmarshal               CHEMICALS\ncompanies             CHEMICALS\n”                       PROTEIN\nU.S.                  CHEMICALS\nLululemon             CHEMICALS\nemployers             CHEMICALS\nPresident             CHEMICALS\ntips                  CHEMICALS\nplunged               CHEMICALS\nNBA                   CHEMICALS\nIslamic               CHEMICALS\nIslamic               CHEMICALS\nCOVID-19                PROTEIN\n’s                    CHEMICALS\n’s                    CHEMICALS\nU.S.                  CHEMICALS\n’s                    CHEMICALS\nPresident             CHEMICALS\nD.C.                  CHEMICALS\nCOVID-19                PROTEIN\nNBA                   CHEMICALS\nCOVID-19                PROTEIN\nSaturday              CHEMICALS\ncoronavirus           CHEMICALS\nGregory               CHEMICALS\ndisaster              CHEMICALS\nSaturday              CHEMICALS\nreruns                CHEMICALS\ncinema                CHEMICALS\nCOVID-19                PROTEIN\ncoronavirus           CHEMICALS\nSaturday              CHEMICALS\nU.S.                  CHEMICALS\ndozens                CHEMICALS\ntrucks                CHEMICALS\nsupplies              CHEMICALS\nsenior                CHEMICALS\nU.S.                  CHEMICALS\n’s                    CHEMICALS\nExcerpts              CHEMICALS\n’s                    CHEMICALS\nPresident             CHEMICALS\nSaturday              CHEMICALS\nCOVID-19                PROTEIN\nPresident             CHEMICALS\nLloyds                CHEMICALS\nstruck                CHEMICALS\noutfitted             CHEMICALS\n25,000                CHEMICALS\n25,000                CHEMICALS\nA$17.6                  PROTEIN\n$11.4 billion)        CHEMICALS\nShowtime              CHEMICALS\n”                     CHEMICALS\nInstagram             CHEMICALS\nCovid-19                PROTEIN\ndozens                CHEMICALS\nU.S.                  CHEMICALS\nplunged               CHEMICALS\nvisas                 CHEMICALS\nsenior                CHEMICALS\nSoderbergh            CHEMICALS\nSunday                CHEMICALS\n”                     CHEMICALS\nPresident             CHEMICALS\nSaturday              CHEMICALS\nZealanders            CHEMICALS\n’s                    CHEMICALS\nPresident             CHEMICALS\n’s                    CHEMICALS\nCoronavirus           CHEMICALS\nWashington            CHEMICALS\nramp                  CHEMICALS\n”                       PROTEIN\n's                      PROTEIN\ndividends             CHEMICALS\nU.S.                  CHEMICALS\nU.S.                  CHEMICALS\nSaturday              CHEMICALS\n” members               PROTEIN\nCOVID-19                PROTEIN\nIndyCar               CHEMICALS\nIndyCar               CHEMICALS\n”                       PROTEIN\nPresident             CHEMICALS\nreservations          CHEMICALS\nPatrick               CHEMICALS\n’s                    CHEMICALS\nUConn                   PROTEIN\ncoronavirus           CHEMICALS\nMozambique            CHEMICALS\nBeira                 CHEMICALS\nCapitol               CHEMICALS\nPresident             CHEMICALS\nU.S.                  CHEMICALS\nTesla                 CHEMICALS\nNBA                   CHEMICALS\ndiversion             CHEMICALS\nPresident             CHEMICALS\nPresident             CHEMICALS\n’s                    CHEMICALS\namid                  CHEMICALS\nCo                    CHEMICALS\nPatrick               CHEMICALS\nParade                CHEMICALS\nWashington            CHEMICALS\nvoters                CHEMICALS\n’s                    CHEMICALS\n’s                    CHEMICALS\nautomakers            CHEMICALS\ncurtail               CHEMICALS\ngloves                CHEMICALS\nchampion              CHEMICALS\nPresident             CHEMICALS\nGolden                CHEMICALS\nSaturday              CHEMICALS\nCapitol               CHEMICALS\nPresident             CHEMICALS\nDuterte               CHEMICALS\n”                       PROTEIN\nPresident             CHEMICALS\nfestival              CHEMICALS\nShoppers              CHEMICALS\nCOVID-19                PROTEIN\npassengers            CHEMICALS\nZealand               CHEMICALS\nSunday                CHEMICALS\nU.S.                  CHEMICALS\nSaturday              CHEMICALS\nplunged               CHEMICALS\npassengers            CHEMICALS\nskeptical             CHEMICALS\nIFC                   CHEMICALS\nbloodshed             CHEMICALS\nPresident             CHEMICALS\nessentials            CHEMICALS\nPatrick               CHEMICALS\nPresident             CHEMICALS\n”                     CHEMICALS\ncoronavirus           CHEMICALS\nemployers             CHEMICALS\n’s                    CHEMICALS\n’s                    CHEMICALS\n’s                    CHEMICALS\n’s                    CHEMICALS\n”                       PROTEIN\ncoronavirus           CHEMICALS\nPresident             CHEMICALS\nU.S.                  CHEMICALS\n”                       PROTEIN\ngovernment            CHEMICALS\ndozens                CHEMICALS\nfend                  CHEMICALS\nSaturday              CHEMICALS\nU.S.                  CHEMICALS\nU.S.                  CHEMICALS\n174,000               CHEMICALS\nplunged               CHEMICALS\nMonday                CHEMICALS\nemployers             CHEMICALS\n”                     CHEMICALS\n’s                    CHEMICALS\ncruises               CHEMICALS\nSunday                CHEMICALS\ndeclared              CHEMICALS\nrevelers              CHEMICALS\n”                       PROTEIN\nCan I                   PROTEIN\ntrumpeted             CHEMICALS\ntournament            CHEMICALS\nplunged               CHEMICALS\nemployers             CHEMICALS\nPresident             CHEMICALS\nU.S.                  CHEMICALS\n"
     ]
    }
   ],
   "source": [
    "for token in doc.ents:\n",
    "    print(f'{token.text:<20} {token.label_:>10}')"
   ]
  },
  {
   "cell_type": "code",
   "execution_count": 29,
   "metadata": {},
   "outputs": [
    {
     "output_type": "display_data",
     "data": {
      "text/plain": "<IPython.core.display.HTML object>",
      "text/html": "<span class=\"tex2jax_ignore\"><div class=\"entities\" style=\"line-height: 2.5; direction: ltr\">New York Mayor Bill de Blasio is among those questioning how the Brooklyn Nets were able to test the team for coronavirus when others in his hard-hit city haven't had access to tests. A second patient has died of the \n<mark class=\"entity\" style=\"background: #ddd; padding: 0.45em 0.6em; margin: 0 0.25em; line-height: 1; border-radius: 0.35em;\">\n    COVID-19 virus\n    <span style=\"font-size: 0.8em; font-weight: bold; line-height: 1; border-radius: 0.35em; vertical-align: middle; margin-left: 0.5rem\">PROTEIN</span>\n</mark>\n in Ireland and the total number of confirmed cases in the country has increased to 129 from 90, the country's Chief Medical Officer Tony Holohan told journalists on \n<mark class=\"entity\" style=\"background: #ddd; padding: 0.45em 0.6em; margin: 0 0.25em; line-height: 1; border-radius: 0.35em;\">\n    Saturday\n    <span style=\"font-size: 0.8em; font-weight: bold; line-height: 1; border-radius: 0.35em; vertical-align: middle; margin-left: 0.5rem\">CHEMICALS</span>\n</mark>\n.  England will formally register COVID-19, a disease caused by the new \n<mark class=\"entity\" style=\"background: #ddd; padding: 0.45em 0.6em; margin: 0 0.25em; line-height: 1; border-radius: 0.35em;\">\n    coronavirus\n    <span style=\"font-size: 0.8em; font-weight: bold; line-height: 1; border-radius: 0.35em; vertical-align: middle; margin-left: 0.5rem\">CHEMICALS</span>\n</mark>\n, as &quot;notifiable&quot;, \n<mark class=\"entity\" style=\"background: #ddd; padding: 0.45em 0.6em; margin: 0 0.25em; line-height: 1; border-radius: 0.35em;\">\n    BBC\n    <span style=\"font-size: 0.8em; font-weight: bold; line-height: 1; border-radius: 0.35em; vertical-align: middle; margin-left: 0.5rem\">CHEMICALS</span>\n</mark>\n reported on Wednesday. Members of the Los Angeles Lakers are under quarantine for 14 days and will be tested for \n<mark class=\"entity\" style=\"background: #ddd; padding: 0.45em 0.6em; margin: 0 0.25em; line-height: 1; border-radius: 0.35em;\">\n    COVID-19\n    <span style=\"font-size: 0.8em; font-weight: bold; line-height: 1; border-radius: 0.35em; vertical-align: middle; margin-left: 0.5rem\">PROTEIN</span>\n</mark>\n, multiple media outlets reported Tuesday. Social media is awash with myths about how people might stop the new coronavirus or treat infection with \n<mark class=\"entity\" style=\"background: #ddd; padding: 0.45em 0.6em; margin: 0 0.25em; line-height: 1; border-radius: 0.35em;\">\n    COVID-19\n    <span style=\"font-size: 0.8em; font-weight: bold; line-height: 1; border-radius: 0.35em; vertical-align: middle; margin-left: 0.5rem\">PROTEIN</span>\n</mark>\n, the disease it causes. The World Health Organization said it had chosen a name for the disease that makes no reference to places, animals or people to avoid stigma. Italy and South Korea, two countries outside China that have been hard hit by the new \n<mark class=\"entity\" style=\"background: #ddd; padding: 0.45em 0.6em; margin: 0 0.25em; line-height: 1; border-radius: 0.35em;\">\n    coronavirus\n    <span style=\"font-size: 0.8em; font-weight: bold; line-height: 1; border-radius: 0.35em; vertical-align: middle; margin-left: 0.5rem\">CHEMICALS</span>\n</mark>\n, have reported dramatically different numbers of deaths as a proportion of cases. Why are these not comparable? Indonesian \n<mark class=\"entity\" style=\"background: #ddd; padding: 0.45em 0.6em; margin: 0 0.25em; line-height: 1; border-radius: 0.35em;\">\n    President\n    <span style=\"font-size: 0.8em; font-weight: bold; line-height: 1; border-radius: 0.35em; vertical-align: middle; margin-left: 0.5rem\">CHEMICALS</span>\n</mark>\n Joko Widodo said on Monday the authorities were not now considering imposing a lockdown to tackle the coronavirus outbreak, as the leader, his wife and a number of ministers awaited the results of tests for the virus. U.S. \n<mark class=\"entity\" style=\"background: #ddd; padding: 0.45em 0.6em; margin: 0 0.25em; line-height: 1; border-radius: 0.35em;\">\n    President\n    <span style=\"font-size: 0.8em; font-weight: bold; line-height: 1; border-radius: 0.35em; vertical-align: middle; margin-left: 0.5rem\">CHEMICALS</span>\n</mark>\n Donald Trump said that he is attending White House meetings on \n<mark class=\"entity\" style=\"background: #ddd; padding: 0.45em 0.6em; margin: 0 0.25em; line-height: 1; border-radius: 0.35em;\">\n    Saturday\n    <span style=\"font-size: 0.8em; font-weight: bold; line-height: 1; border-radius: 0.35em; vertical-align: middle; margin-left: 0.5rem\">CHEMICALS</span>\n</mark>\n on the COVID-19 outbreak caused by the coronavirus and would issue a &quot;full report later.&quot; The World Health Organization’s chief launched a global fund on Friday to raise money to help the world\n<mark class=\"entity\" style=\"background: #ddd; padding: 0.45em 0.6em; margin: 0 0.25em; line-height: 1; border-radius: 0.35em;\">\n    ’s\n    <span style=\"font-size: 0.8em; font-weight: bold; line-height: 1; border-radius: 0.35em; vertical-align: middle; margin-left: 0.5rem\">CHEMICALS</span>\n</mark>\n nations respond to the COVID-19 pandemic, saying “every dollar donated is a dollar towards saving lives.\n<mark class=\"entity\" style=\"background: #ddd; padding: 0.45em 0.6em; margin: 0 0.25em; line-height: 1; border-radius: 0.35em;\">\n    ”\n    <span style=\"font-size: 0.8em; font-weight: bold; line-height: 1; border-radius: 0.35em; vertical-align: middle; margin-left: 0.5rem\">CHEMICALS</span>\n</mark>\n </div></span>"
     },
     "metadata": {}
    }
   ],
   "source": [
    "# entities_cat_1 = {\"GGP\":\"#F9E79F\", \"SO\":\"#F7DC6F\", \"TAXON\":\"#F4D03F\", \"CHEBI\":\"#FAD7A0\", \"GO\":\"#F8C471\", \"CL\":\"#F5B041\"}\n",
    "# entities_cat_2 = {\"DNA\":\"#82E0AA\", \"CELL_TYPE\":\"#AED6F1\", \"CELL_LINE\":\"#E8DAEF\", \"RNA\":\"#82E0AA\", \"PROTEIN\":\"#82E0AA\"}\n",
    "# entities_cat_3 = {\"DISEASE\":\"#D7BDE2\", \"CHEMICAL\":\"#D2B4DE\"}\n",
    "# entities_cat_4 = {\"CANCER\":\"#ABEBC6\", \"ORGAN\":\"#82E0AA\", \"TISSUE\":\"#A9DFBF\", \"ORGANISM\":\"#A2D9CE\", \"CELL\":\"#76D7C4\", \\\n",
    "#                   \"AMINO_ACID\":\"#85C1E9\", \"GENE_OR_GENE_PRODUCT\":\"#AED6F1\", \"SIMPLE_CHEMICAL\":\"#76D7C4\", \"ANATOMICAL_SYSTEM\":\"#82E0AA\", \\\n",
    "#                   \"IMMATERIAL_ANATOMICAL_ENTITY\":\"#A2D9CE\", \"MULTI-TISSUE_STRUCTURE\":\"#85C1E9\", \"DEVELOPING_ANATOMICAL_STRUCTURE\":\"#A9DFBF\", \\\n",
    "#                   \"ORGANISM_SUBDIVISION\":\"#58D68D\", \"CELLULAR_COMPONENT\":\"#7FB3D5\"}\n",
    "\n",
    "options = {'ents':['CHEMICALS', 'DRUG_PROTEIN', 'DISEASE', 'SPECIES'],\n",
    "\n",
    "           'colors':{'CHEMICALS': '#D2B4DE',\n",
    "                     'DRUG_PROTEIN': '#82E0AA',\n",
    "                     'DISEASE': '#D7BDE2',\n",
    "                     'SPECIES': '#A2D9CE'}}\n",
    "\n",
    "spacy.displacy.render(doc, style=\"ent\", jupyter=True, options=options)"
   ]
  },
  {
   "cell_type": "markdown",
   "metadata": {},
   "source": [
    "Referências:\n",
    "\n",
    "[SpaCy](https://spacy.io/)   \n",
    "[Building a custom NER model in Spacy v3.1](https://zachlim98.github.io/me/2021-03/spacy3-ner-tutorial)   \n",
    "[NER @ CLI: Custom-named entity recognition with spaCy in four lines](https://blog.codecentric.de/en/2020/11/ner-cli-custom-named-entity-recognition-with-spacy-in-four-lines/)   \n",
    "[Descubre Named Entity Recognition (NER) con Spacy 3.0 (en castellano)](https://nymiz.com/blog/tecnologia/que-es-el-named-entity-recognition-ner/)\n",
    "\n",
    "\n"
   ]
  },
  {
   "cell_type": "markdown",
   "metadata": {},
   "source": [
    "$ python -m spacy debug data config.cfg"
   ]
  }
 ],
 "metadata": {
  "kernelspec": {
   "name": "python3710jvsc74a57bd0cb084e9823c91bc2641848397caf4d41212b92659530bed89d9880657b0e0b7c",
   "display_name": "Python 3.7.10 64-bit ('pytorch': conda)"
  },
  "language_info": {
   "codemirror_mode": {
    "name": "ipython",
    "version": 3
   },
   "file_extension": ".py",
   "mimetype": "text/x-python",
   "name": "python",
   "nbconvert_exporter": "python",
   "pygments_lexer": "ipython3",
   "version": "3.7.10"
  }
 },
 "nbformat": 4,
 "nbformat_minor": 4
}