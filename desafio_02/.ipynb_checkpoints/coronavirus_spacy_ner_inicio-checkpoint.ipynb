{
 "cells": [
  {
   "cell_type": "markdown",
   "metadata": {},
   "source": [
    "## 1. Bibliotecas e módulos úteis"
   ]
  },
  {
   "cell_type": "code",
   "execution_count": 1,
   "metadata": {},
   "outputs": [],
   "source": [
    "import pandas as pd\n",
    "\n",
    "import spacy"
   ]
  },
  {
   "cell_type": "code",
   "execution_count": 2,
   "metadata": {},
   "outputs": [
    {
     "data": {
      "text/plain": [
       "'3.0.5'"
      ]
     },
     "execution_count": 2,
     "metadata": {},
     "output_type": "execute_result"
    }
   ],
   "source": [
    "spacy.__version__"
   ]
  },
  {
   "cell_type": "markdown",
   "metadata": {},
   "source": [
    "## 2. Carregando as bases de dados relacionadas ao BC2GM(BioCreative II Gene Mention) _Corpus_:\n",
    "\n",
    "> [Gene Mention Tagging task](https://genomebiology.biomedcentral.com/articles/10.1186/gb-2008-9-s2-s2) as part of the BioCreative II challenge is concerned with the named entity extraction of gene and gene product mentions in text. The BC2GM corpus contains a total of 24,583 gene entity mentions.\n",
    "\n",
    "--- \n",
    "\n",
    "* Os aquivos estão no formato `.tsv` (_tab-separated values_). Podemos utilizar tanto o método `pd.read_table()` quanto o `pd.read_csv()` para carregá-los;\n",
    "  Nesse caso, é necessário especificar o separador `sep='\\t'`, indicando se tratar de tabulacão; ou o _alias_ para esse parâmetro, `delimiter='\\t'`;\n",
    "* Os arquivos não possuem cabeçalho. Assim, apenas para melhor compreensão dos dados, nomeamos as colunas por \"word\" e \"tag\" por meio do parâmetro `names=['word', 'tag']`;\n",
    "* Ao tentarmos carregar o arquivo de treino, ocorreu o seguinte erro - acreditomos que devido ao seu tamanho:\n",
    "\n",
    "    ```python\n",
    "    Error tokenizing data. C error: EOF inside string starting at row 131598\n",
    "    ```\n",
    "* A solução encontrada foi utilizar o parâmetro `quoting=3`."
   ]
  },
  {
   "cell_type": "code",
   "execution_count": 3,
   "metadata": {},
   "outputs": [],
   "source": [
    "# Carrega a base de treino e validação(dev) juntas\n",
    "bc2gm_train = pd.read_csv('./datasets/BC2GM/train_dev.tsv', sep='\\t', names=['word', 'tag'], quoting=3)\n",
    "\n",
    "# Carrega a base de teste\n",
    "bc2gm_test = pd.read_csv('./datasets/BC2GM/test.tsv', sep='\\t', names=['word', 'tag'])"
   ]
  },
  {
   "cell_type": "markdown",
   "metadata": {},
   "source": [
    "## 2.1 Análise Exploratória de Dados"
   ]
  },
  {
   "cell_type": "code",
   "execution_count": 4,
   "metadata": {},
   "outputs": [
    {
     "data": {
      "text/html": [
       "<div>\n",
       "<style scoped>\n",
       "    .dataframe tbody tr th:only-of-type {\n",
       "        vertical-align: middle;\n",
       "    }\n",
       "\n",
       "    .dataframe tbody tr th {\n",
       "        vertical-align: top;\n",
       "    }\n",
       "\n",
       "    .dataframe thead th {\n",
       "        text-align: right;\n",
       "    }\n",
       "</style>\n",
       "<table border=\"1\" class=\"dataframe\">\n",
       "  <thead>\n",
       "    <tr style=\"text-align: right;\">\n",
       "      <th></th>\n",
       "      <th>word</th>\n",
       "      <th>tag</th>\n",
       "    </tr>\n",
       "  </thead>\n",
       "  <tbody>\n",
       "    <tr>\n",
       "      <th>0</th>\n",
       "      <td>Immunohistochemical</td>\n",
       "      <td>O</td>\n",
       "    </tr>\n",
       "    <tr>\n",
       "      <th>1</th>\n",
       "      <td>staining</td>\n",
       "      <td>O</td>\n",
       "    </tr>\n",
       "    <tr>\n",
       "      <th>2</th>\n",
       "      <td>was</td>\n",
       "      <td>O</td>\n",
       "    </tr>\n",
       "    <tr>\n",
       "      <th>3</th>\n",
       "      <td>positive</td>\n",
       "      <td>O</td>\n",
       "    </tr>\n",
       "    <tr>\n",
       "      <th>4</th>\n",
       "      <td>for</td>\n",
       "      <td>O</td>\n",
       "    </tr>\n",
       "  </tbody>\n",
       "</table>\n",
       "</div>"
      ],
      "text/plain": [
       "                  word tag\n",
       "0  Immunohistochemical   O\n",
       "1             staining   O\n",
       "2                  was   O\n",
       "3             positive   O\n",
       "4                  for   O"
      ]
     },
     "execution_count": 4,
     "metadata": {},
     "output_type": "execute_result"
    }
   ],
   "source": [
    "# Exibe as primeiras linhas da base de treino\n",
    "bc2gm_train.head()"
   ]
  },
  {
   "cell_type": "code",
   "execution_count": 5,
   "metadata": {},
   "outputs": [
    {
     "data": {
      "text/html": [
       "<div>\n",
       "<style scoped>\n",
       "    .dataframe tbody tr th:only-of-type {\n",
       "        vertical-align: middle;\n",
       "    }\n",
       "\n",
       "    .dataframe tbody tr th {\n",
       "        vertical-align: top;\n",
       "    }\n",
       "\n",
       "    .dataframe thead th {\n",
       "        text-align: right;\n",
       "    }\n",
       "</style>\n",
       "<table border=\"1\" class=\"dataframe\">\n",
       "  <thead>\n",
       "    <tr style=\"text-align: right;\">\n",
       "      <th></th>\n",
       "      <th>word</th>\n",
       "      <th>tag</th>\n",
       "    </tr>\n",
       "  </thead>\n",
       "  <tbody>\n",
       "    <tr>\n",
       "      <th>0</th>\n",
       "      <td>Physical</td>\n",
       "      <td>O</td>\n",
       "    </tr>\n",
       "    <tr>\n",
       "      <th>1</th>\n",
       "      <td>mapping</td>\n",
       "      <td>O</td>\n",
       "    </tr>\n",
       "    <tr>\n",
       "      <th>2</th>\n",
       "      <td>220</td>\n",
       "      <td>O</td>\n",
       "    </tr>\n",
       "    <tr>\n",
       "      <th>3</th>\n",
       "      <td>kb</td>\n",
       "      <td>O</td>\n",
       "    </tr>\n",
       "    <tr>\n",
       "      <th>4</th>\n",
       "      <td>centromeric</td>\n",
       "      <td>O</td>\n",
       "    </tr>\n",
       "  </tbody>\n",
       "</table>\n",
       "</div>"
      ],
      "text/plain": [
       "          word tag\n",
       "0     Physical   O\n",
       "1      mapping   O\n",
       "2          220   O\n",
       "3           kb   O\n",
       "4  centromeric   O"
      ]
     },
     "execution_count": 5,
     "metadata": {},
     "output_type": "execute_result"
    }
   ],
   "source": [
    "# Exibe as linhas iniciais da base de teste\n",
    "bc2gm_test.head()"
   ]
  },
  {
   "cell_type": "code",
   "execution_count": 6,
   "metadata": {},
   "outputs": [
    {
     "data": {
      "text/plain": [
       "O    381648\n",
       "I     26541\n",
       "B     18258\n",
       "Name: tag, dtype: int64"
      ]
     },
     "execution_count": 6,
     "metadata": {},
     "output_type": "execute_result"
    }
   ],
   "source": [
    "# Exibe a distibuição de valores para a coluna \"tag\" na base de treino\n",
    "bc2gm_train['tag'].value_counts(dropna=False)"
   ]
  },
  {
   "cell_type": "code",
   "execution_count": 7,
   "metadata": {},
   "outputs": [
    {
     "data": {
      "text/plain": [
       "O    98965\n",
       "I     6694\n",
       "B     4765\n",
       "Name: tag, dtype: int64"
      ]
     },
     "execution_count": 7,
     "metadata": {},
     "output_type": "execute_result"
    }
   ],
   "source": [
    "# Exibe a distibuição de valores para a coluna \"tag\" na base de treino\n",
    "bc2gm_test['tag'].value_counts(dropna=False)"
   ]
  },
  {
   "cell_type": "markdown",
   "metadata": {},
   "source": [
    "De acordo com a coluna `tag`, temos uma típica represetação para tarefas de linguística computacional: O formato __IOB__ - um acrônimo para _Inside_, _Outside_, _Beginning_.\n",
    "\n",
    "[Inside–outside–beginning (tagging)](https://en.wikipedia.org/wiki/Inside%E2%80%93outside%E2%80%93beginning_(tagging))"
   ]
  },
  {
   "cell_type": "code",
   "execution_count": 8,
   "metadata": {},
   "outputs": [
    {
     "name": "stdout",
     "output_type": "stream",
     "text": [
      "A base de treino possui 426.447 linas e 2 colunas\n",
      "A base de teste possui 110.424 linnas e 2 colunas\n"
     ]
    }
   ],
   "source": [
    "print(f'A base de treino possui {bc2gm_train.shape[0]:,} linas e {bc2gm_train.shape[1]:,} colunas'.replace(',', '.'))\n",
    "print(f'A base de teste possui {bc2gm_test.shape[0]:,} linnas e {bc2gm_test.shape[1]:,} colunas'.replace(',', '.'))"
   ]
  },
  {
   "cell_type": "markdown",
   "metadata": {},
   "source": [
    "## 2.2. Procurando por Dados Faltantes"
   ]
  },
  {
   "cell_type": "code",
   "execution_count": 9,
   "metadata": {},
   "outputs": [
    {
     "name": "stdout",
     "output_type": "stream",
     "text": [
      "Valores faltantes na base de treino:\n",
      "-------------------------------------\n",
      "word    26\n",
      "tag      0\n",
      "dtype: int64\n",
      "\n",
      "Valores faltantes na base de teste:\n",
      "-------------------------------------\n",
      "word    9\n",
      "tag     0\n",
      "dtype: int64\n"
     ]
    }
   ],
   "source": [
    "# Verifica se há missing values na base de treino\n",
    "print('Valores faltantes na base de treino:' , '-' * 37, bc2gm_train.isna().sum(), sep='\\n', end='\\n\\n')\n",
    "\n",
    "# Verifica se há missing values na base de test\n",
    "print('Valores faltantes na base de teste:', '-' * 37, bc2gm_test.isna().sum(), sep='\\n')"
   ]
  },
  {
   "cell_type": "code",
   "execution_count": 10,
   "metadata": {},
   "outputs": [
    {
     "name": "stdout",
     "output_type": "stream",
     "text": [
      "A base de treino possui 426.421 linas e 2 colunas\n",
      "A base de teste possui 110.415 linnas e 2 colunas\n"
     ]
    }
   ],
   "source": [
    "# Remove dados faltantes da base de treino e teste\n",
    "bc2gm_train.dropna(inplace=True)\n",
    "bc2gm_test.dropna(inplace=True)\n",
    "\n",
    "# Sanity check\n",
    "print(f'A base de treino possui {bc2gm_train.shape[0]:,} linas e {bc2gm_train.shape[1]:,} colunas'.replace(',', '.'))\n",
    "print(f'A base de teste possui {bc2gm_test.shape[0]:,} linnas e {bc2gm_test.shape[1]:,} colunas'.replace(',', '.'))"
   ]
  },
  {
   "cell_type": "markdown",
   "metadata": {},
   "source": [
    "## 3 Carregando as bases de dados relacionadas ao BC4CHEMD Corpus:"
   ]
  },
  {
   "cell_type": "code",
   "execution_count": 11,
   "metadata": {},
   "outputs": [],
   "source": [
    "# Carrega a base de treino e validação(dev) juntas\n",
    "bc4chemd_train = pd.read_csv('./datasets/BC4CHEMD/train_dev.tsv', sep='\\t', names=['word', 'tag'], quoting=3)\n",
    "\n",
    "# Carrega a base de teste\n",
    "bc4chemd_test = pd.read_csv('./datasets/BC4CHEMD/test.tsv', sep='\\t', names=['word', 'tag'], quoting=3)"
   ]
  },
  {
   "cell_type": "markdown",
   "metadata": {},
   "source": [
    "## 3.1 Análise Exploratória de Dados"
   ]
  },
  {
   "cell_type": "code",
   "execution_count": 12,
   "metadata": {},
   "outputs": [
    {
     "data": {
      "text/html": [
       "<div>\n",
       "<style scoped>\n",
       "    .dataframe tbody tr th:only-of-type {\n",
       "        vertical-align: middle;\n",
       "    }\n",
       "\n",
       "    .dataframe tbody tr th {\n",
       "        vertical-align: top;\n",
       "    }\n",
       "\n",
       "    .dataframe thead th {\n",
       "        text-align: right;\n",
       "    }\n",
       "</style>\n",
       "<table border=\"1\" class=\"dataframe\">\n",
       "  <thead>\n",
       "    <tr style=\"text-align: right;\">\n",
       "      <th></th>\n",
       "      <th>word</th>\n",
       "      <th>tag</th>\n",
       "    </tr>\n",
       "  </thead>\n",
       "  <tbody>\n",
       "    <tr>\n",
       "      <th>0</th>\n",
       "      <td>DPP6</td>\n",
       "      <td>O</td>\n",
       "    </tr>\n",
       "    <tr>\n",
       "      <th>1</th>\n",
       "      <td>as</td>\n",
       "      <td>O</td>\n",
       "    </tr>\n",
       "    <tr>\n",
       "      <th>2</th>\n",
       "      <td>a</td>\n",
       "      <td>O</td>\n",
       "    </tr>\n",
       "    <tr>\n",
       "      <th>3</th>\n",
       "      <td>candidate</td>\n",
       "      <td>O</td>\n",
       "    </tr>\n",
       "    <tr>\n",
       "      <th>4</th>\n",
       "      <td>gene</td>\n",
       "      <td>O</td>\n",
       "    </tr>\n",
       "  </tbody>\n",
       "</table>\n",
       "</div>"
      ],
      "text/plain": [
       "        word tag\n",
       "0       DPP6   O\n",
       "1         as   O\n",
       "2          a   O\n",
       "3  candidate   O\n",
       "4       gene   O"
      ]
     },
     "execution_count": 12,
     "metadata": {},
     "output_type": "execute_result"
    }
   ],
   "source": [
    "# Exibe as primeiras linhas da base de treino\n",
    "bc4chemd_train.head()"
   ]
  },
  {
   "cell_type": "code",
   "execution_count": 13,
   "metadata": {},
   "outputs": [
    {
     "data": {
      "text/html": [
       "<div>\n",
       "<style scoped>\n",
       "    .dataframe tbody tr th:only-of-type {\n",
       "        vertical-align: middle;\n",
       "    }\n",
       "\n",
       "    .dataframe tbody tr th {\n",
       "        vertical-align: top;\n",
       "    }\n",
       "\n",
       "    .dataframe thead th {\n",
       "        text-align: right;\n",
       "    }\n",
       "</style>\n",
       "<table border=\"1\" class=\"dataframe\">\n",
       "  <thead>\n",
       "    <tr style=\"text-align: right;\">\n",
       "      <th></th>\n",
       "      <th>word</th>\n",
       "      <th>tag</th>\n",
       "    </tr>\n",
       "  </thead>\n",
       "  <tbody>\n",
       "    <tr>\n",
       "      <th>0</th>\n",
       "      <td>Effects</td>\n",
       "      <td>O</td>\n",
       "    </tr>\n",
       "    <tr>\n",
       "      <th>1</th>\n",
       "      <td>of</td>\n",
       "      <td>O</td>\n",
       "    </tr>\n",
       "    <tr>\n",
       "      <th>2</th>\n",
       "      <td>docosahexaenoic</td>\n",
       "      <td>B</td>\n",
       "    </tr>\n",
       "    <tr>\n",
       "      <th>3</th>\n",
       "      <td>acid</td>\n",
       "      <td>I</td>\n",
       "    </tr>\n",
       "    <tr>\n",
       "      <th>4</th>\n",
       "      <td>and</td>\n",
       "      <td>O</td>\n",
       "    </tr>\n",
       "  </tbody>\n",
       "</table>\n",
       "</div>"
      ],
      "text/plain": [
       "              word tag\n",
       "0          Effects   O\n",
       "1               of   O\n",
       "2  docosahexaenoic   B\n",
       "3             acid   I\n",
       "4              and   O"
      ]
     },
     "execution_count": 13,
     "metadata": {},
     "output_type": "execute_result"
    }
   ],
   "source": [
    "# Exibe as linhas iniciais da base de teste\n",
    "bc4chemd_test.head()"
   ]
  },
  {
   "cell_type": "markdown",
   "metadata": {},
   "source": [
    "## 3.2. Procurando por Dados Faltantes"
   ]
  },
  {
   "cell_type": "code",
   "execution_count": 14,
   "metadata": {},
   "outputs": [
    {
     "name": "stdout",
     "output_type": "stream",
     "text": [
      "Valores faltantes na base de treino:\n",
      "-------------------------------------\n",
      "word    95\n",
      "tag      0\n",
      "dtype: int64\n",
      "\n",
      "Valores faltantes na base de teste:\n",
      "-------------------------------------\n",
      "word    20\n",
      "tag      0\n",
      "dtype: int64\n"
     ]
    }
   ],
   "source": [
    "# Verifica se há missing values na base de treino\n",
    "print('Valores faltantes na base de treino:' , '-' * 37, bc4chemd_train.isna().sum(), sep='\\n', end='\\n\\n')\n",
    "\n",
    "# Verifica se há missing values na base de test\n",
    "print('Valores faltantes na base de teste:', '-' * 37, bc4chemd_test.isna().sum(), sep='\\n')"
   ]
  },
  {
   "cell_type": "code",
   "execution_count": 15,
   "metadata": {},
   "outputs": [
    {
     "name": "stdout",
     "output_type": "stream",
     "text": [
      "A base de treino possui 1,781,395 linas e 2 colunas\n",
      "A base de teste possui 767,616 linnas e 2 colunas\n"
     ]
    }
   ],
   "source": [
    "# Remove dados faltantes da base de treino e teste\n",
    "bc4chemd_train.dropna(inplace=True)\n",
    "bc4chemd_test.dropna(inplace=True)\n",
    "\n",
    "# Sanity check\n",
    "print(f'A base de treino possui {bc4chemd_train.shape[0]:,} linas e {bc4chemd_train.shape[1]:,} colunas')\n",
    "print(f'A base de teste possui {bc4chemd_test.shape[0]:,} linnas e {bc4chemd_test.shape[1]:,} colunas')"
   ]
  },
  {
   "cell_type": "markdown",
   "metadata": {},
   "source": [
    "## 4. Criação dos arquivos para treinamento do modelo por meio do spaCy\n",
    "---\n",
    "Na versão mais recente do spaCy, a transformação de arquivos para o formato `.spacy` é feita via linha de comando.   \n",
    "É necessario um arquivo `config.cfg` para se utilizar a linha de comando do spaCy.    \n",
    "Esse arquivo pode ser criado [aqui](https://spacy.io/usage/training#quickstart).    \n",
    "Daí, basta clicar no ícone de download, salvar o arquivo na pasta do projeto e executar a seguinte linha de comando:\n",
    "```bash\n",
    "$ python -m spacy init fill-config base_config.cfg config.cfg\n",
    "```\n",
    "\n",
    "#### 4.1. Exibição no _prompt_ após execução da linha de comando acima:\n",
    "<img src=\"assets/config.PNG\" width=60%>\n",
    "\n",
    "#### 4.2. As configurações por mim escolhidas: \n",
    "\n",
    "\n",
    "<img src=\"assets/quickstart.png\" width=70%>\n"
   ]
  },
  {
   "cell_type": "markdown",
   "metadata": {},
   "source": [
    "Se tentarmos gerar os arquivos `.spacy` utilizando somente as _tags_ IOB, será gerado um erro.   \n",
    "É preciso completar a _tag_ para o __I__ e o __B__.   \n",
    "Utilizaremos a _tag_ disponível na tabela encaminhada pelo professor Cristian."
   ]
  },
  {
   "cell_type": "code",
   "execution_count": 16,
   "metadata": {},
   "outputs": [],
   "source": [
    "bc2gm_train['tag'].replace({'I': 'I-DRUG-PROTEIN', 'B': 'B-DRUG-PROTEIN'}, inplace=True)\n",
    "bc2gm_test['tag'].replace({'I': 'I-DRUG-PROTEIN', 'B': 'B-DRUG-PROTEIN'}, inplace=True)\n",
    "\n",
    "bc4chemd_train['tag'].replace({'I': 'I-CHEMICALS', 'B': 'B-CHEMICALS'}, inplace=True)\n",
    "bc4chemd_test['tag'].replace({'I': 'I-CHEMICALS', 'B': 'B-CHEMICALS'}, inplace=True)"
   ]
  },
  {
   "cell_type": "code",
   "execution_count": 17,
   "metadata": {},
   "outputs": [
    {
     "data": {
      "text/plain": [
       "(array(['O', 'B-DRUG-PROTEIN', 'I-DRUG-PROTEIN'], dtype=object),\n",
       " array(['O', 'B-DRUG-PROTEIN', 'I-DRUG-PROTEIN'], dtype=object),\n",
       " array(['O', 'B-CHEMICALS', 'I-CHEMICALS'], dtype=object),\n",
       " array(['O', 'B-CHEMICALS', 'I-CHEMICALS'], dtype=object))"
      ]
     },
     "execution_count": 17,
     "metadata": {},
     "output_type": "execute_result"
    }
   ],
   "source": [
    "bc2gm_train['tag'].unique(), bc2gm_test['tag'].unique(), bc4chemd_train['tag'].unique(), bc4chemd_test['tag'].unique()"
   ]
  },
  {
   "cell_type": "code",
   "execution_count": 18,
   "metadata": {},
   "outputs": [
    {
     "name": "stdout",
     "output_type": "stream",
     "text": [
      "A base de dados gerada para treino posssui 476.421 linas e 2 colunas\n",
      "A base de dados gerada para teste possui 135.415 linnas e 2 colunas\n"
     ]
    }
   ],
   "source": [
    "# Base de dados reduzida, somente para exemplificação\n",
    "train = pd.concat([bc2gm_train, bc4chemd_train[:50_000]])\n",
    "test = pd.concat([bc2gm_test, bc4chemd_test[:25_000]])\n",
    "\n",
    "\n",
    "print(f'A base de dados gerada para treino posssui {train.shape[0]:,} linas e {test.shape[1]:,} colunas'.replace(',', '.'))\n",
    "print(f'A base de dados gerada para teste possui {test.shape[0]:,} linnas e {test.shape[1]:,} colunas'.replace(',', '.'))"
   ]
  },
  {
   "cell_type": "code",
   "execution_count": 19,
   "metadata": {},
   "outputs": [
    {
     "data": {
      "text/plain": [
       "(array(['O', 'B-DRUG-PROTEIN', 'I-DRUG-PROTEIN', 'B-CHEMICALS',\n",
       "        'I-CHEMICALS'], dtype=object),\n",
       " array(['O', 'B-DRUG-PROTEIN', 'I-DRUG-PROTEIN', 'B-CHEMICALS',\n",
       "        'I-CHEMICALS'], dtype=object))"
      ]
     },
     "execution_count": 19,
     "metadata": {},
     "output_type": "execute_result"
    }
   ],
   "source": [
    "train['tag'].unique(), test['tag'].unique()"
   ]
  },
  {
   "cell_type": "markdown",
   "metadata": {},
   "source": [
    "## 5. Salvando os arquivos pré-processados"
   ]
  },
  {
   "cell_type": "code",
   "execution_count": 20,
   "metadata": {},
   "outputs": [],
   "source": [
    "train.to_csv('./datasets/spacy/train.iob', sep='\\t', header=0, index=0)\n",
    "test.to_csv('./datasets/spacy/test.iob', sep='\\t', header=0, index=0)"
   ]
  },
  {
   "cell_type": "markdown",
   "metadata": {},
   "source": [
    "## 6. Convertendo os arquivos `.iob` para o formato `.spacy`\n",
    "---\n",
    "Utilizaremos o exemplo disponível no [GitHub do spaCy](https://github.com/explosion/spaCy/tree/master/extra/example_data/ner_example_data)\n",
    "\n",
    "```bash\n",
    "$ python -m spacy convert -c iob -s -n 10 -b en_core_web_sm file.iob .\n",
    "```\n",
    "\n",
    "**Obs.:** Removemos a opção `-b en_core_web_sm` pois o modelo não estava convergindo com essa opção\n",
    "\n",
    "Salvaremos os arquivos convertidos em um diretório chamado _datasets/spacy_:\n",
    "```python\n",
    "# Converte o arquivo contendo a base de treino\n",
    "$ python -m spacy convert -c iob -s -n 10 ./datasets/spacy/train.iob ./datasets/spacy\n",
    "\n",
    "# Converte o arquivo contendo a base de test\n",
    "$ python -m spacy convert -c iob -s -n 10 ./datasets/spacy/test.iob ./datasets/spacy\n",
    "```\n",
    "\n",
    "#### Saída no _prompt_ de comando - __processo demorado!__:\n",
    "\n",
    "<img src=\"./assets/iob_para_spacy.png\" width=50%>\n",
    "\n",
    "```python\n",
    "# Converte o arquivo contendo a base de test\n",
    "$ python -m spacy debug data config.cfg\n",
    "```\n",
    "#### Saída no _prompt_ de comando :\n",
    "\n",
    "<img src=\"./assets/consistencia_arquivos.png\" width=50%>"
   ]
  },
  {
   "cell_type": "markdown",
   "metadata": {},
   "source": [
    "## 7. Treinamento e Validação do modelo\n",
    "---\n",
    "Utilizando o template disponível em [Quickstart](https://spacy.io/usage/training#quickstart)\n",
    "\n",
    "```bash\n",
    "$ python -m spacy train config.cfg --output ./output --paths.train ./train.spacy --paths.dev ./dev.spacy\n",
    "```\n",
    "\n",
    "Para selecionar a GPU usamos a opção `--gpu-id`:\n",
    "```bash\n",
    "$ python -m spacy train config.cfg --gpu-id 0\n",
    "```\n",
    "\n",
    "Nossa linha de comando para treinamento e validação do modelo:\n",
    "\n",
    "```bash\n",
    "$ python -m spacy train config.cfg --gpu-id 0 --output ./datasets --paths.train ./datasets/spacy/train.spacy --paths.dev ./datasets/spacy/test.spacy\n",
    "```\n",
    "\n",
    "#### Saída no _prompt_ de comando:\n",
    "\n",
    "<img src=\"./assets/treinamento.png\" width=50%>\n",
    "\n"
   ]
  },
  {
   "cell_type": "markdown",
   "metadata": {},
   "source": [
    "## 8. Inferência"
   ]
  },
  {
   "cell_type": "code",
   "execution_count": 21,
   "metadata": {},
   "outputs": [
    {
     "data": {
      "text/html": [
       "<div>\n",
       "<style scoped>\n",
       "    .dataframe tbody tr th:only-of-type {\n",
       "        vertical-align: middle;\n",
       "    }\n",
       "\n",
       "    .dataframe tbody tr th {\n",
       "        vertical-align: top;\n",
       "    }\n",
       "\n",
       "    .dataframe thead th {\n",
       "        text-align: right;\n",
       "    }\n",
       "</style>\n",
       "<table border=\"1\" class=\"dataframe\">\n",
       "  <thead>\n",
       "    <tr style=\"text-align: right;\">\n",
       "      <th></th>\n",
       "      <th>date</th>\n",
       "      <th>title</th>\n",
       "      <th>category</th>\n",
       "      <th>body</th>\n",
       "      <th>source</th>\n",
       "    </tr>\n",
       "  </thead>\n",
       "  <tbody>\n",
       "    <tr>\n",
       "      <th>0</th>\n",
       "      <td>2020-03-19</td>\n",
       "      <td>Nets' Access to COVID-19 Tests Questioned</td>\n",
       "      <td>Pro Basketball</td>\n",
       "      <td>New York Mayor Bill de Blasio is among those q...</td>\n",
       "      <td>By Reuters</td>\n",
       "    </tr>\n",
       "    <tr>\n",
       "      <th>1</th>\n",
       "      <td>March 14</td>\n",
       "      <td>Ireland Announces Second Death From COVID-19</td>\n",
       "      <td>Europe</td>\n",
       "      <td>A second patient has died of the COVID-19 viru...</td>\n",
       "      <td>By Reuters</td>\n",
       "    </tr>\n",
       "    <tr>\n",
       "      <th>2</th>\n",
       "      <td>March 6</td>\n",
       "      <td>England to Register COVID-19 as 'Notifiable Di...</td>\n",
       "      <td>Europe</td>\n",
       "      <td>England will formally register COVID-19, a dis...</td>\n",
       "      <td>By Reuters</td>\n",
       "    </tr>\n",
       "    <tr>\n",
       "      <th>3</th>\n",
       "      <td>March 18</td>\n",
       "      <td>Lakers Reportedly Under Quarantine, Will Test ...</td>\n",
       "      <td>Pro Basketball</td>\n",
       "      <td>Members of the Los Angeles Lakers are under qu...</td>\n",
       "      <td>By Reuters</td>\n",
       "    </tr>\n",
       "    <tr>\n",
       "      <th>4</th>\n",
       "      <td>March 17</td>\n",
       "      <td>Factbox: COVID-19 and the New Coronavirus-Fact...</td>\n",
       "      <td>Europe</td>\n",
       "      <td>Social media is awash with myths about how peo...</td>\n",
       "      <td>By Reuters</td>\n",
       "    </tr>\n",
       "  </tbody>\n",
       "</table>\n",
       "</div>"
      ],
      "text/plain": [
       "         date                                              title  \\\n",
       "0  2020-03-19          Nets' Access to COVID-19 Tests Questioned   \n",
       "1    March 14       Ireland Announces Second Death From COVID-19   \n",
       "2     March 6  England to Register COVID-19 as 'Notifiable Di...   \n",
       "3    March 18  Lakers Reportedly Under Quarantine, Will Test ...   \n",
       "4    March 17  Factbox: COVID-19 and the New Coronavirus-Fact...   \n",
       "\n",
       "         category                                               body  \\\n",
       "0  Pro Basketball  New York Mayor Bill de Blasio is among those q...   \n",
       "1          Europe  A second patient has died of the COVID-19 viru...   \n",
       "2          Europe  England will formally register COVID-19, a dis...   \n",
       "3  Pro Basketball  Members of the Los Angeles Lakers are under qu...   \n",
       "4          Europe  Social media is awash with myths about how peo...   \n",
       "\n",
       "       source  \n",
       "0  By Reuters  \n",
       "1  By Reuters  \n",
       "2  By Reuters  \n",
       "3  By Reuters  \n",
       "4  By Reuters  "
      ]
     },
     "execution_count": 21,
     "metadata": {},
     "output_type": "execute_result"
    }
   ],
   "source": [
    "# Carrega base de dados\n",
    "corona_dataset = pd.read_csv('./datasets/corona_dataset.csv')\n",
    "\n",
    "# Remove colunas sem desnecessárias\n",
    "corona_dataset.drop(['Unnamed: 0', 'Unnamed: 0.1'], axis='columns', inplace=True)\n",
    "\n",
    "# Remove dados faltantes\n",
    "corona_dataset.dropna(inplace=True)\n",
    "\n",
    "# Exibe as linhas inicias da base de dados\n",
    "corona_dataset.head()"
   ]
  },
  {
   "cell_type": "code",
   "execution_count": 22,
   "metadata": {},
   "outputs": [],
   "source": [
    "corpus = ' '.join(corona_dataset['body'])\n",
    "\n",
    "# Carrega o modelo customizado e cria um objeto nlp\n",
    "nlp = spacy.load('./datasets/model-best')\n",
    "\n",
    "# Processa o texto\n",
    "doc = nlp(corpus)"
   ]
  },
  {
   "cell_type": "code",
   "execution_count": 23,
   "metadata": {},
   "outputs": [
    {
     "name": "stdout",
     "output_type": "stream",
     "text": [
      "BBC CHEMICALS\n",
      "Indonesian President CHEMICALS\n",
      "NHL DRUG-PROTEIN\n",
      "U.S. DRUG-PROTEIN\n",
      "“ DRUG-PROTEIN\n",
      "Cup DRUG-PROTEIN\n",
      "ATP CHEMICALS\n",
      "U.S. DRUG-PROTEIN\n",
      "U.S. DRUG-PROTEIN\n",
      "schools CHEMICALS\n",
      "Governor Jay Inslee DRUG-PROTEIN\n",
      "soon CHEMICALS\n",
      "Inc DRUG-PROTEIN\n",
      "U.S. DRUG-PROTEIN\n",
      "U.S. DRUG-PROTEIN\n",
      "Governor Andrew CHEMICALS\n",
      "containment CHEMICALS\n",
      "U.S. DRUG-PROTEIN\n",
      "FDA DRUG-PROTEIN\n",
      "selling products CHEMICALS\n",
      "U.S. DRUG-PROTEIN\n",
      "Inc DRUG-PROTEIN\n",
      "Bay DRUG-PROTEIN\n",
      "U.S. DRUG-PROTEIN\n",
      "4.4 DRUG-PROTEIN\n",
      "schools CHEMICALS\n",
      "U.S. states DRUG-PROTEIN\n",
      "President CHEMICALS\n",
      "“ DRUG-PROTEIN\n",
      "Formula E DRUG-PROTEIN\n",
      "U.S. DRUG-PROTEIN\n",
      "masks CHEMICALS\n",
      "God’s DRUG-PROTEIN\n",
      "supplies DRUG-PROTEIN\n",
      "U.S. DRUG-PROTEIN\n",
      "U.S. DRUG-PROTEIN\n",
      "U.S. DRUG-PROTEIN\n",
      "G20 finance ministers DRUG-PROTEIN\n",
      "COVID-19 DRUG-PROTEIN\n",
      "flu-like DRUG-PROTEIN\n",
      "U.S. DRUG-PROTEIN\n",
      "U.S. DRUG-PROTEIN\n",
      "President CHEMICALS\n",
      "California CHEMICALS\n",
      "California CHEMICALS\n",
      "Is DRUG-PROTEIN\n",
      "U.S. DRUG-PROTEIN\n",
      "U.S. DRUG-PROTEIN\n",
      "Indonesian CHEMICALS\n",
      "U.S. DRUG-PROTEIN\n",
      "U.S. DRUG-PROTEIN\n",
      "spread CHEMICALS\n",
      "U.S. DRUG-PROTEIN\n",
      "U.S. DRUG-PROTEIN\n",
      "1.18 DRUG-PROTEIN\n",
      "U.S. DRUG-PROTEIN\n",
      "U.S. DRUG-PROTEIN\n",
      "U.S. DRUG-PROTEIN\n",
      "U.S. DRUG-PROTEIN\n",
      "U.S. DRUG-PROTEIN\n",
      "U.S. DRUG-PROTEIN\n",
      "COVID-19 DRUG-PROTEIN\n",
      "U.S. DRUG-PROTEIN\n",
      "“ DRUG-PROTEIN\n",
      "” DRUG-PROTEIN\n",
      "U.S. DRUG-PROTEIN\n",
      "U.S. DRUG-PROTEIN\n",
      "U.S. DRUG-PROTEIN\n",
      "selling CHEMICALS\n",
      "NBA DRUG-PROTEIN\n",
      "NHL DRUG-PROTEIN\n",
      "Inc DRUG-PROTEIN\n",
      "“ DRUG-PROTEIN\n",
      "U.S. DRUG-PROTEIN\n",
      "U.S. DRUG-PROTEIN\n",
      "U.S. DRUG-PROTEIN\n",
      "U.S. DRUG-PROTEIN\n",
      "Inc DRUG-PROTEIN\n",
      "EFL DRUG-PROTEIN\n",
      "WSL DRUG-PROTEIN\n",
      "flu-like CHEMICALS\n",
      "Feb. CHEMICALS\n",
      "masks CHEMICALS\n",
      "U.S. DRUG-PROTEIN\n",
      "U.S. DRUG-PROTEIN\n",
      "U.S. military DRUG-PROTEIN\n",
      "tax DRUG-PROTEIN\n",
      "White DRUG-PROTEIN\n",
      "economic CHEMICALS\n",
      "U.S. DRUG-PROTEIN\n",
      "6,566 CHEMICALS\n",
      "U.S. DRUG-PROTEIN\n",
      "U.S. DRUG-PROTEIN\n",
      "UEFA CHEMICALS\n",
      "Hong DRUG-PROTEIN\n",
      "Pearl DRUG-PROTEIN\n",
      "wash CHEMICALS\n",
      "U.S. DRUG-PROTEIN\n",
      "CDC’s recommendation DRUG-PROTEIN\n",
      "Guinea CHEMICALS\n",
      "U.S. DRUG-PROTEIN\n",
      "U.S. DRUG-PROTEIN\n",
      "U.S. DRUG-PROTEIN\n",
      "Scotland CHEMICALS\n",
      "U.S. DRUG-PROTEIN\n",
      "U.S. military DRUG-PROTEIN\n",
      "U.S. DRUG-PROTEIN\n",
      "U.S. military DRUG-PROTEIN\n",
      "U.S. DRUG-PROTEIN\n",
      "U.S. DRUG-PROTEIN\n",
      "soon CHEMICALS\n",
      "U.S. DRUG-PROTEIN\n",
      "dire CHEMICALS\n",
      "“ DRUG-PROTEIN\n",
      "U.S. DRUG-PROTEIN\n",
      "U.S. DRUG-PROTEIN\n",
      "U.S. scientist DRUG-PROTEIN\n",
      "NHL DRUG-PROTEIN\n",
      "U.S. DRUG-PROTEIN\n",
      "masks CHEMICALS\n",
      "Bay DRUG-PROTEIN\n",
      "smartphone CHEMICALS\n",
      "10,000 people DRUG-PROTEIN\n",
      "Formula E DRUG-PROTEIN\n",
      "“ DRUG-PROTEIN\n",
      "U.K. DRUG-PROTEIN\n",
      "Golden CHEMICALS\n",
      "UAW CHEMICALS\n",
      "U.S. DRUG-PROTEIN\n",
      "U.S. DRUG-PROTEIN\n",
      "restrictions CHEMICALS\n",
      "U.S. DRUG-PROTEIN\n",
      "U.S. DRUG-PROTEIN\n",
      "U.S. DRUG-PROTEIN\n",
      "wash CHEMICALS\n",
      "U.S. DRUG-PROTEIN\n",
      "“ DRUG-PROTEIN\n",
      "88.2 billion DRUG-PROTEIN\n",
      "Golden CHEMICALS\n",
      "lay DRUG-PROTEIN\n",
      "NBA DRUG-PROTEIN\n",
      "Hong DRUG-PROTEIN\n",
      "Plc DRUG-PROTEIN\n",
      "deadliest CHEMICALS\n",
      "U.S. DRUG-PROTEIN\n",
      "U.S. DRUG-PROTEIN\n",
      "U.S.-Mexico-Canada trade DRUG-PROTEIN\n",
      "deadliest CHEMICALS\n",
      "U.S. DRUG-PROTEIN\n",
      "FIFA DRUG-PROTEIN\n",
      "Cup dates should be moved DRUG-PROTEIN\n",
      "U.S. DRUG-PROTEIN\n",
      "spread CHEMICALS\n",
      "“ DRUG-PROTEIN\n",
      "NBA DRUG-PROTEIN\n",
      "U.S. military DRUG-PROTEIN\n",
      "“ DRUG-PROTEIN\n",
      "Price Is Right” halted DRUG-PROTEIN\n",
      "U.S. crackdowns DRUG-PROTEIN\n",
      "U.S. DRUG-PROTEIN\n",
      "U.S. DRUG-PROTEIN\n",
      "closer CHEMICALS\n",
      "U.S. DRUG-PROTEIN\n",
      "U.S. DRUG-PROTEIN\n",
      "enthusiasm CHEMICALS\n",
      "visitors CHEMICALS\n",
      "U.S. DRUG-PROTEIN\n",
      "U.S. DRUG-PROTEIN\n",
      "St. Patrick DRUG-PROTEIN\n",
      "FIFA DRUG-PROTEIN\n",
      "Kim DRUG-PROTEIN\n",
      "U.S. DRUG-PROTEIN\n",
      "President CHEMICALS\n",
      "U.S. retailers DRUG-PROTEIN\n",
      "mosques CHEMICALS\n",
      "U.S. DRUG-PROTEIN\n",
      "west CHEMICALS\n",
      "Salt CHEMICALS\n",
      "U.S. DRUG-PROTEIN\n",
      "U.S. DRUG-PROTEIN\n",
      "course CHEMICALS\n",
      "Inc DRUG-PROTEIN\n",
      "Inc DRUG-PROTEIN\n",
      "U.S. DRUG-PROTEIN\n",
      "Utah DRUG-PROTEIN\n",
      "NBA suspended DRUG-PROTEIN\n",
      "gyms DRUG-PROTEIN\n",
      "COVID-19 DRUG-PROTEIN\n",
      "Way CHEMICALS\n",
      "Democratic National DRUG-PROTEIN\n",
      "masks CHEMICALS\n",
      "U.S. DRUG-PROTEIN\n",
      "U.S. securities DRUG-PROTEIN\n",
      "D.C. DRUG-PROTEIN\n",
      "headquarters CHEMICALS\n",
      "economists CHEMICALS\n",
      "BofA DRUG-PROTEIN\n",
      "U.S. DRUG-PROTEIN\n",
      "U.S. DRUG-PROTEIN\n",
      "containment CHEMICALS\n",
      "U.S. DRUG-PROTEIN\n",
      "U.S. DRUG-PROTEIN\n",
      "supplies DRUG-PROTEIN\n",
      "U.S. DRUG-PROTEIN\n",
      "U.S. markets DRUG-PROTEIN\n",
      "vulnerable CHEMICALS\n",
      "IOC’s DRUG-PROTEIN\n",
      "Indonesian CHEMICALS\n",
      "Indonesian CHEMICALS\n",
      "NBA DRUG-PROTEIN\n",
      "COVID-19 DRUG-PROTEIN\n",
      "masks CHEMICALS\n",
      "Democratic presidential CHEMICALS\n",
      "Showtime DRUG-PROTEIN\n",
      "And DRUG-PROTEIN\n",
      "’ CHEMICALS\n",
      "Nga DRUG-PROTEIN\n",
      "U.S. DRUG-PROTEIN\n",
      "U.S. DRUG-PROTEIN\n",
      "FedEx DRUG-PROTEIN\n",
      "profit CHEMICALS\n",
      "U.S. DRUG-PROTEIN\n",
      "mosques CHEMICALS\n",
      "D.C. DRUG-PROTEIN\n",
      "ramp CHEMICALS\n",
      "“blahs DRUG-PROTEIN\n",
      "U.S. DRUG-PROTEIN\n",
      "U.S. DRUG-PROTEIN\n",
      "“ DRUG-PROTEIN\n",
      "A St. Patrick’s Day DRUG-PROTEIN\n",
      "175,000 CHEMICALS\n",
      "15,000 DRUG-PROTEIN\n",
      "U.S. DRUG-PROTEIN\n",
      "U.S. DRUG-PROTEIN\n",
      "Inc DRUG-PROTEIN\n",
      "U.S. DRUG-PROTEIN\n",
      "Bay DRUG-PROTEIN\n",
      "NBA DRUG-PROTEIN\n",
      "returning CHEMICALS\n",
      "proceedings CHEMICALS\n",
      "U.S. DRUG-PROTEIN\n",
      "U.S. DRUG-PROTEIN\n",
      "masks CHEMICALS\n",
      "spread CHEMICALS\n",
      "telling CHEMICALS\n",
      "U.S. DRUG-PROTEIN\n",
      "economic slump DRUG-PROTEIN\n",
      "spread CHEMICALS\n",
      "U.S. DRUG-PROTEIN\n",
      "California coast CHEMICALS\n",
      "U.S. DRUG-PROTEIN\n",
      "dozen people DRUG-PROTEIN\n",
      "uber-popular Coachella music festival DRUG-PROTEIN\n",
      "U.S. DRUG-PROTEIN\n",
      "returning CHEMICALS\n",
      "U.S. DRUG-PROTEIN\n",
      "U.S. DRUG-PROTEIN\n",
      "supplies DRUG-PROTEIN\n",
      "U.S. DRUG-PROTEIN\n",
      "U.S. DRUG-PROTEIN\n",
      "returning CHEMICALS\n",
      "economic CHEMICALS\n",
      "IFC DRUG-PROTEIN\n",
      "China’s growth DRUG-PROTEIN\n",
      "U.S. DRUG-PROTEIN\n",
      "vulnerable CHEMICALS\n",
      "St. DRUG-PROTEIN\n",
      "“ DRUG-PROTEIN\n",
      "U.K. residents DRUG-PROTEIN\n",
      "vulnerable CHEMICALS\n",
      "U.S. DRUG-PROTEIN\n",
      "conservative CHEMICALS\n",
      "Democratic CHEMICALS\n",
      "“Who’s DRUG-PROTEIN\n",
      "” DRUG-PROTEIN\n",
      "“ DRUG-PROTEIN\n",
      "interests CHEMICALS\n",
      "soon CHEMICALS\n",
      "U.S. DRUG-PROTEIN\n",
      "” DRUG-PROTEIN\n",
      "outreach CHEMICALS\n",
      "U.S. DRUG-PROTEIN\n",
      "U.S. DRUG-PROTEIN\n",
      "U.S. DRUG-PROTEIN\n",
      "outreach CHEMICALS\n",
      "U.S. DRUG-PROTEIN\n",
      "U.S. DRUG-PROTEIN\n",
      "spread CHEMICALS\n",
      "came CHEMICALS\n",
      "Dow DRUG-PROTEIN\n",
      "And Americans say DRUG-PROTEIN\n",
      "Rapidly DRUG-PROTEIN\n",
      "U.S. DRUG-PROTEIN\n",
      "wash CHEMICALS\n",
      "THE HOUR DRUG-PROTEIN\n",
      "” DRUG-PROTEIN\n",
      "“ DRUG-PROTEIN\n",
      "Democratic presidential CHEMICALS\n",
      "UEFA CHEMICALS\n",
      "selling CHEMICALS\n",
      "saw plenty DRUG-PROTEIN\n",
      "U.S. DRUG-PROTEIN\n",
      "corners CHEMICALS\n",
      "U.S. DRUG-PROTEIN\n",
      "wash CHEMICALS\n"
     ]
    }
   ],
   "source": [
    "for token in doc.ents:\n",
    "    print(token.text, token.label_)"
   ]
  },
  {
   "cell_type": "markdown",
   "metadata": {},
   "source": [
    "Referências:\n",
    "\n",
    "[SpaCy](https://spacy.io/)   \n",
    "[Building a custom NER model in Spacy v3.1](https://zachlim98.github.io/me/2021-03/spacy3-ner-tutorial)   \n",
    "[NER @ CLI: Custom-named entity recognition with spaCy in four lines](https://blog.codecentric.de/en/2020/11/ner-cli-custom-named-entity-recognition-with-spacy-in-four-lines/)   \n",
    "[Descubre Named Entity Recognition (NER) con Spacy 3.0 (en castellano)](https://nymiz.com/blog/tecnologia/que-es-el-named-entity-recognition-ner/)\n",
    "\n",
    "\n"
   ]
  },
  {
   "cell_type": "markdown",
   "metadata": {},
   "source": [
    "$ python -m spacy debug data config.cfg"
   ]
  }
 ],
 "metadata": {
  "kernelspec": {
   "display_name": "Python 3",
   "language": "python",
   "name": "python3"
  },
  "language_info": {
   "codemirror_mode": {
    "name": "ipython",
    "version": 3
   },
   "file_extension": ".py",
   "mimetype": "text/x-python",
   "name": "python",
   "nbconvert_exporter": "python",
   "pygments_lexer": "ipython3",
   "version": "3.9.2"
  }
 },
 "nbformat": 4,
 "nbformat_minor": 4
}
