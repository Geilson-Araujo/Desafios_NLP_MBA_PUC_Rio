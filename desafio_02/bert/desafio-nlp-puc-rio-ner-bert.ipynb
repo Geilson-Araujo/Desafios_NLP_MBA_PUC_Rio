{
  "nbformat": 4,
  "nbformat_minor": 0,
  "metadata": {
    "kernelspec": {
      "language": "python",
      "display_name": "Python 3",
      "name": "python3"
    },
    "language_info": {
      "name": "python",
      "version": "3.7.9",
      "mimetype": "text/x-python",
      "codemirror_mode": {
        "name": "ipython",
        "version": 3
      },
      "pygments_lexer": "ipython3",
      "nbconvert_exporter": "python",
      "file_extension": ".py"
    },
    "colab": {
      "name": "desafio-nlp-puc-rio-ner-bert.ipynb",
      "provenance": [],
      "collapsed_sections": []
    },
    "accelerator": "GPU"
  },
  "cells": [
    {
      "cell_type": "code",
      "metadata": {
        "trusted": true,
        "colab": {
          "base_uri": "https://localhost:8080/"
        },
        "id": "QjfnceNMe3Zf",
        "outputId": "d5664a46-2ed5-42b7-8ac3-7017b39b2d69"
      },
      "source": [
        "# Verifica qual a GPU disponível\n",
        "!nvidia-smi"
      ],
      "execution_count": 1,
      "outputs": [
        {
          "output_type": "stream",
          "text": [
            "Thu Apr  8 03:22:46 2021       \n",
            "+-----------------------------------------------------------------------------+\n",
            "| NVIDIA-SMI 460.67       Driver Version: 460.32.03    CUDA Version: 11.2     |\n",
            "|-------------------------------+----------------------+----------------------+\n",
            "| GPU  Name        Persistence-M| Bus-Id        Disp.A | Volatile Uncorr. ECC |\n",
            "| Fan  Temp  Perf  Pwr:Usage/Cap|         Memory-Usage | GPU-Util  Compute M. |\n",
            "|                               |                      |               MIG M. |\n",
            "|===============================+======================+======================|\n",
            "|   0  Tesla T4            Off  | 00000000:00:04.0 Off |                    0 |\n",
            "| N/A   44C    P8    10W /  70W |      0MiB / 15109MiB |      0%      Default |\n",
            "|                               |                      |                  N/A |\n",
            "+-------------------------------+----------------------+----------------------+\n",
            "                                                                               \n",
            "+-----------------------------------------------------------------------------+\n",
            "| Processes:                                                                  |\n",
            "|  GPU   GI   CI        PID   Type   Process name                  GPU Memory |\n",
            "|        ID   ID                                                   Usage      |\n",
            "|=============================================================================|\n",
            "|  No running processes found                                                 |\n",
            "+-----------------------------------------------------------------------------+\n"
          ],
          "name": "stdout"
        }
      ]
    },
    {
      "cell_type": "code",
      "metadata": {
        "trusted": true,
        "colab": {
          "base_uri": "https://localhost:8080/"
        },
        "id": "VzEO1vrye3Zf",
        "outputId": "e18c267a-0121-4d79-b051-b6a822b2fba6"
      },
      "source": [
        "# Verifica a versão CUDA instalada\n",
        "!nvcc --version"
      ],
      "execution_count": 2,
      "outputs": [
        {
          "output_type": "stream",
          "text": [
            "nvcc: NVIDIA (R) Cuda compiler driver\n",
            "Copyright (c) 2005-2020 NVIDIA Corporation\n",
            "Built on Wed_Jul_22_19:09:09_PDT_2020\n",
            "Cuda compilation tools, release 11.0, V11.0.221\n",
            "Build cuda_11.0_bu.TC445_37.28845127_0\n"
          ],
          "name": "stdout"
        }
      ]
    },
    {
      "cell_type": "code",
      "metadata": {
        "trusted": true,
        "colab": {
          "base_uri": "https://localhost:8080/"
        },
        "id": "dqjhrwMee3Zg",
        "outputId": "14943fe9-d3fb-4aeb-c462-6697033e6d83"
      },
      "source": [
        "# Instala o CuPy, uma biblioteca especializada para trabalhar com matrizes e CUDA\n",
        "# Nesse caso, instalamos a mesma versão compatível com CUDA 11.0\n",
        "!pip install -U --quiet pip setuptools wheel\n",
        "!pip --quiet install cupy-cuda110"
      ],
      "execution_count": 3,
      "outputs": [
        {
          "output_type": "stream",
          "text": [
            "\u001b[K     |████████████████████████████████| 1.5MB 7.5MB/s \n",
            "\u001b[K     |████████████████████████████████| 165.3 MB 41 kB/s \n",
            "\u001b[?25h"
          ],
          "name": "stdout"
        }
      ]
    },
    {
      "cell_type": "code",
      "metadata": {
        "trusted": true,
        "id": "eN761TQOe3Zg"
      },
      "source": [
        "# Atualiza o PyTorch de acordo com a versão CUDA\n",
        "!pip install --quiet torch==1.8.1+cu102 torchvision==0.9.1+cu102 torchaudio===0.8.1 -f https://download.pytorch.org/whl/torch_stable.html"
      ],
      "execution_count": null,
      "outputs": []
    },
    {
      "cell_type": "code",
      "metadata": {
        "trusted": true,
        "colab": {
          "base_uri": "https://localhost:8080/"
        },
        "id": "1rGVuYTse3Zg",
        "outputId": "d25a0428-eb16-4a9b-b858-f0b47e792f06"
      },
      "source": [
        "# Atualiza o spaCy de acordo com a versão CUDA\n",
        "!pip install -U --quiet pip setuptools wheel\n",
        "!pip install -U --quiet spacy[cuda110]\n",
        "\n",
        "# Instala o modelo transformers\n",
        "!python -m spacy download en_core_web_trf --quiet"
      ],
      "execution_count": 4,
      "outputs": [
        {
          "output_type": "stream",
          "text": [
            "\u001b[K     |████████████████████████████████| 12.8 MB 247 kB/s \n",
            "\u001b[K     |████████████████████████████████| 456 kB 56.7 MB/s \n",
            "\u001b[K     |████████████████████████████████| 9.1 MB 71.3 MB/s \n",
            "\u001b[K     |████████████████████████████████| 1.1 MB 58.5 MB/s \n",
            "\u001b[K     |████████████████████████████████| 113 kB 81.1 MB/s \n",
            "\u001b[?25h  Building wheel for smart-open (setup.py) ... \u001b[?25l\u001b[?25hdone\n",
            "2021-04-08 03:26:22.078232: I tensorflow/stream_executor/platform/default/dso_loader.cc:49] Successfully opened dynamic library libcudart.so.11.0\n",
            "\u001b[K     |████████████████████████████████| 459.7 MB 17 kB/s \n",
            "\u001b[K     |████████████████████████████████| 977 kB 6.9 MB/s \n",
            "\u001b[K     |████████████████████████████████| 66 kB 4.6 MB/s \n",
            "\u001b[K     |████████████████████████████████| 1.8 MB 19.7 MB/s \n",
            "\u001b[K     |████████████████████████████████| 862 kB 54.7 MB/s \n",
            "\u001b[K     |████████████████████████████████| 2.9 MB 59.5 MB/s \n",
            "\u001b[?25h  Building wheel for ftfy (setup.py) ... \u001b[?25l\u001b[?25hdone\n",
            "  Building wheel for torchcontrib (setup.py) ... \u001b[?25l\u001b[?25hdone\n",
            "  Building wheel for sacremoses (setup.py) ... \u001b[?25l\u001b[?25hdone\n",
            "\u001b[38;5;2m✔ Download and installation successful\u001b[0m\n",
            "You can now load the package via spacy.load('en_core_web_trf')\n"
          ],
          "name": "stdout"
        }
      ]
    },
    {
      "cell_type": "code",
      "metadata": {
        "trusted": true,
        "colab": {
          "base_uri": "https://localhost:8080/"
        },
        "id": "jROwEl_De3Zh",
        "outputId": "e562200d-f2d3-4edb-bd16-26d1d4d546f5"
      },
      "source": [
        "# Verifica se as atualizações foram realizadas corretamente\n",
        "!python -m spacy info\n",
        "!python -m spacy validate"
      ],
      "execution_count": 5,
      "outputs": [
        {
          "output_type": "stream",
          "text": [
            "2021-04-08 03:28:23.723281: I tensorflow/stream_executor/platform/default/dso_loader.cc:49] Successfully opened dynamic library libcudart.so.11.0\n",
            "\u001b[1m\n",
            "============================== Info about spaCy ==============================\u001b[0m\n",
            "\n",
            "spaCy version    3.0.5                         \n",
            "Location         /usr/local/lib/python3.7/dist-packages/spacy\n",
            "Platform         Linux-4.19.112+-x86_64-with-Ubuntu-18.04-bionic\n",
            "Python version   3.7.10                        \n",
            "Pipelines        en_core_web_trf (3.0.0)       \n",
            "\n",
            "2021-04-08 03:28:27.261740: I tensorflow/stream_executor/platform/default/dso_loader.cc:49] Successfully opened dynamic library libcudart.so.11.0\n",
            "\u001b[2K\u001b[38;5;2m✔ Loaded compatibility table\u001b[0m\n",
            "\u001b[1m\n",
            "================= Installed pipeline packages (spaCy v3.0.5) =================\u001b[0m\n",
            "\u001b[38;5;4mℹ spaCy installation: /usr/local/lib/python3.7/dist-packages/spacy\u001b[0m\n",
            "\n",
            "NAME              SPACY            VERSION                            \n",
            "en_core_web_trf   >=3.0.0,<3.1.0   \u001b[38;5;2m3.0.0\u001b[0m   \u001b[38;5;2m✔\u001b[0m\n",
            "\n"
          ],
          "name": "stdout"
        }
      ]
    },
    {
      "cell_type": "code",
      "metadata": {
        "trusted": true,
        "colab": {
          "base_uri": "https://localhost:8080/",
          "height": 35
        },
        "id": "glcWaQ_xe3Zh",
        "outputId": "705304ca-970e-424d-f43f-4e98df67bf1b"
      },
      "source": [
        "# Importa bibliotecas e módulos necessários\n",
        "import pandas as pd\n",
        "import spacy\n",
        "import torch\n",
        "\n",
        "torch.__version__"
      ],
      "execution_count": 6,
      "outputs": [
        {
          "output_type": "execute_result",
          "data": {
            "application/vnd.google.colaboratory.intrinsic+json": {
              "type": "string"
            },
            "text/plain": [
              "'1.8.1+cu101'"
            ]
          },
          "metadata": {
            "tags": []
          },
          "execution_count": 6
        }
      ]
    },
    {
      "cell_type": "code",
      "metadata": {
        "colab": {
          "base_uri": "https://localhost:8080/"
        },
        "id": "T70PG8ybiilr",
        "outputId": "4261c02e-05f5-4dde-95d1-0e0b0c478555"
      },
      "source": [
        "# Cria o arquivo de configuração para treinamento e validação: config.cfg\n",
        "!python -m spacy init fill-config ./base_config.cfg ./config.cfg"
      ],
      "execution_count": 8,
      "outputs": [
        {
          "output_type": "stream",
          "text": [
            "2021-04-08 03:36:42.006934: I tensorflow/stream_executor/platform/default/dso_loader.cc:49] Successfully opened dynamic library libcudart.so.11.0\n",
            "\u001b[38;5;2m✔ Auto-filled config with all values\u001b[0m\n",
            "\u001b[38;5;2m✔ Saved config\u001b[0m\n",
            "config.cfg\n",
            "You can now add your data and train your pipeline:\n",
            "python -m spacy train config.cfg --paths.train ./train.spacy --paths.dev ./dev.spacy\n"
          ],
          "name": "stdout"
        }
      ]
    },
    {
      "cell_type": "markdown",
      "metadata": {
        "id": "-teu6mrPQXd4"
      },
      "source": [
        "> Alterações realizadas no arquivo `config.cfg`:\n",
        "\n",
        "    [paths]\n",
        "    train = \"train.spacy\"\n",
        "    dev = \"valid.spacy\"\n",
        "    \n",
        "    [training.logger]\n",
        "    progress_bar = true"
      ]
    },
    {
      "cell_type": "code",
      "metadata": {
        "trusted": true,
        "colab": {
          "base_uri": "https://localhost:8080/"
        },
        "id": "Ln6tD1Ave3Zh",
        "outputId": "2c466f6f-9b1c-448e-e62b-0d66dbda98fd"
      },
      "source": [
        "# Verifica a consistência dos arquivos de treino e teste\n",
        "!python -m spacy debug data config.cfg"
      ],
      "execution_count": 9,
      "outputs": [
        {
          "output_type": "stream",
          "text": [
            "2021-04-08 03:37:25.885129: I tensorflow/stream_executor/platform/default/dso_loader.cc:49] Successfully opened dynamic library libcudart.so.11.0\n",
            "\u001b[1m\n",
            "============================ Data file validation ============================\u001b[0m\n",
            "\u001b[38;5;2m✔ Corpus is loadable\u001b[0m\n",
            "Downloading: 100% 481/481 [00:00<00:00, 576kB/s]\n",
            "Downloading: 100% 899k/899k [00:00<00:00, 2.40MB/s]\n",
            "Downloading: 100% 456k/456k [00:00<00:00, 1.46MB/s]\n",
            "Downloading: 100% 1.36M/1.36M [00:00<00:00, 3.49MB/s]\n",
            "Downloading: 100% 501M/501M [00:14<00:00, 35.3MB/s]\n",
            "\u001b[38;5;2m✔ Pipeline can be initialized with data\u001b[0m\n",
            "\u001b[1m\n",
            "=============================== Training stats ===============================\u001b[0m\n",
            "Language: en\n",
            "Training pipeline: transformer, ner\n",
            "10713 training docs\n",
            "6348 evaluation docs\n",
            "\u001b[38;5;2m✔ No overlap between training and evaluation data\u001b[0m\n",
            "\u001b[1m\n",
            "============================== Vocab & Vectors ==============================\u001b[0m\n",
            "\u001b[38;5;4mℹ 2493128 total word(s) in the data (73563 unique)\u001b[0m\n",
            "\u001b[38;5;4mℹ No word vectors present in the package\u001b[0m\n",
            "\u001b[1m\n",
            "========================== Named Entity Recognition ==========================\u001b[0m\n",
            "\u001b[38;5;4mℹ 0 new label(s), 4 existing label(s)\u001b[0m\n",
            "0 missing value(s) (tokens with '-' label)\n",
            "\u001b[38;5;3m⚠ 1486 entity span(s) with punctuation\u001b[0m\n",
            "\u001b[38;5;2m✔ Good amount of examples for all labels\u001b[0m\n",
            "\u001b[38;5;2m✔ Examples without occurrences available for all labels\u001b[0m\n",
            "\u001b[38;5;2m✔ No entities consisting of or starting/ending with whitespace\u001b[0m\n",
            "Entity spans consisting of or starting/ending with punctuation can not be\n",
            "trained with a noise level > 0.\n",
            "\u001b[1m\n",
            "================================== Summary ==================================\u001b[0m\n",
            "\u001b[38;5;2m✔ 6 checks passed\u001b[0m\n",
            "\u001b[38;5;3m⚠ 1 warning\u001b[0m\n"
          ],
          "name": "stdout"
        }
      ]
    },
    {
      "cell_type": "code",
      "metadata": {
        "trusted": true,
        "colab": {
          "base_uri": "https://localhost:8080/"
        },
        "id": "9Bjg38TFe3Zi",
        "outputId": "0e05eeb7-6b59-4cf9-e5b1-d12b95d98b23"
      },
      "source": [
        "%%time\n",
        "# Treina e valida o modelo a partr dos aquivos train.spacy e test.spacy, \n",
        "# - O caminho para esses arquivos foram inseridos no início do arquivo config.cfg:\n",
        "# [paths]\n",
        "# train = train.spacy\n",
        "# dev = test.spacy\n",
        "!python -m spacy train config.cfg --gpu-id 0 --output ./"
      ],
      "execution_count": 10,
      "outputs": [
        {
          "output_type": "stream",
          "text": [
            "2021-04-08 03:40:50.266190: I tensorflow/stream_executor/platform/default/dso_loader.cc:49] Successfully opened dynamic library libcudart.so.11.0\n",
            "\u001b[38;5;4mℹ Using GPU: 0\u001b[0m\n",
            "\u001b[1m\n",
            "=========================== Initializing pipeline ===========================\u001b[0m\n",
            "[2021-04-08 03:40:52,702] [INFO] Set up nlp object from config\n",
            "[2021-04-08 03:40:52,711] [INFO] Pipeline: ['transformer', 'ner']\n",
            "[2021-04-08 03:40:52,715] [INFO] Created vocabulary\n",
            "[2021-04-08 03:40:52,715] [INFO] Finished initializing nlp object\n",
            "[2021-04-08 03:41:46,752] [INFO] Initialized pipeline components: ['transformer', 'ner']\n",
            "\u001b[38;5;2m✔ Initialized pipeline\u001b[0m\n",
            "\u001b[1m\n",
            "============================= Training pipeline =============================\u001b[0m\n",
            "\u001b[38;5;4mℹ Pipeline: ['transformer', 'ner']\u001b[0m\n",
            "\u001b[38;5;4mℹ Initial learn rate: 0.0\u001b[0m\n",
            "E    #       LOSS TRANS...  LOSS NER  ENTS_F  ENTS_P  ENTS_R  SCORE \n",
            "---  ------  -------------  --------  ------  ------  ------  ------\n",
            "  0       0         363.10    486.90    0.51    0.26    7.17    0.01\n",
            "  0     200      322538.71  84292.89   20.07   33.19   14.38    0.20\n",
            "  0     400       33503.87  20539.71   57.62   50.11   67.79    0.58\n",
            "  0     600        8078.43  15359.42   63.46   62.10   64.89    0.63\n",
            "  0     800        7087.23  13871.72   66.44   65.39   67.51    0.66\n",
            "  0    1000        7362.01  13969.63   68.08   63.81   72.96    0.68\n",
            "  0    1200        6605.79  12982.76   65.83   67.22   64.48    0.66\n",
            "  1    1400        6096.22  12057.42   62.78   66.05   59.83    0.63\n",
            "  1    1600        5380.89  10306.05   71.14   72.23   70.08    0.71\n",
            "  1    1800        4998.22   9827.94   69.13   70.94   67.41    0.69\n",
            "  1    2000        5083.59   9719.38   69.79   66.07   73.94    0.70\n",
            "  1    2200        4724.60   9259.17   74.81   74.90   74.73    0.75\n",
            "  1    2400        5215.41   9845.72   72.34   71.17   73.54    0.72\n",
            "  1    2600        4294.98   8857.20   70.16   79.38   62.85    0.70\n",
            "  2    2800        4212.07   8599.82   71.05   73.60   68.67    0.71\n",
            "  2    3000        3751.44   7414.24   74.18   73.85   74.52    0.74\n",
            "  2    3200        9173.86   7310.72   72.67   76.46   69.23    0.73\n",
            "  2    3400        3543.38   7196.00   72.88   73.14   72.63    0.73\n",
            "  2    3600        3700.57   7341.55   73.53   74.87   72.23    0.74\n",
            "  2    3800        3440.29   6997.85   73.73   72.07   75.47    0.74\n",
            "Epoch 3:   0% 0/200 [00:00<?, ?it/s]\u001b[38;5;2m✔ Saved pipeline to output directory\u001b[0m\n",
            "model-last\n",
            "CPU times: user 57.9 s, sys: 6.92 s, total: 1min 4s\n",
            "Wall time: 3h 15s\n"
          ],
          "name": "stdout"
        }
      ]
    },
    {
      "cell_type": "code",
      "metadata": {
        "trusted": true,
        "colab": {
          "base_uri": "https://localhost:8080/"
        },
        "id": "XjkhFStme3Zi",
        "outputId": "71ce69a1-ce28-4d39-d521-686912941784"
      },
      "source": [
        "# Avalia o modelo a partir do arquivo test.spacy\n",
        "!python -m spacy evaluate ./model-best ./test.spacy -g 0"
      ],
      "execution_count": 12,
      "outputs": [
        {
          "output_type": "stream",
          "text": [
            "2021-04-08 06:46:45.452523: I tensorflow/stream_executor/platform/default/dso_loader.cc:49] Successfully opened dynamic library libcudart.so.11.0\n",
            "\u001b[38;5;4mℹ Using GPU: 0\u001b[0m\n",
            "\u001b[1m\n",
            "================================== Results ==================================\u001b[0m\n",
            "\n",
            "TOK     -    \n",
            "NER P   71.63\n",
            "NER R   69.81\n",
            "NER F   70.71\n",
            "SPEED   5007 \n",
            "\n",
            "\u001b[1m\n",
            "=============================== NER (per type) ===============================\u001b[0m\n",
            "\n",
            "                   P       R       F\n",
            "DRUG_PROTEIN   72.79   61.54   66.69\n",
            "CHEMICALS      72.47   83.66   77.66\n",
            "SPECIES        56.36   62.10   59.09\n",
            "DISEASE        72.83   13.84   23.26\n",
            "\n"
          ],
          "name": "stdout"
        }
      ]
    },
    {
      "cell_type": "code",
      "metadata": {
        "id": "cALf83m_R1nw"
      },
      "source": [
        "corpus = \"\"\"Autophagy maintains tumour growth through circulating arginine. Autophagy captures intracellular components and delivers them to lysosomes, \n",
        "            where they are degraded and recycled to sustain metabolism and to enable survival during starvation1-5. Acute, whole-body deletion of the essential\n",
        "            autophagy gene Atg7 in adult mice causes a systemic metabolic defect that manifests as starvation intolerance and gradual loss of white adipose tissue,\n",
        "            liver glycogen and muscle mass1. Cancer cells also benefit from autophagy. Deletion of essential autophagy genes impairs the metabolism, proliferation,\n",
        "            survival and malignancy of spontaneous tumours in models of autochthonous cancer6,7. Acute, systemic deletion of Atg7 or acute, systemic expression of\n",
        "            a dominant-negative ATG4b in mice induces greater regression of KRAS-driven cancers than does tumour-specific autophagy deletion, which suggests that\n",
        "            host autophagy promotes tumour growth1,8. Here we show that host-specific deletion of Atg7 impairs the growth of multiple allografted tumours,\n",
        "            although not all tumour lines were sensitive to host autophagy status. Loss of autophagy in the host was associated with a reduction in circulating arginine,\n",
        "            and the sensitive tumour cell lines were arginine auxotrophs owing to the lack of expression of the enzyme argininosuccinate synthase 1.\n",
        "            Serum proteomic analysis identified the arginine-degrading enzyme arginase I (ARG1) in the circulation of Atg7-deficient hosts,\n",
        "            and in vivo arginine metabolic tracing demonstrated that serum arginine was degraded to ornithine. ARG1 is predominantly expressed in the liver and can be\n",
        "            released from hepatocytes into the circulation. Liver-specific deletion of Atg7 produced circulating ARG1, and reduced both serum arginine and tumour growth.\n",
        "            Deletion of Atg5 in the host similarly regulated [corrected] circulating arginine and suppressed tumorigenesis, which demonstrates that this phenotype\n",
        "            is specific to autophagy function rather than to deletion of Atg7. Dietary supplementation of Atg7-deficient hosts with arginine partially restored\n",
        "            levels of circulating arginine and tumour growth.\n",
        "            Thus, defective autophagy in the host leads to the release of ARG1 from the liver and the degradation of circulating arginine, which is essential\n",
        "            for tumour growth; this identifies a metabolic vulnerability of cancer. (PMID:30429607)\"\"\""
      ],
      "execution_count": 14,
      "outputs": []
    },
    {
      "cell_type": "code",
      "metadata": {
        "trusted": true,
        "id": "lZ9E22SOe3Zj"
      },
      "source": [
        "# Carrega o modelo customizado e cria um objeto nlp\n",
        "spacy.prefer_gpu()\n",
        "nlp = spacy.load('./model-best')\n",
        "\n",
        "# Processa o texto\n",
        "doc = nlp(corpus)"
      ],
      "execution_count": 15,
      "outputs": []
    },
    {
      "cell_type": "code",
      "metadata": {
        "trusted": true,
        "colab": {
          "base_uri": "https://localhost:8080/",
          "height": 612
        },
        "id": "VsH_JLj6e3Zj",
        "outputId": "efd74fbc-d4bb-4d21-9af4-1500047dee34"
      },
      "source": [
        "options = {'ents':['CHEMICALS', 'DRUG_PROTEIN', 'DISEASE', 'SPECIES'],\n",
        "           'colors':{'CHEMICALS': '#D2B4DE',\n",
        "                     'DRUG_PROTEIN': '#82E0AA',\n",
        "                     'DISEASE': '#D7BDE2',\n",
        "                     'SPECIES': '#A2D9CE'}}\n",
        "\n",
        "spacy.displacy.render(doc, style=\"ent\", jupyter=True, options=options)"
      ],
      "execution_count": 16,
      "outputs": [
        {
          "output_type": "display_data",
          "data": {
            "text/html": [
              "<span class=\"tex2jax_ignore\"><div class=\"entities\" style=\"line-height: 2.5; direction: ltr\">Autophagy maintains tumour growth through circulating \n",
              "<mark class=\"entity\" style=\"background: #D2B4DE; padding: 0.45em 0.6em; margin: 0 0.25em; line-height: 1; border-radius: 0.35em;\">\n",
              "    arginine\n",
              "    <span style=\"font-size: 0.8em; font-weight: bold; line-height: 1; border-radius: 0.35em; vertical-align: middle; margin-left: 0.5rem\">CHEMICALS</span>\n",
              "</mark>\n",
              ". Autophagy captures intracellular components and delivers them to lysosomes, </br>            where they are degraded and recycled to sustain metabolism and to enable survival during starvation1-5. Acute, whole-body deletion of the essential</br>            autophagy gene Atg7 in adult mice causes a systemic metabolic defect that manifests as starvation intolerance and gradual loss of white adipose tissue,</br>            liver glycogen and muscle mass1. Cancer cells also benefit from autophagy. Deletion of essential autophagy genes impairs the metabolism, proliferation,</br>            survival and malignancy of spontaneous tumours in models of autochthonous cancer6,7. Acute, systemic deletion of Atg7 or acute, systemic expression of</br>            a dominant-negative ATG4b in mice induces greater regression of KRAS-driven cancers than does tumour-specific autophagy deletion, which suggests that</br>            host autophagy promotes tumour growth1,8. Here we show that host-specific deletion of Atg7 impairs the growth of multiple allografted tumours,</br>            although not all tumour lines were sensitive to host autophagy status. Loss of autophagy in the host was associated with a reduction in circulating \n",
              "<mark class=\"entity\" style=\"background: #D2B4DE; padding: 0.45em 0.6em; margin: 0 0.25em; line-height: 1; border-radius: 0.35em;\">\n",
              "    arginine\n",
              "    <span style=\"font-size: 0.8em; font-weight: bold; line-height: 1; border-radius: 0.35em; vertical-align: middle; margin-left: 0.5rem\">CHEMICALS</span>\n",
              "</mark>\n",
              ",</br>            and the sensitive tumour cell lines were \n",
              "<mark class=\"entity\" style=\"background: #D2B4DE; padding: 0.45em 0.6em; margin: 0 0.25em; line-height: 1; border-radius: 0.35em;\">\n",
              "    arginine\n",
              "    <span style=\"font-size: 0.8em; font-weight: bold; line-height: 1; border-radius: 0.35em; vertical-align: middle; margin-left: 0.5rem\">CHEMICALS</span>\n",
              "</mark>\n",
              " auxotrophs owing to the lack of expression of the enzyme \n",
              "<mark class=\"entity\" style=\"background: #D2B4DE; padding: 0.45em 0.6em; margin: 0 0.25em; line-height: 1; border-radius: 0.35em;\">\n",
              "    argininosuccinate\n",
              "    <span style=\"font-size: 0.8em; font-weight: bold; line-height: 1; border-radius: 0.35em; vertical-align: middle; margin-left: 0.5rem\">CHEMICALS</span>\n",
              "</mark>\n",
              " synthase 1.</br>            Serum proteomic analysis identified the \n",
              "<mark class=\"entity\" style=\"background: #D2B4DE; padding: 0.45em 0.6em; margin: 0 0.25em; line-height: 1; border-radius: 0.35em;\">\n",
              "    arginine\n",
              "    <span style=\"font-size: 0.8em; font-weight: bold; line-height: 1; border-radius: 0.35em; vertical-align: middle; margin-left: 0.5rem\">CHEMICALS</span>\n",
              "</mark>\n",
              "-degrading enzyme arginase I (ARG1) in the circulation of Atg7-deficient hosts,</br>            and in vivo \n",
              "<mark class=\"entity\" style=\"background: #D2B4DE; padding: 0.45em 0.6em; margin: 0 0.25em; line-height: 1; border-radius: 0.35em;\">\n",
              "    arginine\n",
              "    <span style=\"font-size: 0.8em; font-weight: bold; line-height: 1; border-radius: 0.35em; vertical-align: middle; margin-left: 0.5rem\">CHEMICALS</span>\n",
              "</mark>\n",
              " metabolic tracing demonstrated that serum \n",
              "<mark class=\"entity\" style=\"background: #D2B4DE; padding: 0.45em 0.6em; margin: 0 0.25em; line-height: 1; border-radius: 0.35em;\">\n",
              "    arginine\n",
              "    <span style=\"font-size: 0.8em; font-weight: bold; line-height: 1; border-radius: 0.35em; vertical-align: middle; margin-left: 0.5rem\">CHEMICALS</span>\n",
              "</mark>\n",
              " was degraded to \n",
              "<mark class=\"entity\" style=\"background: #D2B4DE; padding: 0.45em 0.6em; margin: 0 0.25em; line-height: 1; border-radius: 0.35em;\">\n",
              "    ornithine\n",
              "    <span style=\"font-size: 0.8em; font-weight: bold; line-height: 1; border-radius: 0.35em; vertical-align: middle; margin-left: 0.5rem\">CHEMICALS</span>\n",
              "</mark>\n",
              ". ARG1 is predominantly expressed in the liver and can be</br>            released from hepatocytes into the circulation. Liver-specific deletion of Atg7 produced circulating ARG1, and reduced both serum \n",
              "<mark class=\"entity\" style=\"background: #D2B4DE; padding: 0.45em 0.6em; margin: 0 0.25em; line-height: 1; border-radius: 0.35em;\">\n",
              "    arginine\n",
              "    <span style=\"font-size: 0.8em; font-weight: bold; line-height: 1; border-radius: 0.35em; vertical-align: middle; margin-left: 0.5rem\">CHEMICALS</span>\n",
              "</mark>\n",
              " and tumour growth.</br>            Deletion of Atg5 in the host similarly regulated [corrected] circulating \n",
              "<mark class=\"entity\" style=\"background: #D2B4DE; padding: 0.45em 0.6em; margin: 0 0.25em; line-height: 1; border-radius: 0.35em;\">\n",
              "    arginine\n",
              "    <span style=\"font-size: 0.8em; font-weight: bold; line-height: 1; border-radius: 0.35em; vertical-align: middle; margin-left: 0.5rem\">CHEMICALS</span>\n",
              "</mark>\n",
              " and suppressed tumorigenesis, which demonstrates that this phenotype</br>            is specific to autophagy function rather than to deletion of Atg7. Dietary supplementation of Atg7-deficient hosts with \n",
              "<mark class=\"entity\" style=\"background: #D2B4DE; padding: 0.45em 0.6em; margin: 0 0.25em; line-height: 1; border-radius: 0.35em;\">\n",
              "    arginine\n",
              "    <span style=\"font-size: 0.8em; font-weight: bold; line-height: 1; border-radius: 0.35em; vertical-align: middle; margin-left: 0.5rem\">CHEMICALS</span>\n",
              "</mark>\n",
              " partially restored</br>            levels of circulating \n",
              "<mark class=\"entity\" style=\"background: #D2B4DE; padding: 0.45em 0.6em; margin: 0 0.25em; line-height: 1; border-radius: 0.35em;\">\n",
              "    arginine\n",
              "    <span style=\"font-size: 0.8em; font-weight: bold; line-height: 1; border-radius: 0.35em; vertical-align: middle; margin-left: 0.5rem\">CHEMICALS</span>\n",
              "</mark>\n",
              " and tumour growth.</br>            Thus, defective autophagy in the host leads to the release of ARG1 from the liver and the degradation of circulating \n",
              "<mark class=\"entity\" style=\"background: #D2B4DE; padding: 0.45em 0.6em; margin: 0 0.25em; line-height: 1; border-radius: 0.35em;\">\n",
              "    arginine\n",
              "    <span style=\"font-size: 0.8em; font-weight: bold; line-height: 1; border-radius: 0.35em; vertical-align: middle; margin-left: 0.5rem\">CHEMICALS</span>\n",
              "</mark>\n",
              ", which is essential</br>            for tumour growth; this identifies a metabolic vulnerability of cancer. (PMID:30429607)</div></span>"
            ],
            "text/plain": [
              "<IPython.core.display.HTML object>"
            ]
          },
          "metadata": {
            "tags": []
          }
        }
      ]
    },
    {
      "cell_type": "code",
      "metadata": {
        "trusted": true,
        "id": "QtwxeeYOe3Zi"
      },
      "source": [
        "# # Carrega a base de dados para inferência\n",
        "# corona_dataset = pd.read_csv('./corona_dataset.csv')\n",
        "\n",
        "# # Remove colunas desnecessárias\n",
        "# corona_dataset.drop(['Unnamed: 0', 'Unnamed: 0.1'], axis='columns',\n",
        "#                     inplace=True)\n",
        "\n",
        "# # Remove dados faltantes\n",
        "# corona_dataset.dropna(inplace=True)\n",
        "\n",
        "# # Exibe as linhas inicias da base de dados\n",
        "# corona_dataset.head()"
      ],
      "execution_count": 22,
      "outputs": []
    },
    {
      "cell_type": "code",
      "metadata": {
        "trusted": true,
        "id": "-zLOYpjae3Zj"
      },
      "source": [
        "# corpus = ' '.join(corona_dataset['body'])\n",
        "\n",
        "# # Processa o texto\n",
        "# doc = nlp(corpus)\n",
        "\n",
        "# spacy.displacy.render(doc, style=\"ent\", jupyter=True, options=options)"
      ],
      "execution_count": 21,
      "outputs": []
    },
    {
      "cell_type": "code",
      "metadata": {
        "id": "Lz5Yo7VISY2u"
      },
      "source": [
        ""
      ],
      "execution_count": null,
      "outputs": []
    }
  ]
}