{
 "metadata": {
  "language_info": {
   "codemirror_mode": {
    "name": "ipython",
    "version": 3
   },
   "file_extension": ".py",
   "mimetype": "text/x-python",
   "name": "python",
   "nbconvert_exporter": "python",
   "pygments_lexer": "ipython3",
   "version": "3.7.10"
  },
  "orig_nbformat": 2,
  "kernelspec": {
   "name": "python3710jvsc74a57bd0cb084e9823c91bc2641848397caf4d41212b92659530bed89d9880657b0e0b7c",
   "display_name": "Python 3.7.10 64-bit ('pytorch': conda)"
  }
 },
 "nbformat": 4,
 "nbformat_minor": 2,
 "cells": [
  {
   "cell_type": "code",
   "execution_count": 1,
   "metadata": {},
   "outputs": [],
   "source": [
    "import os\n",
    "\n",
    "import pandas as pd\n",
    "\n",
    "from sklearn.utils import shuffle\n",
    "\n",
    "from tqdm import tqdm"
   ]
  },
  {
   "source": [
    "## 1. Pré-processamento das bases de treino, validação e teste"
   ],
   "cell_type": "markdown",
   "metadata": {}
  },
  {
   "cell_type": "code",
   "execution_count": 2,
   "metadata": {},
   "outputs": [
    {
     "output_type": "stream",
     "name": "stderr",
     "text": [
      "100%|██████████| 8/8 [00:01<00:00,  4.72it/s]Wall time: 1.7 s\n",
      "\n"
     ]
    }
   ],
   "source": [
    "%%time\n",
    "path = './datasets'\n",
    "datasets = ['BC2GM', 'BC4CHEMD', 'BC5CDR-chem', 'BC5CDR-disease', 'JNLPBA', 'linnaeus', 'NCBI-disease', 's800']\n",
    "\n",
    "train_dataframes = []\n",
    "valid_dataframes = []\n",
    "test_dataframes = []\n",
    "\n",
    "# Itera sobre a lista com os nomes dos diretórios das bases de dado\n",
    "for data in tqdm(datasets):\n",
    "    \n",
    "    # Armazena o caminho do diretória das bases de treino, validação e teste\n",
    "    train_path = os.path.join(path, data, 'train.tsv')\n",
    "    valid_path = os.path.join(path, data, 'devel.tsv')\n",
    "    test_path = os.path.join(path, data, 'test.tsv')\n",
    "\n",
    "    # Carrega as bases de treino, validação e teste\n",
    "    train_temp = pd.read_csv(train_path, sep='\\t', names=['word', 'tag'], quoting=3)\n",
    "    valid_temp = pd.read_csv(valid_path, sep='\\t', names=['word', 'tag'], quoting=3)\n",
    "    test_temp = pd.read_csv(test_path, sep='\\t', names=['word', 'tag'], quoting=3)\n",
    "\n",
    "    # Renomeia o padrão IOB de acordo com a tag específica para cada base de dados\n",
    "    if data == 'BC2GM':\n",
    "        train_temp['tag'].replace({'I': 'I-DRUG_PROTEIN', 'B': 'B-DRUG_PROTEIN'}, inplace=True)\n",
    "        valid_temp['tag'].replace({'I': 'I-DRUG_PROTEIN', 'B': 'B-DRUG_PROTEIN'}, inplace=True)\n",
    "        test_temp['tag'].replace({'I': 'I-DRUG_PROTEIN', 'B': 'B-DRUG_PROTEIN'}, inplace=True)\n",
    "\n",
    "    elif data == 'BC4CHEMD':\n",
    "        train_temp['tag'].replace({'I': 'I-CHEMICALS', 'B': 'B-CHEMICALS'}, inplace=True)\n",
    "        valid_temp['tag'].replace({'I': 'I-CHEMICALS', 'B': 'B-CHEMICALS'}, inplace=True)\n",
    "        test_temp['tag'].replace({'I': 'I-CHEMICALS', 'B': 'B-CHEMICALS'}, inplace=True)\n",
    "\n",
    "    elif data == 'BC5CDR-chem':\n",
    "        train_temp['tag'].replace({'I': 'I-CHEMICALS', 'B': 'B-CHEMICALS'}, inplace=True)\n",
    "        valid_temp['tag'].replace({'I': 'I-CHEMICALS', 'B': 'B-CHEMICALS'}, inplace=True)\n",
    "        test_temp['tag'].replace({'I': 'I-CHEMICALS', 'B': 'B-CHEMICALS'}, inplace=True)\n",
    "\n",
    "    elif data == 'BC5CDR-disease':\n",
    "        train_temp['tag'].replace({'I': 'I-DISEASE', 'B': 'B-DISEASE'}, inplace=True)\n",
    "        valid_temp['tag'].replace({'I': 'I-DISEASE', 'B': 'B-DISEASE'}, inplace=True)\n",
    "        test_temp['tag'].replace({'I': 'I-DISEASE', 'B': 'B-DISEASE'}, inplace=True)\n",
    "        \n",
    "    elif data == 'JNLPBA':\n",
    "        train_temp['tag'].replace({'I': 'I-DRUG_PROTEIN', 'B': 'B-DRUG_PROTEIN'}, inplace=True)\n",
    "        valid_temp['tag'].replace({'I': 'I-DRUG_PROTEIN', 'B': 'B-DRUG_PROTEIN'}, inplace=True)\n",
    "        test_temp['tag'].replace({'I': 'I-DRUG_PROTEIN', 'B': 'B-DRUG_PROTEIN'}, inplace=True)\n",
    "\n",
    "    elif data == 'linnaeus':\n",
    "        train_temp['tag'].replace({'I': 'I-SPECIES', 'B': 'B-SPECIES'}, inplace=True)\n",
    "        valid_temp['tag'].replace({'I': 'I-SPECIES', 'B': 'B-SPECIES'}, inplace=True)\n",
    "        test_temp['tag'].replace({'I': 'I-SPECIES', 'B': 'B-SPECIES'}, inplace=True)\n",
    "\n",
    "    elif data == 'NCBI-disease':\n",
    "        train_temp['tag'].replace({'I': 'I-DISEASE', 'B': 'B-DISEASE'}, inplace=True)\n",
    "        valid_temp['tag'].replace({'I': 'I-DISEASE', 'B': 'B-DISEASE'}, inplace=True)\n",
    "        test_temp['tag'].replace({'I': 'I-DISEASE', 'B': 'B-DISEASE'}, inplace=True)\n",
    "\n",
    "    elif data == 's800':\n",
    "        train_temp['tag'].replace({'I': 'I-SPECIES', 'B': 'B-SPECIES'}, inplace=True)\n",
    "        valid_temp['tag'].replace({'I': 'I-SPECIES', 'B': 'B-SPECIES'}, inplace=True)\n",
    "        test_temp['tag'].replace({'I': 'I-SPECIES', 'B': 'B-SPECIES'}, inplace=True)\n",
    "\n",
    "    train_dataframes.append(train_temp)\n",
    "    valid_dataframes.append(valid_temp)\n",
    "    test_dataframes.append(test_temp)"
   ]
  },
  {
   "cell_type": "code",
   "execution_count": 3,
   "metadata": {},
   "outputs": [
    {
     "output_type": "stream",
     "name": "stdout",
     "text": [
      "A base de treino possui 2.493.348 linhas e 2 colunas\nA base de validação possui 1.451.029 linhas e 2 colunas\nA base de teste possui 1.507.200 linhas e 2 colunas\n"
     ]
    }
   ],
   "source": [
    "train = pd.concat(train_dataframes)\n",
    "valid = pd.concat(valid_dataframes)\n",
    "test = pd.concat(test_dataframes)\n",
    "\n",
    "# Sanity check\n",
    "print(f'A base de treino possui {train.shape[0]:,} linhas e {train.shape[1]:,} colunas'.replace(',', '.'))\n",
    "print(f'A base de validação possui {valid.shape[0]:,} linhas e {valid.shape[1]:,} colunas'.replace(',', '.'))\n",
    "print(f'A base de teste possui {test.shape[0]:,} linhas e {test.shape[1]:,} colunas'.replace(',', '.'))"
   ]
  },
  {
   "source": [
    "## 2. Tratando valores faltantes"
   ],
   "cell_type": "markdown",
   "metadata": {}
  },
  {
   "cell_type": "code",
   "execution_count": 4,
   "metadata": {},
   "outputs": [
    {
     "output_type": "stream",
     "name": "stdout",
     "text": [
      "Valores faltantes na base de treino:\n",
      "-------------------------------------\n",
      "word    220\n",
      "tag       0\n",
      "dtype: int64\n",
      "\n",
      "Valores faltantes na base de validação:\n",
      "----------------------------------------\n",
      "word    69\n",
      "tag      0\n",
      "dtype: int64\n",
      "\n",
      "Valores faltantes na base de test:\n",
      "-----------------------------------\n",
      "word    79\n",
      "tag      0\n",
      "dtype: int64\n"
     ]
    }
   ],
   "source": [
    "# Verifica se há missing values na base de treino\n",
    "print('Valores faltantes na base de treino:' , '-' * 37, train.isna().sum(), sep='\\n', end='\\n\\n')\n",
    "\n",
    "# Verifica se há missing values na base de validação\n",
    "print('Valores faltantes na base de validação:', '-' * 40, valid.isna().sum(), sep='\\n', end='\\n\\n')\n",
    "\n",
    "# Verifica se há missing values na base de teste\n",
    "print('Valores faltantes na base de test:', '-' * 35, test.isna().sum(), sep='\\n')"
   ]
  },
  {
   "cell_type": "code",
   "execution_count": 5,
   "metadata": {},
   "outputs": [
    {
     "output_type": "stream",
     "name": "stdout",
     "text": [
      "A base de treino possui 2.493.128 linhas e 2 colunas\nA base de validação possui 1.450.960 linhas e 2 colunas\nA base de teste possui 1.507.121 linhas e 2 colunas\n"
     ]
    }
   ],
   "source": [
    "# Remove dados faltantes da base de treino e validação\n",
    "train.dropna(inplace=True)\n",
    "valid.dropna(inplace=True)\n",
    "test.dropna(inplace=True)\n",
    "\n",
    "# Sanity check\n",
    "print(f'A base de treino possui {train.shape[0]:,} linhas e {train.shape[1]:,} colunas'.replace(',', '.'))\n",
    "print(f'A base de validação possui {valid.shape[0]:,} linhas e {valid.shape[1]:,} colunas'.replace(',', '.'))\n",
    "print(f'A base de teste possui {test.shape[0]:,} linhas e {test.shape[1]:,} colunas'.replace(',', '.'))"
   ]
  },
  {
   "source": [
    "## Tratando dados inconsistentes"
   ],
   "cell_type": "markdown",
   "metadata": {}
  },
  {
   "cell_type": "code",
   "execution_count": 6,
   "metadata": {},
   "outputs": [
    {
     "output_type": "stream",
     "name": "stdout",
     "text": [
      "Quantidade de linhas que devem ser removidas na base de treino: 0\n"
     ]
    },
    {
     "output_type": "execute_result",
     "data": {
      "text/plain": [
       "Empty DataFrame\n",
       "Columns: [word, tag]\n",
       "Index: []"
      ],
      "text/html": "<div>\n<style scoped>\n    .dataframe tbody tr th:only-of-type {\n        vertical-align: middle;\n    }\n\n    .dataframe tbody tr th {\n        vertical-align: top;\n    }\n\n    .dataframe thead th {\n        text-align: right;\n    }\n</style>\n<table border=\"1\" class=\"dataframe\">\n  <thead>\n    <tr style=\"text-align: right;\">\n      <th></th>\n      <th>word</th>\n      <th>tag</th>\n    </tr>\n  </thead>\n  <tbody>\n  </tbody>\n</table>\n</div>"
     },
     "metadata": {},
     "execution_count": 6
    }
   ],
   "source": [
    "# Remove dados que impedem a conversão dos arquivos treinamento\n",
    "pattern = r'\\b\\t\\w*'\n",
    "mask = train['word'].str.contains(pattern, regex=True)\n",
    "print('Quantidade de linhas que devem ser removidas na base de treino:', train[mask].shape[0])\n",
    "train[mask].head()"
   ]
  },
  {
   "cell_type": "code",
   "execution_count": 7,
   "metadata": {},
   "outputs": [
    {
     "output_type": "stream",
     "name": "stdout",
     "text": [
      "Quantidade de linhas que devem ser removidas na base de treino: 0\n"
     ]
    },
    {
     "output_type": "execute_result",
     "data": {
      "text/plain": [
       "Empty DataFrame\n",
       "Columns: [word, tag]\n",
       "Index: []"
      ],
      "text/html": "<div>\n<style scoped>\n    .dataframe tbody tr th:only-of-type {\n        vertical-align: middle;\n    }\n\n    .dataframe tbody tr th {\n        vertical-align: top;\n    }\n\n    .dataframe thead th {\n        text-align: right;\n    }\n</style>\n<table border=\"1\" class=\"dataframe\">\n  <thead>\n    <tr style=\"text-align: right;\">\n      <th></th>\n      <th>word</th>\n      <th>tag</th>\n    </tr>\n  </thead>\n  <tbody>\n  </tbody>\n</table>\n</div>"
     },
     "metadata": {},
     "execution_count": 7
    }
   ],
   "source": [
    "# Remove dados que impedem a conversão dos arquivos validação\n",
    "pattern = r'\\b\\t\\w*'\n",
    "mask = valid['word'].str.contains(pattern, regex=True)\n",
    "print('Quantidade de linhas que devem ser removidas na base de treino:', valid[mask].shape[0])\n",
    "valid[mask].head()"
   ]
  },
  {
   "cell_type": "code",
   "execution_count": 8,
   "metadata": {},
   "outputs": [
    {
     "output_type": "stream",
     "name": "stdout",
     "text": [
      "Quantidade de linhas que devem ser removidas na base de validação: 0\n"
     ]
    },
    {
     "output_type": "execute_result",
     "data": {
      "text/plain": [
       "Empty DataFrame\n",
       "Columns: [word, tag]\n",
       "Index: []"
      ],
      "text/html": "<div>\n<style scoped>\n    .dataframe tbody tr th:only-of-type {\n        vertical-align: middle;\n    }\n\n    .dataframe tbody tr th {\n        vertical-align: top;\n    }\n\n    .dataframe thead th {\n        text-align: right;\n    }\n</style>\n<table border=\"1\" class=\"dataframe\">\n  <thead>\n    <tr style=\"text-align: right;\">\n      <th></th>\n      <th>word</th>\n      <th>tag</th>\n    </tr>\n  </thead>\n  <tbody>\n  </tbody>\n</table>\n</div>"
     },
     "metadata": {},
     "execution_count": 8
    }
   ],
   "source": [
    "# Remove dados que impedem a conversão dos arquivos de teste\n",
    "pattern = r'\\b\\t\\w*'\n",
    "mask = test['word'].str.contains(pattern, regex=True)\n",
    "print('Quantidade de linhas que devem ser removidas na base de validação:', test[mask].shape[0])\n",
    "test[mask].head()"
   ]
  },
  {
   "source": [
    "## Distribuição de _tags_ da variável álvo"
   ],
   "cell_type": "markdown",
   "metadata": {}
  },
  {
   "source": [
    "train['tag'].value_counts(dropna=False)"
   ],
   "cell_type": "code",
   "metadata": {},
   "execution_count": 9,
   "outputs": [
    {
     "output_type": "execute_result",
     "data": {
      "text/plain": [
       "O                 2258884\n",
       "I-DRUG_PROTEIN      86890\n",
       "B-DRUG_PROTEIN      47375\n",
       "I-CHEMICALS         37823\n",
       "B-CHEMICALS         34681\n",
       "B-DISEASE            9316\n",
       "I-DISEASE            9033\n",
       "B-SPECIES            4676\n",
       "I-SPECIES            4450\n",
       "Name: tag, dtype: int64"
      ]
     },
     "metadata": {},
     "execution_count": 9
    }
   ]
  },
  {
   "cell_type": "code",
   "execution_count": 10,
   "metadata": {},
   "outputs": [
    {
     "output_type": "execute_result",
     "data": {
      "text/plain": [
       "O                 1335891\n",
       "I-CHEMICALS         36611\n",
       "B-CHEMICALS         34833\n",
       "I-DRUG_PROTEIN      21210\n",
       "B-DRUG_PROTEIN      11636\n",
       "B-DISEASE            5033\n",
       "I-DISEASE            3813\n",
       "B-SPECIES            1095\n",
       "I-SPECIES             838\n",
       "Name: tag, dtype: int64"
      ]
     },
     "metadata": {},
     "execution_count": 10
    }
   ],
   "source": [
    "valid['tag'].value_counts(dropna=False)"
   ]
  },
  {
   "cell_type": "code",
   "execution_count": 11,
   "metadata": {},
   "outputs": [
    {
     "output_type": "execute_result",
     "data": {
      "text/plain": [
       "O                 1397882\n",
       "I-CHEMICALS         31270\n",
       "B-CHEMICALS         30724\n",
       "I-DRUG_PROTEIN      21429\n",
       "B-DRUG_PROTEIN      12566\n",
       "B-DISEASE            5384\n",
       "I-DISEASE            3824\n",
       "B-SPECIES            2200\n",
       "I-SPECIES            1842\n",
       "Name: tag, dtype: int64"
      ]
     },
     "metadata": {},
     "execution_count": 11
    }
   ],
   "source": [
    "test['tag'].value_counts(dropna=False)"
   ]
  },
  {
   "cell_type": "code",
   "execution_count": 12,
   "metadata": {},
   "outputs": [],
   "source": [
    "# Shuffle data\n",
    "# train = shuffle(train, random_state=0)\n",
    "\n",
    "# Salva os arquivos pré-processados em formato \"iob\"\n",
    "train.to_csv('./datasets/spacy/train.iob', sep='\\t', header=0, index=0)\n",
    "valid.to_csv('./datasets/spacy/valid.iob', sep='\\t', header=0, index=0)\n",
    "test.to_csv('./datasets/spacy/test.iob', sep='\\t', header=0, index=0)"
   ]
  },
  {
   "cell_type": "code",
   "execution_count": null,
   "metadata": {},
   "outputs": [],
   "source": []
  }
 ]
}