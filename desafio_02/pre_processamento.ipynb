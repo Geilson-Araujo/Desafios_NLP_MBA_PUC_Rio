{
 "metadata": {
  "language_info": {
   "codemirror_mode": {
    "name": "ipython",
    "version": 3
   },
   "file_extension": ".py",
   "mimetype": "text/x-python",
   "name": "python",
   "nbconvert_exporter": "python",
   "pygments_lexer": "ipython3",
   "version": "3.7.10"
  },
  "orig_nbformat": 2,
  "kernelspec": {
   "name": "python3710jvsc74a57bd0cb084e9823c91bc2641848397caf4d41212b92659530bed89d9880657b0e0b7c",
   "display_name": "Python 3.7.10 64-bit ('pytorch': conda)"
  }
 },
 "nbformat": 4,
 "nbformat_minor": 2,
 "cells": [
  {
   "cell_type": "code",
   "execution_count": 1,
   "metadata": {},
   "outputs": [],
   "source": [
    "import os\n",
    "\n",
    "import pandas as pd\n",
    "\n",
    "from sklearn.utils import shuffle\n",
    "\n",
    "from tqdm import tqdm"
   ]
  },
  {
   "source": [
    "## 1. Pré-processamento das bases de treino e teste"
   ],
   "cell_type": "markdown",
   "metadata": {}
  },
  {
   "cell_type": "code",
   "execution_count": 2,
   "metadata": {},
   "outputs": [
    {
     "output_type": "stream",
     "name": "stderr",
     "text": [
      "100%|██████████| 8/8 [00:01<00:00,  4.80it/s]Wall time: 1.67 s\n",
      "\n"
     ]
    }
   ],
   "source": [
    "%%time\n",
    "path = './datasets'\n",
    "datasets = ['BC2GM', 'BC4CHEMD', 'BC5CDR-chem', 'BC5CDR-disease', 'JNLPBA', 'linnaeus', 'NCBI-disease', 's800']\n",
    "\n",
    "train_dataframes = []\n",
    "test_dataframes = []\n",
    "\n",
    "# Itera sobre a lista com os nomes dos diretórios das bases de dado\n",
    "for data in tqdm(datasets):\n",
    "    \n",
    "    # Armazena o caminho do diretória da base de treino e teste\n",
    "    train_path = os.path.join(path, data, 'train_dev.tsv')\n",
    "    test_path = os.path.join(path, data, 'test.tsv')\n",
    "\n",
    "    # Carrega as bases de treino e teste\n",
    "    train_temp = pd.read_csv(train_path, sep='\\t', names=['word', 'tag'], quoting=3)\n",
    "    test_temp = pd.read_csv(test_path, sep='\\t', names=['word', 'tag'], quoting=3)\n",
    "\n",
    "    # Renomeia o padrão IOB de acordo com a tag específica para cada base de dados\n",
    "    if data == 'BC2GM':\n",
    "        train_temp['tag'].replace({'I': 'I-DRUG_PROTEIN', 'B': 'B-DRUG_PROTEIN'}, inplace=True)\n",
    "        test_temp['tag'].replace({'I': 'I-DRUG_PROTEIN', 'B': 'B-DRUG_PROTEIN'}, inplace=True)\n",
    "\n",
    "    elif data == 'BC4CHEMD':\n",
    "        train_temp['tag'].replace({'I': 'I-CHEMICALS', 'B': 'B-CHEMICALS'}, inplace=True)\n",
    "        test_temp['tag'].replace({'I': 'I-CHEMICALS', 'B': 'B-CHEMICALS'}, inplace=True)\n",
    "\n",
    "    elif data == 'BC5CDR-chem':\n",
    "        train_temp['tag'].replace({'I': 'I-CHEMICALS', 'B': 'B-CHEMICALS'}, inplace=True)\n",
    "        test_temp['tag'].replace({'I': 'I-CHEMICALS', 'B': 'B-CHEMICALS'}, inplace=True)\n",
    "\n",
    "    elif data == 'BC5CDR-disease':\n",
    "        train_temp['tag'].replace({'I': 'I-DISEASE', 'B': 'B-DISEASE'}, inplace=True)\n",
    "        test_temp['tag'].replace({'I': 'I-DISEASE', 'B': 'B-DISEASE'}, inplace=True)\n",
    "        \n",
    "    elif data == 'JNLPBA':\n",
    "        train_temp['tag'].replace({'I': 'I-DRUG_PROTEIN', 'B': 'B-DRUG_PROTEIN'}, inplace=True)\n",
    "        test_temp['tag'].replace({'I': 'I-DRUG_PROTEIN', 'B': 'B-DRUG_PROTEIN'}, inplace=True)\n",
    "\n",
    "    elif data == 'linnaeus':\n",
    "        train_temp['tag'].replace({'I': 'I-SPECIES', 'B': 'B-SPECIES'}, inplace=True)\n",
    "        test_temp['tag'].replace({'I': 'I-SPECIES', 'B': 'B-SPECIES'}, inplace=True)\n",
    "\n",
    "    elif data == 'NCBI-disease':\n",
    "        train_temp['tag'].replace({'I': 'I-DISEASE', 'B': 'B-DISEASE'}, inplace=True)\n",
    "        test_temp['tag'].replace({'I': 'I-DISEASE', 'B': 'B-DISEASE'}, inplace=True)\n",
    "\n",
    "    elif data == 's800':\n",
    "        train_temp['tag'].replace({'I': 'I-SPECIES', 'B': 'B-SPECIES'}, inplace=True)\n",
    "        test_temp['tag'].replace({'I': 'I-SPECIES', 'B': 'B-SPECIES'}, inplace=True)\n",
    "\n",
    "    train_dataframes.append(train_temp)\n",
    "    test_dataframes.append(test_temp)"
   ]
  },
  {
   "cell_type": "code",
   "execution_count": 3,
   "metadata": {},
   "outputs": [
    {
     "output_type": "stream",
     "name": "stdout",
     "text": [
      "A base de treino possui 3.944.377 linhas e 2 colunas\nA base de teste possui 1.507.200 linhas e 2 colunas\n"
     ]
    }
   ],
   "source": [
    "train = pd.concat(train_dataframes)\n",
    "test = pd.concat(test_dataframes)\n",
    "\n",
    "# Sanity check\n",
    "print(f'A base de treino possui {train.shape[0]:,} linhas e {train.shape[1]:,} colunas'.replace(',', '.'))\n",
    "print(f'A base de teste possui {test.shape[0]:,} linhas e {test.shape[1]:,} colunas'.replace(',', '.'))"
   ]
  },
  {
   "source": [
    "## 2. Tratando valores faltantes"
   ],
   "cell_type": "markdown",
   "metadata": {}
  },
  {
   "cell_type": "code",
   "execution_count": 4,
   "metadata": {},
   "outputs": [
    {
     "output_type": "stream",
     "name": "stdout",
     "text": [
      "Valores faltantes na base de treino:\n-------------------------------------\nword    289\ntag       0\ndtype: int64\n\nValores faltantes na base de validação:\n----------------------------------------\nword    79\ntag      0\ndtype: int64\n"
     ]
    }
   ],
   "source": [
    "# Verifica se há missing values na base de treino\n",
    "print('Valores faltantes na base de treino:' , '-' * 37, train.isna().sum(), sep='\\n', end='\\n\\n')\n",
    "\n",
    "# Verifica se há missing values na base de validação\n",
    "print('Valores faltantes na base de validação:', '-' * 40, test.isna().sum(), sep='\\n')"
   ]
  },
  {
   "cell_type": "code",
   "execution_count": 5,
   "metadata": {},
   "outputs": [
    {
     "output_type": "stream",
     "name": "stdout",
     "text": [
      "A base de treino possui 3.944.088 linhas e 2 colunas\nA base de teste possui 1.507.121 linhas e 2 colunas\n"
     ]
    }
   ],
   "source": [
    "# Remove dados faltantes da base de treino e validação\n",
    "train.dropna(inplace=True)\n",
    "test.dropna(inplace=True)\n",
    "\n",
    "# Sanity check\n",
    "print(f'A base de treino possui {train.shape[0]:,} linhas e {train.shape[1]:,} colunas'.replace(',', '.'))\n",
    "print(f'A base de teste possui {test.shape[0]:,} linhas e {test.shape[1]:,} colunas'.replace(',', '.'))"
   ]
  },
  {
   "source": [
    "## Tratando dados inconsistentes"
   ],
   "cell_type": "markdown",
   "metadata": {}
  },
  {
   "cell_type": "code",
   "execution_count": 6,
   "metadata": {},
   "outputs": [
    {
     "output_type": "stream",
     "name": "stdout",
     "text": [
      "Quantidade de linhas que devem ser removidas na base de treino: 0\n"
     ]
    },
    {
     "output_type": "execute_result",
     "data": {
      "text/plain": [
       "Empty DataFrame\n",
       "Columns: [word, tag]\n",
       "Index: []"
      ],
      "text/html": "<div>\n<style scoped>\n    .dataframe tbody tr th:only-of-type {\n        vertical-align: middle;\n    }\n\n    .dataframe tbody tr th {\n        vertical-align: top;\n    }\n\n    .dataframe thead th {\n        text-align: right;\n    }\n</style>\n<table border=\"1\" class=\"dataframe\">\n  <thead>\n    <tr style=\"text-align: right;\">\n      <th></th>\n      <th>word</th>\n      <th>tag</th>\n    </tr>\n  </thead>\n  <tbody>\n  </tbody>\n</table>\n</div>"
     },
     "metadata": {},
     "execution_count": 6
    }
   ],
   "source": [
    "# Remove dados que impedem a conversão dos arquivos\n",
    "pattern = r'\\b\\t\\w*'\n",
    "mask = train['word'].str.contains(pattern, regex=True)\n",
    "print('Quantidade de linhas que devem ser removidas na base de treino:', train[mask].shape[0])\n",
    "train[mask].head()"
   ]
  },
  {
   "cell_type": "code",
   "execution_count": 7,
   "metadata": {},
   "outputs": [
    {
     "output_type": "stream",
     "name": "stdout",
     "text": [
      "Quantidade de linhas que devem ser removidas na base de validação: 0\n"
     ]
    },
    {
     "output_type": "execute_result",
     "data": {
      "text/plain": [
       "Empty DataFrame\n",
       "Columns: [word, tag]\n",
       "Index: []"
      ],
      "text/html": "<div>\n<style scoped>\n    .dataframe tbody tr th:only-of-type {\n        vertical-align: middle;\n    }\n\n    .dataframe tbody tr th {\n        vertical-align: top;\n    }\n\n    .dataframe thead th {\n        text-align: right;\n    }\n</style>\n<table border=\"1\" class=\"dataframe\">\n  <thead>\n    <tr style=\"text-align: right;\">\n      <th></th>\n      <th>word</th>\n      <th>tag</th>\n    </tr>\n  </thead>\n  <tbody>\n  </tbody>\n</table>\n</div>"
     },
     "metadata": {},
     "execution_count": 7
    }
   ],
   "source": [
    "# Remove dados que impedem a conversão dos arquivos\n",
    "pattern = r'\\b\\t\\w*'\n",
    "mask = test['word'].str.contains(pattern, regex=True)\n",
    "print('Quantidade de linhas que devem ser removidas na base de validação:', test[mask].shape[0])\n",
    "test[mask].head()"
   ]
  },
  {
   "source": [
    "## Distribuição de _tags_ da variável álvo"
   ],
   "cell_type": "markdown",
   "metadata": {}
  },
  {
   "source": [
    "train['tag'].value_counts(dropna=False)"
   ],
   "cell_type": "code",
   "metadata": {},
   "execution_count": 8,
   "outputs": [
    {
     "output_type": "execute_result",
     "data": {
      "text/plain": [
       "O                 3594775\n",
       "I-DRUG_PROTEIN     108100\n",
       "I-CHEMICALS         74434\n",
       "B-CHEMICALS         69514\n",
       "B-DRUG_PROTEIN      59011\n",
       "B-DISEASE           14349\n",
       "I-DISEASE           12846\n",
       "B-SPECIES            5771\n",
       "I-SPECIES            5288\n",
       "Name: tag, dtype: int64"
      ]
     },
     "metadata": {},
     "execution_count": 8
    }
   ]
  },
  {
   "cell_type": "code",
   "execution_count": 9,
   "metadata": {},
   "outputs": [
    {
     "output_type": "execute_result",
     "data": {
      "text/plain": [
       "O                 1397882\n",
       "I-CHEMICALS         31270\n",
       "B-CHEMICALS         30724\n",
       "I-DRUG_PROTEIN      21429\n",
       "B-DRUG_PROTEIN      12566\n",
       "B-DISEASE            5384\n",
       "I-DISEASE            3824\n",
       "B-SPECIES            2200\n",
       "I-SPECIES            1842\n",
       "Name: tag, dtype: int64"
      ]
     },
     "metadata": {},
     "execution_count": 9
    }
   ],
   "source": [
    "test['tag'].value_counts(dropna=False)"
   ]
  },
  {
   "cell_type": "code",
   "execution_count": 10,
   "metadata": {},
   "outputs": [],
   "source": [
    "# Shuffle data\n",
    "# train = shuffle(train, random_state=0)\n",
    "\n",
    "# Salva os arquivos pré-processados em formato \"iob\"\n",
    "train.to_csv('./datasets/spacy/train.iob', sep='\\t', header=0, index=0)\n",
    "test.to_csv('./datasets/spacy/test.iob', sep='\\t', header=0, index=0)"
   ]
  },
  {
   "cell_type": "code",
   "execution_count": null,
   "metadata": {},
   "outputs": [],
   "source": []
  }
 ]
}