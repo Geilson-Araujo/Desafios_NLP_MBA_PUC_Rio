{
 "cells": [
  {
   "cell_type": "markdown",
   "metadata": {},
   "source": [
    "## 1. Bibliotecas e módulos úteis"
   ]
  },
  {
   "cell_type": "code",
   "execution_count": 1,
   "metadata": {},
   "outputs": [],
   "source": [
    "import re\n",
    "import pandas as pd\n",
    "\n",
    "import spacy"
   ]
  },
  {
   "cell_type": "code",
   "execution_count": 2,
   "metadata": {},
   "outputs": [
    {
     "output_type": "execute_result",
     "data": {
      "text/plain": [
       "'3.0.5'"
      ]
     },
     "metadata": {},
     "execution_count": 2
    }
   ],
   "source": [
    "spacy.__version__"
   ]
  },
  {
   "cell_type": "markdown",
   "metadata": {},
   "source": [
    "## 2. Carregando as bases de dados relacionadas ao BC2GM(BioCreative II Gene Mention) _Corpus_:\n",
    "\n",
    "> [Gene Mention Tagging task](https://genomebiology.biomedcentral.com/articles/10.1186/gb-2008-9-s2-s2) as part of the BioCreative II challenge is concerned with the named entity extraction of gene and gene product mentions in text. The BC2GM corpus contains a total of 24,583 gene entity mentions.\n",
    "\n",
    "--- \n",
    "\n",
    "* Os aquivos estão no formato `.tsv` (_tab-separated values_). Podemos utilizar tanto o método `pd.read_table()` quanto o `pd.read_csv()` para carregá-los;\n",
    "  Nesse caso, é necessário especificar o separador `sep='\\t'`, indicando se tratar de tabulacão; ou o _alias_ para esse parâmetro, `delimiter='\\t'`;\n",
    "* Os arquivos não possuem cabeçalho. Assim, apenas para melhor compreensão dos dados, nomeamos as colunas por \"word\" e \"tag\" por meio do parâmetro `names=['word', 'tag']`;\n",
    "* Ao tentarmos carregar o arquivo de treino, ocorreu o seguinte erro - acreditomos que devido ao seu tamanho:\n",
    "\n",
    "    ```python\n",
    "    Error tokenizing data. C error: EOF inside string starting at row 131598\n",
    "    ```\n",
    "* A solução encontrada foi utilizar o parâmetro `quoting=3`."
   ]
  },
  {
   "cell_type": "code",
   "execution_count": 3,
   "metadata": {},
   "outputs": [],
   "source": [
    "# Carrega a base de treino e validação(dev) juntas\n",
    "bc2gm_train = pd.read_csv('./datasets/BC2GM/train_dev.tsv', sep='\\t', names=['word', 'tag'], quoting=3)\n",
    "\n",
    "# Carrega a base de teste\n",
    "bc2gm_test = pd.read_csv('./datasets/BC2GM/test.tsv', sep='\\t', names=['word', 'tag'])"
   ]
  },
  {
   "cell_type": "markdown",
   "metadata": {},
   "source": [
    "## 2.1 Análise Exploratória de Dados"
   ]
  },
  {
   "cell_type": "code",
   "execution_count": 4,
   "metadata": {},
   "outputs": [
    {
     "output_type": "execute_result",
     "data": {
      "text/plain": [
       "                  word tag\n",
       "0  Immunohistochemical   O\n",
       "1             staining   O\n",
       "2                  was   O\n",
       "3             positive   O\n",
       "4                  for   O"
      ],
      "text/html": "<div>\n<style scoped>\n    .dataframe tbody tr th:only-of-type {\n        vertical-align: middle;\n    }\n\n    .dataframe tbody tr th {\n        vertical-align: top;\n    }\n\n    .dataframe thead th {\n        text-align: right;\n    }\n</style>\n<table border=\"1\" class=\"dataframe\">\n  <thead>\n    <tr style=\"text-align: right;\">\n      <th></th>\n      <th>word</th>\n      <th>tag</th>\n    </tr>\n  </thead>\n  <tbody>\n    <tr>\n      <th>0</th>\n      <td>Immunohistochemical</td>\n      <td>O</td>\n    </tr>\n    <tr>\n      <th>1</th>\n      <td>staining</td>\n      <td>O</td>\n    </tr>\n    <tr>\n      <th>2</th>\n      <td>was</td>\n      <td>O</td>\n    </tr>\n    <tr>\n      <th>3</th>\n      <td>positive</td>\n      <td>O</td>\n    </tr>\n    <tr>\n      <th>4</th>\n      <td>for</td>\n      <td>O</td>\n    </tr>\n  </tbody>\n</table>\n</div>"
     },
     "metadata": {},
     "execution_count": 4
    }
   ],
   "source": [
    "# Exibe as primeiras linhas da base de treino\n",
    "bc2gm_train.head()"
   ]
  },
  {
   "cell_type": "code",
   "execution_count": 5,
   "metadata": {},
   "outputs": [
    {
     "output_type": "execute_result",
     "data": {
      "text/plain": [
       "          word tag\n",
       "0     Physical   O\n",
       "1      mapping   O\n",
       "2          220   O\n",
       "3           kb   O\n",
       "4  centromeric   O"
      ],
      "text/html": "<div>\n<style scoped>\n    .dataframe tbody tr th:only-of-type {\n        vertical-align: middle;\n    }\n\n    .dataframe tbody tr th {\n        vertical-align: top;\n    }\n\n    .dataframe thead th {\n        text-align: right;\n    }\n</style>\n<table border=\"1\" class=\"dataframe\">\n  <thead>\n    <tr style=\"text-align: right;\">\n      <th></th>\n      <th>word</th>\n      <th>tag</th>\n    </tr>\n  </thead>\n  <tbody>\n    <tr>\n      <th>0</th>\n      <td>Physical</td>\n      <td>O</td>\n    </tr>\n    <tr>\n      <th>1</th>\n      <td>mapping</td>\n      <td>O</td>\n    </tr>\n    <tr>\n      <th>2</th>\n      <td>220</td>\n      <td>O</td>\n    </tr>\n    <tr>\n      <th>3</th>\n      <td>kb</td>\n      <td>O</td>\n    </tr>\n    <tr>\n      <th>4</th>\n      <td>centromeric</td>\n      <td>O</td>\n    </tr>\n  </tbody>\n</table>\n</div>"
     },
     "metadata": {},
     "execution_count": 5
    }
   ],
   "source": [
    "# Exibe as linhas iniciais da base de teste\n",
    "bc2gm_test.head()"
   ]
  },
  {
   "cell_type": "code",
   "execution_count": 6,
   "metadata": {},
   "outputs": [
    {
     "output_type": "execute_result",
     "data": {
      "text/plain": [
       "O    381648\n",
       "I     26541\n",
       "B     18258\n",
       "Name: tag, dtype: int64"
      ]
     },
     "metadata": {},
     "execution_count": 6
    }
   ],
   "source": [
    "# Exibe a distibuição de valores para a coluna \"tag\" na base de treino\n",
    "bc2gm_train['tag'].value_counts(dropna=False)"
   ]
  },
  {
   "cell_type": "code",
   "execution_count": 7,
   "metadata": {},
   "outputs": [
    {
     "output_type": "execute_result",
     "data": {
      "text/plain": [
       "O    98965\n",
       "I     6694\n",
       "B     4765\n",
       "Name: tag, dtype: int64"
      ]
     },
     "metadata": {},
     "execution_count": 7
    }
   ],
   "source": [
    "# Exibe a distibuição de valores para a coluna \"tag\" na base de treino\n",
    "bc2gm_test['tag'].value_counts(dropna=False)"
   ]
  },
  {
   "cell_type": "markdown",
   "metadata": {},
   "source": [
    "De acordo com a coluna `tag`, temos uma típica represetação para tarefas de linguística computacional: O formato __IOB__ - um acrônimo para _Inside_, _Outside_, _Beginning_.\n",
    "\n",
    "[Inside–outside–beginning (tagging)](https://en.wikipedia.org/wiki/Inside%E2%80%93outside%E2%80%93beginning_(tagging))"
   ]
  },
  {
   "cell_type": "code",
   "execution_count": 8,
   "metadata": {},
   "outputs": [
    {
     "output_type": "stream",
     "name": "stdout",
     "text": [
      "A base de treino possui 426.447 linas e 2 colunas\nA base de teste possui 110.424 linnas e 2 colunas\n"
     ]
    }
   ],
   "source": [
    "print(f'A base de treino possui {bc2gm_train.shape[0]:,} linas e {bc2gm_train.shape[1]:,} colunas'.replace(',', '.'))\n",
    "print(f'A base de teste possui {bc2gm_test.shape[0]:,} linnas e {bc2gm_test.shape[1]:,} colunas'.replace(',', '.'))"
   ]
  },
  {
   "cell_type": "markdown",
   "metadata": {},
   "source": [
    "## 2.2. Procurando por Dados Faltantes"
   ]
  },
  {
   "cell_type": "code",
   "execution_count": 9,
   "metadata": {},
   "outputs": [
    {
     "output_type": "stream",
     "name": "stdout",
     "text": [
      "Valores faltantes na base de treino:\n-------------------------------------\nword    26\ntag      0\ndtype: int64\n\nValores faltantes na base de teste:\n-------------------------------------\nword    9\ntag     0\ndtype: int64\n"
     ]
    }
   ],
   "source": [
    "# Verifica se há missing values na base de treino\n",
    "print('Valores faltantes na base de treino:' , '-' * 37, bc2gm_train.isna().sum(), sep='\\n', end='\\n\\n')\n",
    "\n",
    "# Verifica se há missing values na base de test\n",
    "print('Valores faltantes na base de teste:', '-' * 37, bc2gm_test.isna().sum(), sep='\\n')"
   ]
  },
  {
   "cell_type": "code",
   "execution_count": 10,
   "metadata": {},
   "outputs": [
    {
     "output_type": "stream",
     "name": "stdout",
     "text": [
      "A base de treino possui 426.421 linas e 2 colunas\nA base de teste possui 110.415 linnas e 2 colunas\n"
     ]
    }
   ],
   "source": [
    "# Remove dados faltantes da base de treino e teste\n",
    "bc2gm_train.dropna(inplace=True)\n",
    "bc2gm_test.dropna(inplace=True)\n",
    "\n",
    "# Sanity check\n",
    "print(f'A base de treino possui {bc2gm_train.shape[0]:,} linas e {bc2gm_train.shape[1]:,} colunas'.replace(',', '.'))\n",
    "print(f'A base de teste possui {bc2gm_test.shape[0]:,} linnas e {bc2gm_test.shape[1]:,} colunas'.replace(',', '.'))"
   ]
  },
  {
   "cell_type": "markdown",
   "metadata": {},
   "source": [
    "## 3 Carregando as bases de dados relacionadas ao BC4CHEMD Corpus:"
   ]
  },
  {
   "cell_type": "code",
   "execution_count": 11,
   "metadata": {},
   "outputs": [],
   "source": [
    "# Carrega a base de treino e validação(dev) juntas\n",
    "bc4chemd_train = pd.read_csv('./datasets/BC4CHEMD/train_dev.tsv', sep='\\t', names=['word', 'tag'], quoting=3)\n",
    "\n",
    "# Carrega a base de teste\n",
    "bc4chemd_test = pd.read_csv('./datasets/BC4CHEMD/test.tsv', sep='\\t', names=['word', 'tag'], quoting=3)"
   ]
  },
  {
   "cell_type": "markdown",
   "metadata": {},
   "source": [
    "## 3.1 Análise Exploratória de Dados"
   ]
  },
  {
   "cell_type": "code",
   "execution_count": 12,
   "metadata": {},
   "outputs": [
    {
     "output_type": "execute_result",
     "data": {
      "text/plain": [
       "        word tag\n",
       "0       DPP6   O\n",
       "1         as   O\n",
       "2          a   O\n",
       "3  candidate   O\n",
       "4       gene   O"
      ],
      "text/html": "<div>\n<style scoped>\n    .dataframe tbody tr th:only-of-type {\n        vertical-align: middle;\n    }\n\n    .dataframe tbody tr th {\n        vertical-align: top;\n    }\n\n    .dataframe thead th {\n        text-align: right;\n    }\n</style>\n<table border=\"1\" class=\"dataframe\">\n  <thead>\n    <tr style=\"text-align: right;\">\n      <th></th>\n      <th>word</th>\n      <th>tag</th>\n    </tr>\n  </thead>\n  <tbody>\n    <tr>\n      <th>0</th>\n      <td>DPP6</td>\n      <td>O</td>\n    </tr>\n    <tr>\n      <th>1</th>\n      <td>as</td>\n      <td>O</td>\n    </tr>\n    <tr>\n      <th>2</th>\n      <td>a</td>\n      <td>O</td>\n    </tr>\n    <tr>\n      <th>3</th>\n      <td>candidate</td>\n      <td>O</td>\n    </tr>\n    <tr>\n      <th>4</th>\n      <td>gene</td>\n      <td>O</td>\n    </tr>\n  </tbody>\n</table>\n</div>"
     },
     "metadata": {},
     "execution_count": 12
    }
   ],
   "source": [
    "# Exibe as primeiras linhas da base de treino\n",
    "bc4chemd_train.head()"
   ]
  },
  {
   "cell_type": "code",
   "execution_count": 13,
   "metadata": {},
   "outputs": [
    {
     "output_type": "execute_result",
     "data": {
      "text/plain": [
       "              word tag\n",
       "0          Effects   O\n",
       "1               of   O\n",
       "2  docosahexaenoic   B\n",
       "3             acid   I\n",
       "4              and   O"
      ],
      "text/html": "<div>\n<style scoped>\n    .dataframe tbody tr th:only-of-type {\n        vertical-align: middle;\n    }\n\n    .dataframe tbody tr th {\n        vertical-align: top;\n    }\n\n    .dataframe thead th {\n        text-align: right;\n    }\n</style>\n<table border=\"1\" class=\"dataframe\">\n  <thead>\n    <tr style=\"text-align: right;\">\n      <th></th>\n      <th>word</th>\n      <th>tag</th>\n    </tr>\n  </thead>\n  <tbody>\n    <tr>\n      <th>0</th>\n      <td>Effects</td>\n      <td>O</td>\n    </tr>\n    <tr>\n      <th>1</th>\n      <td>of</td>\n      <td>O</td>\n    </tr>\n    <tr>\n      <th>2</th>\n      <td>docosahexaenoic</td>\n      <td>B</td>\n    </tr>\n    <tr>\n      <th>3</th>\n      <td>acid</td>\n      <td>I</td>\n    </tr>\n    <tr>\n      <th>4</th>\n      <td>and</td>\n      <td>O</td>\n    </tr>\n  </tbody>\n</table>\n</div>"
     },
     "metadata": {},
     "execution_count": 13
    }
   ],
   "source": [
    "# Exibe as linhas iniciais da base de teste\n",
    "bc4chemd_test.head()"
   ]
  },
  {
   "cell_type": "markdown",
   "metadata": {},
   "source": [
    "## 3.2. Procurando por Dados Faltantes"
   ]
  },
  {
   "cell_type": "code",
   "execution_count": 14,
   "metadata": {},
   "outputs": [
    {
     "output_type": "stream",
     "name": "stdout",
     "text": [
      "Valores faltantes na base de treino:\n-------------------------------------\nword    95\ntag      0\ndtype: int64\n\nValores faltantes na base de teste:\n-------------------------------------\nword    20\ntag      0\ndtype: int64\n"
     ]
    }
   ],
   "source": [
    "# Verifica se há missing values na base de treino\n",
    "print('Valores faltantes na base de treino:' , '-' * 37, bc4chemd_train.isna().sum(), sep='\\n', end='\\n\\n')\n",
    "\n",
    "# Verifica se há missing values na base de test\n",
    "print('Valores faltantes na base de teste:', '-' * 37, bc4chemd_test.isna().sum(), sep='\\n')"
   ]
  },
  {
   "cell_type": "code",
   "execution_count": 15,
   "metadata": {},
   "outputs": [
    {
     "output_type": "stream",
     "name": "stdout",
     "text": [
      "A base de treino possui 1,781,395 linas e 2 colunas\nA base de teste possui 767,616 linnas e 2 colunas\n"
     ]
    }
   ],
   "source": [
    "# Remove dados faltantes da base de treino e teste\n",
    "bc4chemd_train.dropna(inplace=True)\n",
    "bc4chemd_test.dropna(inplace=True)\n",
    "\n",
    "# Sanity check\n",
    "print(f'A base de treino possui {bc4chemd_train.shape[0]:,} linas e {bc4chemd_train.shape[1]:,} colunas')\n",
    "print(f'A base de teste possui {bc4chemd_test.shape[0]:,} linnas e {bc4chemd_test.shape[1]:,} colunas')"
   ]
  },
  {
   "cell_type": "markdown",
   "metadata": {},
   "source": [
    "## 4. Criação dos arquivos para treinamento do modelo por meio do spaCy\n",
    "---\n",
    "Na versão mais recente do spaCy, a transformação de arquivos para o formato `.spacy` é feita via linha de comando.   \n",
    "É necessario um arquivo `config.cfg` para se utilizar a linha de comando do spaCy.    \n",
    "Esse arquivo pode ser criado [aqui](https://spacy.io/usage/training#quickstart).    \n",
    "Daí, basta clicar no ícone de download, salvar o arquivo na pasta do projeto e executar a seguinte linha de comando:\n",
    "```bash\n",
    "$ python -m spacy init fill-config base_config.cfg config.cfg\n",
    "```\n",
    "\n",
    "#### 4.1. Exibição no _prompt_ após execução da linha de comando acima:\n",
    "<img src=\"assets/config.PNG\" width=60%>\n",
    "\n",
    "#### 4.2. As configurações por mim escolhidas: \n",
    "\n",
    "\n",
    "<img src=\"assets/quickstart.png\" width=70%>\n"
   ]
  },
  {
   "cell_type": "markdown",
   "metadata": {},
   "source": [
    "Se tentarmos gerar os arquivos `.spacy` utilizando somente as _tags_ IOB, será gerado um erro.   \n",
    "É preciso completar a _tag_ para o __I__ e o __B__.   \n",
    "Utilizaremos a _tag_ disponível na tabela encaminhada pelo professor Cristian."
   ]
  },
  {
   "cell_type": "code",
   "execution_count": 16,
   "metadata": {},
   "outputs": [],
   "source": [
    "bc2gm_train['tag'].replace({'I': 'I-DRUG-PROTEIN', 'B': 'B-DRUG-PROTEIN'}, inplace=True)\n",
    "bc2gm_test['tag'].replace({'I': 'I-DRUG-PROTEIN', 'B': 'B-DRUG-PROTEIN'}, inplace=True)\n",
    "\n",
    "bc4chemd_train['tag'].replace({'I': 'I-CHEMICALS', 'B': 'B-CHEMICALS'}, inplace=True)\n",
    "bc4chemd_test['tag'].replace({'I': 'I-CHEMICALS', 'B': 'B-CHEMICALS'}, inplace=True)"
   ]
  },
  {
   "cell_type": "code",
   "execution_count": 17,
   "metadata": {},
   "outputs": [
    {
     "output_type": "stream",
     "name": "stdout",
     "text": [
      "['O' 'B-DRUG-PROTEIN' 'I-DRUG-PROTEIN']\n['O' 'B-DRUG-PROTEIN' 'I-DRUG-PROTEIN']\n['O' 'B-CHEMICALS' 'I-CHEMICALS']\n['O' 'B-CHEMICALS' 'I-CHEMICALS']\n"
     ]
    }
   ],
   "source": [
    "print(bc2gm_train['tag'].unique(), bc2gm_test['tag'].unique(), bc4chemd_train['tag'].unique(), bc4chemd_test['tag'].unique(), sep='\\n')"
   ]
  },
  {
   "cell_type": "code",
   "execution_count": 18,
   "metadata": {},
   "outputs": [
    {
     "output_type": "stream",
     "name": "stdout",
     "text": [
      "A base de dados gerada para treino posssui 2.207.816 linhas e 2 colunas\nA base de dados gerada para teste possui 878.031 linhas e 2 colunas\n"
     ]
    }
   ],
   "source": [
    "# Base de dados reduzida, somente para exemplificação\n",
    "train = pd.concat([bc2gm_train, bc4chemd_train])\n",
    "# test = pd.concat([bc2gm_test, bc4chemd_test])\n",
    "test = pd.concat([bc2gm_test, bc4chemd_test])\n",
    "\n",
    "\n",
    "print(f'A base de dados gerada para treino posssui {train.shape[0]:,} linhas e {train.shape[1]:,} colunas'.replace(',', '.'))\n",
    "print(f'A base de dados gerada para teste possui {test.shape[0]:,} linhas e {test.shape[1]:,} colunas'.replace(',', '.'))"
   ]
  },
  {
   "cell_type": "code",
   "execution_count": 19,
   "metadata": {},
   "outputs": [
    {
     "output_type": "stream",
     "name": "stdout",
     "text": [
      "Quantidade de linhas que serão removidas: 39\n"
     ]
    },
    {
     "output_type": "execute_result",
     "data": {
      "text/plain": [
       "                                                    word tag\n",
       "10012                            \\tO\\ntranscription\\tO\\n   O\n",
       "18862                               \\tO\\nequivalent\\tO\\n   O\n",
       "20405                        \\tO\\nUp\\tO\\nand\\tO\\nGo\\tO\\n   O\n",
       "22266            \\tO\\nMudzez\\tO\\nal\\tO\\n-\\tO\\nKanum\\tO\\n   O\n",
       "22289  \\tO\\nBibliografija\\tO\\nmedicinskih\\tO\\ndjela\\t...   O"
      ],
      "text/html": "<div>\n<style scoped>\n    .dataframe tbody tr th:only-of-type {\n        vertical-align: middle;\n    }\n\n    .dataframe tbody tr th {\n        vertical-align: top;\n    }\n\n    .dataframe thead th {\n        text-align: right;\n    }\n</style>\n<table border=\"1\" class=\"dataframe\">\n  <thead>\n    <tr style=\"text-align: right;\">\n      <th></th>\n      <th>word</th>\n      <th>tag</th>\n    </tr>\n  </thead>\n  <tbody>\n    <tr>\n      <th>10012</th>\n      <td>\\tO\\ntranscription\\tO\\n</td>\n      <td>O</td>\n    </tr>\n    <tr>\n      <th>18862</th>\n      <td>\\tO\\nequivalent\\tO\\n</td>\n      <td>O</td>\n    </tr>\n    <tr>\n      <th>20405</th>\n      <td>\\tO\\nUp\\tO\\nand\\tO\\nGo\\tO\\n</td>\n      <td>O</td>\n    </tr>\n    <tr>\n      <th>22266</th>\n      <td>\\tO\\nMudzez\\tO\\nal\\tO\\n-\\tO\\nKanum\\tO\\n</td>\n      <td>O</td>\n    </tr>\n    <tr>\n      <th>22289</th>\n      <td>\\tO\\nBibliografija\\tO\\nmedicinskih\\tO\\ndjela\\t...</td>\n      <td>O</td>\n    </tr>\n  </tbody>\n</table>\n</div>"
     },
     "metadata": {},
     "execution_count": 19
    }
   ],
   "source": [
    "# Remove dados que impedem a conversão dos arquivos\n",
    "pattern = r'\\b\\t\\w*'\n",
    "mask = test['word'].str.contains(pattern, regex=True)\n",
    "print('Quantidade de linhas que serão removidas:', test[mask].shape[0])\n",
    "test[mask].head()"
   ]
  },
  {
   "cell_type": "code",
   "execution_count": 20,
   "metadata": {},
   "outputs": [
    {
     "output_type": "stream",
     "name": "stdout",
     "text": [
      "A base de dados gerada para treino posssui 2.207.816 linhas e 2 colunas\nA base de dados gerada para teste possui 877.992 linhas e 2 colunas\n"
     ]
    }
   ],
   "source": [
    "test = test[mask == False].copy()\n",
    "\n",
    "print(f'A base de dados gerada para treino posssui {train.shape[0]:,} linhas e {train.shape[1]:,} colunas'.replace(',', '.'))\n",
    "print(f'A base de dados gerada para teste possui {test.shape[0]:,} linhas e {test.shape[1]:,} colunas'.replace(',', '.'))"
   ]
  },
  {
   "cell_type": "code",
   "execution_count": 21,
   "metadata": {},
   "outputs": [
    {
     "output_type": "stream",
     "name": "stdout",
     "text": [
      "['O' 'B-DRUG-PROTEIN' 'I-DRUG-PROTEIN' 'B-CHEMICALS' 'I-CHEMICALS']\n['O' 'B-DRUG-PROTEIN' 'I-DRUG-PROTEIN' 'B-CHEMICALS' 'I-CHEMICALS']\n"
     ]
    }
   ],
   "source": [
    "print(train['tag'].unique(), test['tag'].unique(), sep='\\n')"
   ]
  },
  {
   "cell_type": "markdown",
   "metadata": {},
   "source": [
    "## 5. Salvando os arquivos pré-processados"
   ]
  },
  {
   "cell_type": "code",
   "execution_count": 22,
   "metadata": {},
   "outputs": [],
   "source": [
    "train.to_csv('./datasets/spacy/train.iob', sep='\\t', header=0, index=0)\n",
    "test.to_csv('./datasets/spacy/test.iob', sep='\\t', header=0, index=0)"
   ]
  },
  {
   "cell_type": "code",
   "execution_count": 23,
   "metadata": {},
   "outputs": [
    {
     "output_type": "execute_result",
     "data": {
      "text/plain": [
       "O                 2033271\n",
       "I-CHEMICALS         70786\n",
       "B-CHEMICALS         58964\n",
       "I-DRUG-PROTEIN      26537\n",
       "B-DRUG-PROTEIN      18258\n",
       "Name: tag, dtype: int64"
      ]
     },
     "metadata": {},
     "execution_count": 23
    }
   ],
   "source": [
    "pd.read_csv('./datasets/spacy/train.iob', sep='\\t', names=['word', 'tag'])['tag'].value_counts(dropna=False)"
   ]
  },
  {
   "cell_type": "code",
   "execution_count": 24,
   "metadata": {},
   "outputs": [
    {
     "output_type": "execute_result",
     "data": {
      "text/plain": [
       "O                 811549\n",
       "I-CHEMICALS        29642\n",
       "B-CHEMICALS        25346\n",
       "I-DRUG-PROTEIN      6691\n",
       "B-DRUG-PROTEIN      4764\n",
       "Name: tag, dtype: int64"
      ]
     },
     "metadata": {},
     "execution_count": 24
    }
   ],
   "source": [
    "pd.read_csv('./datasets/spacy/test.iob', sep='\\t', names=['word', 'tag'])['tag'].value_counts(dropna=False)"
   ]
  },
  {
   "cell_type": "markdown",
   "metadata": {},
   "source": [
    "## 6. Convertendo os arquivos `.iob` para o formato `.spacy`\n",
    "---\n",
    "Utilizaremos o exemplo disponível no [GitHub do spaCy](https://github.com/explosion/spaCy/tree/master/extra/example_data/ner_example_data)\n",
    "\n",
    "```bash\n",
    "$ python -m spacy convert -c iob -s -n 10 -b en_core_web_sm file.iob .\n",
    "```\n",
    "\n",
    "**Obs.:** Removemos a opção `-b en_core_web_sm` pois o modelo não estava convergindo com essa opção\n",
    "\n",
    "Salvaremos os arquivos convertidos em um diretório chamado _datasets/spacy_:\n",
    "```python\n",
    "# Converte o arquivo contendo a base de treino\n",
    "$ python -m spacy convert -c iob -s -n 10 ./datasets/spacy/train.iob ./datasets/spacy\n",
    "\n",
    "# Converte o arquivo contendo a base de test\n",
    "$ python -m spacy convert -c iob -s -n 10 ./datasets/spacy/test.iob ./datasets/spacy\n",
    "```\n",
    "\n",
    "#### Saída no _prompt_ de comando:\n",
    "\n",
    "<img src=\"./assets/iob_para_spacy.png\" width=60%>\n",
    "\n",
    "```python\n",
    "# Converte o arquivo contendo a base de test\n",
    "$ python -m spacy debug data config.cfg\n",
    "```\n",
    "#### Saída no _prompt_ de comando :\n",
    "\n",
    "<img src=\"./assets/consistencia_arquivos.png\" width=50%>"
   ]
  },
  {
   "cell_type": "markdown",
   "metadata": {},
   "source": [
    "## 7. Treinamento e Validação do modelo\n",
    "---\n",
    "Utilizando o template disponível em [Quickstart](https://spacy.io/usage/training#quickstart)\n",
    "\n",
    "```bash\n",
    "$ python -m spacy train config.cfg --output ./output --paths.train ./train.spacy --paths.dev ./dev.spacy\n",
    "```\n",
    "\n",
    "Para selecionar a GPU usamos a opção `--gpu-id`:\n",
    "```bash\n",
    "$ python -m spacy train config.cfg --gpu-id 0\n",
    "```\n",
    "\n",
    "Nossa linha de comando para treinamento e validação do modelo:\n",
    "\n",
    "```bash\n",
    "$ python -m spacy train config.cfg --gpu-id 0 --output ./datasets/spacy --paths.train ./datasets/spacy/train.spacy --paths.dev ./datasets/spacy/test.spacy\n",
    "```\n",
    "\n",
    "#### Saída no _prompt_ de comando:\n",
    "\n",
    "<img src=\"./assets/treinamento.png\" width=60%>\n",
    "\n"
   ]
  },
  {
   "cell_type": "markdown",
   "metadata": {},
   "source": [
    "## 8. Inferência"
   ]
  },
  {
   "cell_type": "code",
   "execution_count": 25,
   "metadata": {},
   "outputs": [
    {
     "output_type": "execute_result",
     "data": {
      "text/plain": [
       "         date                                              title  \\\n",
       "0  2020-03-19          Nets' Access to COVID-19 Tests Questioned   \n",
       "1    March 14       Ireland Announces Second Death From COVID-19   \n",
       "2     March 6  England to Register COVID-19 as 'Notifiable Di...   \n",
       "3    March 18  Lakers Reportedly Under Quarantine, Will Test ...   \n",
       "4    March 17  Factbox: COVID-19 and the New Coronavirus-Fact...   \n",
       "\n",
       "         category                                               body  \\\n",
       "0  Pro Basketball  New York Mayor Bill de Blasio is among those q...   \n",
       "1          Europe  A second patient has died of the COVID-19 viru...   \n",
       "2          Europe  England will formally register COVID-19, a dis...   \n",
       "3  Pro Basketball  Members of the Los Angeles Lakers are under qu...   \n",
       "4          Europe  Social media is awash with myths about how peo...   \n",
       "\n",
       "       source  \n",
       "0  By Reuters  \n",
       "1  By Reuters  \n",
       "2  By Reuters  \n",
       "3  By Reuters  \n",
       "4  By Reuters  "
      ],
      "text/html": "<div>\n<style scoped>\n    .dataframe tbody tr th:only-of-type {\n        vertical-align: middle;\n    }\n\n    .dataframe tbody tr th {\n        vertical-align: top;\n    }\n\n    .dataframe thead th {\n        text-align: right;\n    }\n</style>\n<table border=\"1\" class=\"dataframe\">\n  <thead>\n    <tr style=\"text-align: right;\">\n      <th></th>\n      <th>date</th>\n      <th>title</th>\n      <th>category</th>\n      <th>body</th>\n      <th>source</th>\n    </tr>\n  </thead>\n  <tbody>\n    <tr>\n      <th>0</th>\n      <td>2020-03-19</td>\n      <td>Nets' Access to COVID-19 Tests Questioned</td>\n      <td>Pro Basketball</td>\n      <td>New York Mayor Bill de Blasio is among those q...</td>\n      <td>By Reuters</td>\n    </tr>\n    <tr>\n      <th>1</th>\n      <td>March 14</td>\n      <td>Ireland Announces Second Death From COVID-19</td>\n      <td>Europe</td>\n      <td>A second patient has died of the COVID-19 viru...</td>\n      <td>By Reuters</td>\n    </tr>\n    <tr>\n      <th>2</th>\n      <td>March 6</td>\n      <td>England to Register COVID-19 as 'Notifiable Di...</td>\n      <td>Europe</td>\n      <td>England will formally register COVID-19, a dis...</td>\n      <td>By Reuters</td>\n    </tr>\n    <tr>\n      <th>3</th>\n      <td>March 18</td>\n      <td>Lakers Reportedly Under Quarantine, Will Test ...</td>\n      <td>Pro Basketball</td>\n      <td>Members of the Los Angeles Lakers are under qu...</td>\n      <td>By Reuters</td>\n    </tr>\n    <tr>\n      <th>4</th>\n      <td>March 17</td>\n      <td>Factbox: COVID-19 and the New Coronavirus-Fact...</td>\n      <td>Europe</td>\n      <td>Social media is awash with myths about how peo...</td>\n      <td>By Reuters</td>\n    </tr>\n  </tbody>\n</table>\n</div>"
     },
     "metadata": {},
     "execution_count": 25
    }
   ],
   "source": [
    "# Carrega base de dados\n",
    "corona_dataset = pd.read_csv('./datasets/corona_dataset.csv')\n",
    "\n",
    "# Remove colunas sem desnecessárias\n",
    "corona_dataset.drop(['Unnamed: 0', 'Unnamed: 0.1'], axis='columns', inplace=True)\n",
    "\n",
    "# Remove dados faltantes\n",
    "corona_dataset.dropna(inplace=True)\n",
    "\n",
    "# Exibe as linhas inicias da base de dados\n",
    "corona_dataset.head()"
   ]
  },
  {
   "cell_type": "code",
   "execution_count": 26,
   "metadata": {},
   "outputs": [],
   "source": [
    "corpus = ' '.join(corona_dataset['body'])\n",
    "\n",
    "# Carrega o modelo customizado e cria um objeto nlp\n",
    "nlp = spacy.load('./datasets/spacy/model-best')\n",
    "\n",
    "# Processa o texto\n",
    "doc = nlp(corpus)"
   ]
  },
  {
   "cell_type": "code",
   "execution_count": 27,
   "metadata": {},
   "outputs": [
    {
     "output_type": "stream",
     "name": "stdout",
     "text": [
      "outlets               CHEMICALS\nIndonesian            CHEMICALS\nSaturday              CHEMICALS\n”                     CHEMICALS\n”                     CHEMICALS\ncharities             CHEMICALS\nATP                   CHEMICALS\nWTA                   CHEMICALS\nbusiness              CHEMICALS\nhotels                CHEMICALS\nU. A                  CHEMICALS\nATP                   CHEMICALS\nCo                    CHEMICALS\nCo                    CHEMICALS\n”                     CHEMICALS\ncoronavirus           CHEMICALS\ncancel                CHEMICALS\nsaying                CHEMICALS\nrugby                 CHEMICALS\nCo                    CHEMICALS\nnitrogen dioxide      CHEMICALS\nSunday                CHEMICALS\nrevamp                CHEMICALS\nSunday                CHEMICALS\nsaying                CHEMICALS\ndeaths                CHEMICALS\nSunday                CHEMICALS\nEli                   CHEMICALS\nCo                    CHEMICALS\nCOVID-19              CHEMICALS\nsaying                CHEMICALS\ncoronavirus           CHEMICALS\nCOVID-19              CHEMICALS\nunintentionally       CHEMICALS\nSunday                CHEMICALS\nSunday                CHEMICALS\nEmissions             CHEMICALS\ncoronavirus           CHEMICALS\nSaturday              CHEMICALS\nvoter participation   CHEMICALS\nairline               CHEMICALS\ndeaths                CHEMICALS\ndeaths                CHEMICALS\ndeaths                CHEMICALS\ndeaths                CHEMICALS\ndeaths                CHEMICALS\nSaturday              CHEMICALS\ndeaths                CHEMICALS\n3,536                 CHEMICALS\ndeaths                CHEMICALS\n” A                   CHEMICALS\nalcohol               CHEMICALS\nYorker                CHEMICALS\nconcoctions           CHEMICALS\nSaturday              CHEMICALS\ncredit                CHEMICALS\nGoldman               CHEMICALS\nSunday closed         CHEMICALS\nfear                  CHEMICALS\nSaturday              CHEMICALS\ncoronavirus           CHEMICALS\ncoronavirus           CHEMICALS\nwaning                CHEMICALS\nuptick                CHEMICALS\nThursday              CHEMICALS\n6,566                 CHEMICALS\nUEFA                  CHEMICALS\nurge                  CHEMICALS\nflying                CHEMICALS\ndisembarking          CHEMICALS\nATP                   CHEMICALS\nWTA                   CHEMICALS\nSunday                CHEMICALS\nCo                    CHEMICALS\noutlets               CHEMICALS\nflying                CHEMICALS\ncredit                CHEMICALS\nCo                    CHEMICALS\n29,000                CHEMICALS\nscreenings            CHEMICALS\nessentials            CHEMICALS\nsaying                CHEMICALS\nCo                    CHEMICALS\nsaying                CHEMICALS\nCo                    CHEMICALS\nsaying                CHEMICALS\nHe                    CHEMICALS\nposts                 CHEMICALS\nsaying                CHEMICALS\nbrings                CHEMICALS\nbrings                CHEMICALS\nrented                CHEMICALS\n”                     CHEMICALS\nflood                 CHEMICALS\nSunday                CHEMICALS\nCo                    CHEMICALS\nSunday                CHEMICALS\nagree                 CHEMICALS\nSilver                CHEMICALS\npoignant              CHEMICALS\nsaying                CHEMICALS\nSunday                CHEMICALS\nFIFA                  CHEMICALS\nmarshal               CHEMICALS\nsaying                CHEMICALS\nresume                CHEMICALS\n”                     CHEMICALS\nFriday                CHEMICALS\n”                     CHEMICALS\n”                     CHEMICALS\nmarshal               CHEMICALS\nbooming               CHEMICALS\nSerie A               CHEMICALS\nsaying                CHEMICALS\n”                     CHEMICALS\n”  President          CHEMICALS\nFIFA                  CHEMICALS\nmarshal               CHEMICALS\nuntold                CHEMICALS\nuntold                CHEMICALS\nBNP                   CHEMICALS\nheadquarters          CHEMICALS\nplay games            CHEMICALS\nprimaries             CHEMICALS\nasylum                CHEMICALS\nrejected              CHEMICALS\nSaturday              CHEMICALS\nSaturday              CHEMICALS\nSaturday              CHEMICALS\nbrings                CHEMICALS\nThursday              CHEMICALS\nLloyds                CHEMICALS\nCo                    CHEMICALS\nsoaked                CHEMICALS\nShowtime              CHEMICALS\n”                     CHEMICALS\n2,500                 CHEMICALS\nairline               CHEMICALS\ncoronavirus           CHEMICALS\nSunday                CHEMICALS\ntakeout               CHEMICALS\nflying                CHEMICALS\nspending              CHEMICALS\nspending              CHEMICALS\nAustria               CHEMICALS\ncancel                CHEMICALS\nU. A                  CHEMICALS\nUConn                 CHEMICALS\ntenure                CHEMICALS\nTesla                 CHEMICALS\ncoronavirus           CHEMICALS\nsinking               CHEMICALS\nwife                  CHEMICALS\ncredit                CHEMICALS\nCo                    CHEMICALS\nCo                    CHEMICALS\nCo                    CHEMICALS\ncustomary             CHEMICALS\ncurtail               CHEMICALS\nagreed                CHEMICALS\nBNP                   CHEMICALS\nSunday                CHEMICALS\nrugby matches         CHEMICALS\ncredit                CHEMICALS\nIFC                   CHEMICALS\nessentials            CHEMICALS\nagreed                CHEMICALS\n”                     CHEMICALS\ncredit                CHEMICALS\noutlets               CHEMICALS\n”                     CHEMICALS\n”                     CHEMICALS\nSaturday              CHEMICALS\n”                     CHEMICALS\ndreaded               CHEMICALS\n”                     CHEMICALS\nelection-night        CHEMICALS\nUEFA                  CHEMICALS\nflagship tournament   CHEMICALS\nSunday                CHEMICALS\nbrings                CHEMICALS\n"
     ]
    }
   ],
   "source": [
    "for token in doc.ents:\n",
    "    print(f'{token.text:<20} {token.label_:>10}')"
   ]
  },
  {
   "cell_type": "code",
   "execution_count": 28,
   "metadata": {},
   "outputs": [
    {
     "output_type": "display_data",
     "data": {
      "text/plain": "<IPython.core.display.HTML object>",
      "text/html": "<span class=\"tex2jax_ignore\"><div class=\"entities\" style=\"line-height: 2.5; direction: ltr\">New York Mayor Bill de Blasio is among those questioning how the Brooklyn Nets were able to test the team for coronavirus when others in his hard-hit city haven't had access to tests. A second patient has died of the COVID-19 virus in Ireland and the total number of confirmed cases in the country has increased to 129 from 90, the country's Chief Medical Officer Tony Holohan told journalists on Saturday.  England will formally register COVID-19, a disease caused by the new coronavirus, as &quot;notifiable&quot;, BBC reported on Wednesday. Members of the Los Angeles Lakers are under quarantine for 14 days and will be tested for COVID-19, multiple media \n<mark class=\"entity\" style=\"background: #ddd; padding: 0.45em 0.6em; margin: 0 0.25em; line-height: 1; border-radius: 0.35em;\">\n    outlets\n    <span style=\"font-size: 0.8em; font-weight: bold; line-height: 1; border-radius: 0.35em; vertical-align: middle; margin-left: 0.5rem\">CHEMICALS</span>\n</mark>\n reported Tuesday. Social media is awash with myths about how people might stop the new coronavirus or treat infection with COVID-19, the disease it causes. The World Health Organization said it had chosen a name for the disease that makes no reference to places, animals or people to avoid stigma. Italy and South Korea, two countries outside China that have been hard hit by the new coronavirus, have reported dramatically different numbers of deaths as a proportion of cases. Why are these not comparable? \n<mark class=\"entity\" style=\"background: #ddd; padding: 0.45em 0.6em; margin: 0 0.25em; line-height: 1; border-radius: 0.35em;\">\n    Indonesian\n    <span style=\"font-size: 0.8em; font-weight: bold; line-height: 1; border-radius: 0.35em; vertical-align: middle; margin-left: 0.5rem\">CHEMICALS</span>\n</mark>\n President Joko Widodo said on Monday the authorities were not now considering imposing a lockdown to tackle the coronavirus outbreak, as the leader, his wife and a number of ministers awaited the results of tests for the virus. U.S. President Donald Trump said that he is attending White House meetings on \n<mark class=\"entity\" style=\"background: #ddd; padding: 0.45em 0.6em; margin: 0 0.25em; line-height: 1; border-radius: 0.35em;\">\n    Saturday\n    <span style=\"font-size: 0.8em; font-weight: bold; line-height: 1; border-radius: 0.35em; vertical-align: middle; margin-left: 0.5rem\">CHEMICALS</span>\n</mark>\n on the COVID-19 outbreak caused by the coronavirus and would issue a &quot;full report later.&quot; The World Health Organization’s chief launched a global fund on Friday to raise money to help the world’s nations respond to the COVID-19 pandemic, saying “every dollar donated is a dollar towards saving lives.\n<mark class=\"entity\" style=\"background: #ddd; padding: 0.45em 0.6em; margin: 0 0.25em; line-height: 1; border-radius: 0.35em;\">\n    ”\n    <span style=\"font-size: 0.8em; font-weight: bold; line-height: 1; border-radius: 0.35em; vertical-align: middle; margin-left: 0.5rem\">CHEMICALS</span>\n</mark>\n </div></span>"
     },
     "metadata": {}
    }
   ],
   "source": [
    "spacy.displacy.render(doc[:332], style=\"ent\", jupyter=True)"
   ]
  },
  {
   "cell_type": "markdown",
   "metadata": {},
   "source": [
    "Referências:\n",
    "\n",
    "[SpaCy](https://spacy.io/)   \n",
    "[Building a custom NER model in Spacy v3.1](https://zachlim98.github.io/me/2021-03/spacy3-ner-tutorial)   \n",
    "[NER @ CLI: Custom-named entity recognition with spaCy in four lines](https://blog.codecentric.de/en/2020/11/ner-cli-custom-named-entity-recognition-with-spacy-in-four-lines/)   \n",
    "[Descubre Named Entity Recognition (NER) con Spacy 3.0 (en castellano)](https://nymiz.com/blog/tecnologia/que-es-el-named-entity-recognition-ner/)\n",
    "\n",
    "\n"
   ]
  },
  {
   "cell_type": "markdown",
   "metadata": {},
   "source": [
    "$ python -m spacy debug data config.cfg"
   ]
  }
 ],
 "metadata": {
  "kernelspec": {
   "name": "python392jvsc74a57bd0b419dce357d1543b5db504ca674002bc2aa1e6202dcde4408abb9a0fdecf948b",
   "display_name": "Python 3.9.2 64-bit ('spacy': conda)"
  },
  "language_info": {
   "codemirror_mode": {
    "name": "ipython",
    "version": 3
   },
   "file_extension": ".py",
   "mimetype": "text/x-python",
   "name": "python",
   "nbconvert_exporter": "python",
   "pygments_lexer": "ipython3",
   "version": "3.9.2"
  }
 },
 "nbformat": 4,
 "nbformat_minor": 4
}